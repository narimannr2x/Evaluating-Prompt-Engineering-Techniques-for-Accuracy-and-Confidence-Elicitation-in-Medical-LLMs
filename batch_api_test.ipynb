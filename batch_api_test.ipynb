{
 "cells": [
  {
   "cell_type": "markdown",
   "metadata": {},
   "source": [
    "## imports"
   ]
  },
  {
   "cell_type": "code",
   "execution_count": 1,
   "metadata": {},
   "outputs": [],
   "source": [
    "import pandas as pd\n",
    "import numpy as np\n",
    "import json\n",
    "import os\n",
    "import asyncio\n",
    "\n",
    "from typing import List, Dict\n",
    "from openai import OpenAI\n",
    "\n",
    "from prompts import prompts\n",
    "from pydantic_classes import FinalAnswer\n",
    "import pickle\n"
   ]
  },
  {
   "cell_type": "markdown",
   "metadata": {},
   "source": [
    "## initiates"
   ]
  },
  {
   "cell_type": "code",
   "execution_count": 2,
   "metadata": {},
   "outputs": [],
   "source": [
    "open_client = OpenAI(api_key=os.environ.get('OPENAI_API_KEY'))"
   ]
  },
  {
   "cell_type": "code",
   "execution_count": 3,
   "metadata": {},
   "outputs": [
    {
     "name": "stdout",
     "output_type": "stream",
     "text": [
      "Question:\n",
      "A 30-year-old woman with complaints of severe pleuritic chest pain has presented to the emergency department 3 days ago. The pain improves when sitting and worsens when lying down. What are the expected changes in the ECG?\n",
      "\n",
      "Options:\n",
      "Option 1: Downsloping ST segment in leads aVR and V1\n",
      "\n",
      "Option 2: Q wave in limb leads\n",
      "\n",
      "Option 3: Horizontal ST segment in leads V4-V6\n",
      "\n",
      "Option 4: Negative T wave along with elevated ST segment in leads V4-V6\n"
     ]
    }
   ],
   "source": [
    "sampled_df = pd.read_json('sampled_board.jsonl', lines=True, orient='records', encoding='utf-8')\n",
    "\n",
    "question_1 = sampled_df.loc[234,'translated_text']\n",
    "print(question_1)"
   ]
  },
  {
   "cell_type": "code",
   "execution_count": 4,
   "metadata": {},
   "outputs": [],
   "source": [
    "sampled_df_300 = sampled_df[:300]"
   ]
  },
  {
   "cell_type": "code",
   "execution_count": 5,
   "metadata": {},
   "outputs": [
    {
     "name": "stdout",
     "output_type": "stream",
     "text": [
      "270\n"
     ]
    }
   ],
   "source": [
    "tempratures = [0.3,0.7,1]\n",
    "models = [\"accounts/fireworks/models/llama-v3p1-8b-instruct\",'gpt-4o-2024-08-06',\"accounts/fireworks/models/deepseek-v3\",\"accounts/fireworks/models/llama-v3p3-70b-instruct\",\"o3-mini-2025-01-31\"]\n",
    "experiment_configs = []\n",
    "for model in models:\n",
    "    for temp in tempratures:\n",
    "        for prompt_name, prompt in prompts.items():\n",
    "\n",
    "            config = {\n",
    "                'model': model,\n",
    "                'temperature': temp,\n",
    "                'prompt': prompt_name\n",
    "            }\n",
    "            experiment_configs.append(config)\n",
    "\n",
    "print(len(experiment_configs))"
   ]
  },
  {
   "cell_type": "markdown",
   "metadata": {},
   "source": [
    "## functions"
   ]
  },
  {
   "cell_type": "code",
   "execution_count": 6,
   "metadata": {},
   "outputs": [
    {
     "name": "stdout",
     "output_type": "stream",
     "text": [
      "Model: o3-mini-2025-01-31, Temperature: 1, Prompt: few_shot_qual\n"
     ]
    }
   ],
   "source": [
    "\n",
    "def get_experiment_config(config_index):\n",
    "    conf = experiment_configs[config_index]\n",
    "    print(f\"Model: {conf.get('model')}, Temperature: {conf.get('temperature')}, Prompt: {conf.get('prompt')}\")\n",
    "    model = conf.get('model')\n",
    "    temperature = conf.get('temperature')  \n",
    "    prompt_name = conf.get('prompt')\n",
    "    final_name = f\"M_{model}_T_{temperature}_P_{prompt_name}\"\n",
    "    # print(final_name)\n",
    "    return model, temperature, prompt_name, final_name\n",
    "\n",
    "model, temperature, prompt_name, final_name = get_experiment_config(265)"
   ]
  },
  {
   "cell_type": "code",
   "execution_count": null,
   "metadata": {},
   "outputs": [],
   "source": [
    "def creat_tasks(model_name,model_temprature,model_prompt):\n",
    "    # Creating an array of json tasks\n",
    "    tasks = []\n",
    "\n",
    "    for index, row in sampled_df_300.iterrows():\n",
    "        \n",
    "        question_in_function = row['translated_text']\n",
    "        \n",
    "        task = {\n",
    "            \"custom_id\": f\"task-{index}\",\n",
    "            \"method\": \"POST\",\n",
    "            \"url\": \"/v1/chat/completions\",\n",
    "            \"body\": {\n",
    "                # This is what you would have in your Chat Completions API call\n",
    "                \"model\": model_name,\n",
    "                \"temperature\": model_temprature,\n",
    "                \"response_format\": {\"type\": \"json_schema\", \"json_schema\": {\"name\": \"medical_question_responsse\", \"schema\": {'properties': {'justification': {'description': 'every steps that stated in prompt which isnt final answer or confidence score',\n",
    "    'title': 'Justification',\n",
    "    'type': 'string'},\n",
    "    'final_answer': {'description': 'The numerical final answer value. it should be 1 or 2 or 3 or 4',\n",
    "    'title': 'Final Answer',\n",
    "    'type': 'integer'},\n",
    "    'confidence_score': {'description': 'A score indicating the confidence level of the final answer. from 1 to 10',\n",
    "    'title': 'Confidence Score',\n",
    "    'type': 'integer'}},\n",
    "    'required': ['justification', 'final_answer', 'confidence_score'],\n",
    "    'title': 'FinalAnswer',\n",
    "    'type': 'object',\n",
    "    'additionalProperties': False}, \"strict\": True}},\n",
    "                \"messages\": [\n",
    "                    {\n",
    "                        \"role\": \"user\",\n",
    "                        \"content\": prompts[model_prompt].format(medical_mcq=question_in_function)\n",
    "                    }\n",
    "                ]\n",
    "            }\n",
    "        }\n",
    "        \n",
    "        tasks.append(task)\n",
    "    return tasks"
   ]
  },
  {
   "cell_type": "code",
   "execution_count": 8,
   "metadata": {},
   "outputs": [],
   "source": [
    "def save_raw_jsonl(data, filename):\n",
    "    with open(filename, 'w') as file:\n",
    "        for obj in data:\n",
    "            file.write(json.dumps(obj) + '\\n')\n"
   ]
  },
  {
   "cell_type": "code",
   "execution_count": null,
   "metadata": {},
   "outputs": [],
   "source": []
  },
  {
   "cell_type": "code",
   "execution_count": 9,
   "metadata": {},
   "outputs": [],
   "source": [
    "\n",
    "\n",
    "def retrieve_the_batches(dictio):\n",
    "    for key, value in dictio.items():\n",
    "        print(f\"retrieving \")\n",
    "        batch_job_id = value['batch_job_id']\n",
    "        retrievd_batch_job = open_client.batches.retrieve(batch_job_id)\n",
    "        \n",
    "        if dictio.get(key).get('retrieved') == False or dictio.get(key).get('retrieved') == None:\n",
    "            print(f\"retrieving {key}\")\n",
    "            if retrievd_batch_job.status == 'completed':\n",
    "                print(\"completed\")\n",
    "                result_file_id = retrievd_batch_job.output_file_id\n",
    "                result = open_client.files.content(result_file_id).content\n",
    "                result_file_name = f\"saved/{key}.jsonl\"\n",
    "                with open(result_file_name, 'wb') as file:\n",
    "                    file.write(result)\n",
    "                print(f\"Saved {key} to {result_file_name}\")\n",
    "                dictio[key]['retrieved'] = True\n",
    "            else:\n",
    "                print(\"not completed\")\n",
    "                if f\"raw_jsonl/{key}.jsonl\" not in didnt_raw_json_path:\n",
    "                    didnt_raw_json_path.append(f\"raw_jsonl/{key}.jsonl\")\n",
    "                if f\"{key}\" not in didnt_raw_just_path:\n",
    "                    didnt_raw_just_path.append(f\"{key}\")\n",
    "                dictio[key]['retrieved'] = False\n",
    "        print(\"_________________________________________________________\")\n",
    "\n",
    "        \n",
    "\n",
    "\n",
    "        "
   ]
  },
  {
   "cell_type": "code",
   "execution_count": 10,
   "metadata": {},
   "outputs": [],
   "source": [
    "def dummy_retrieve_the_batches(dictio):\n",
    "    for key, value in dictio.items():\n",
    "        \n",
    "        if dictio.get(key).get('retrieved') == False or dictio.get(key).get('retrieved') == None:\n",
    "            print(\"not completed\")\n",
    "\n",
    "                \n",
    "        print(\"_________________________________________________________\")"
   ]
  },
  {
   "cell_type": "code",
   "execution_count": 11,
   "metadata": {},
   "outputs": [],
   "source": [
    "\n",
    "\n",
    "def retrieve_the_batches_o3(dictio):\n",
    "    for key, value in dictio.items():\n",
    "        if \"_T_1_P_\" in key:\n",
    "            print(f\"retrieving \")\n",
    "            batch_job_id = value['batch_job_id']\n",
    "            retrievd_batch_job = open_client.batches.retrieve(batch_job_id)\n",
    "            \n",
    "            if dictio.get(key).get('retrieved') == False or dictio.get(key).get('retrieved') == None:\n",
    "                print(f\"retrieving {key}\")\n",
    "                if retrievd_batch_job.status == 'completed':\n",
    "                    print(\"completed\")\n",
    "                    result_file_id = retrievd_batch_job.output_file_id\n",
    "                    result = open_client.files.content(result_file_id).content\n",
    "                    result_file_name = f\"saved_o3/{key}.jsonl\"\n",
    "                    with open(result_file_name, 'wb') as file:\n",
    "                        file.write(result)\n",
    "                    print(f\"Saved {key} to {result_file_name}\")\n",
    "                    dictio[key]['retrieved'] = True\n",
    "                else:\n",
    "                    print(\"not completed\")\n",
    "\n",
    "                    dictio[key]['retrieved'] = False\n",
    "            print(\"_________________________________________________________\")\n",
    "\n",
    "        \n",
    "\n",
    "\n",
    "        "
   ]
  },
  {
   "cell_type": "code",
   "execution_count": 12,
   "metadata": {},
   "outputs": [],
   "source": [
    "def save_dict_temp(dictio,i):\n",
    "    with open(f\"didnt_dict/dict_iter_{i}.pkl\", 'wb') as file:\n",
    "        pickle.dump(dictio, file)\n",
    "\n",
    "# with open('data.pkl', 'rb') as file:\n",
    "#     loaded_dict = pickle.load(file)"
   ]
  },
  {
   "cell_type": "code",
   "execution_count": 13,
   "metadata": {},
   "outputs": [],
   "source": [
    "\n",
    "def retrieve_the_didnt(dictio):\n",
    "    for key, value in dictio.items():\n",
    "        print(f\"retrieving \")\n",
    "        batch_job_id = value['batch_job_id']\n",
    "        retrievd_batch_job = open_client.batches.retrieve(batch_job_id)\n",
    "        \n",
    "        if dictio.get(key).get('retrieved') == False or dictio.get(key).get('retrieved') == None:\n",
    "            print(f\"retrieving {key}\")\n",
    "            if retrievd_batch_job.status == 'completed':\n",
    "                print(\"completed\")\n",
    "                result_file_id = retrievd_batch_job.output_file_id\n",
    "                result = open_client.files.content(result_file_id).content\n",
    "                result_file_name = f\"saved_didnt/{key}.jsonl\"\n",
    "                with open(result_file_name, 'wb') as file:\n",
    "                    file.write(result)\n",
    "                print(f\"Saved {key} to {result_file_name}\")\n",
    "                dictio[key]['retrieved'] = True\n",
    "            else:\n",
    "                print(\"not completed\")\n",
    "                # if f\"raw_jsonl/{key}.jsonl\" not in didnt_raw_json_path:\n",
    "                #     didnt_raw_json_path.append(f\"raw_jsonl/{key}.jsonl\")\n",
    "                # if f\"{key}\" not in didnt_raw_just_path:\n",
    "                #     didnt_raw_just_path.append(f\"{key}\")\n",
    "                dictio[key]['retrieved'] = False\n",
    "        print(\"_________________________________________________________\")"
   ]
  },
  {
   "cell_type": "markdown",
   "metadata": {},
   "source": [
    "## pipeline"
   ]
  },
  {
   "cell_type": "code",
   "execution_count": 14,
   "metadata": {},
   "outputs": [],
   "source": [
    "didnt_batches_dict = {}"
   ]
  },
  {
   "cell_type": "code",
   "execution_count": 16,
   "metadata": {},
   "outputs": [],
   "source": [
    "## load from a pkl file\n",
    "with open(r'didnt_dict\\dict_iter_107.pkl', 'rb') as file:\n",
    "    didnt_batches_dict = pickle.load(file)"
   ]
  },
  {
   "cell_type": "code",
   "execution_count": 17,
   "metadata": {},
   "outputs": [
    {
     "data": {
      "text/plain": [
       "{'M_gpt-4o-2024-08-06_T_0.7_P_roleplay_10': {'raw_file_name': 'M_gpt-4o-2024-08-06_T_0.7_P_roleplay_10',\n",
       "  'batch_file': FileObject(id='file-Xi1SduVPMVRoa7mie6Co5t', bytes=659678, created_at=1738609436, filename='M_gpt-4o-2024-08-06_T_0.7_P_roleplay_10.jsonl', object='file', purpose='batch', status='processed', status_details=None),\n",
       "  'batch_job': Batch(id='batch_67a1131d38a48190bef2eab1db750076', completion_window='24h', created_at=1738609437, endpoint='/v1/chat/completions', input_file_id='file-Xi1SduVPMVRoa7mie6Co5t', object='batch', status='validating', cancelled_at=None, cancelling_at=None, completed_at=None, error_file_id=None, errors=None, expired_at=None, expires_at=1738695837, failed_at=None, finalizing_at=None, in_progress_at=None, metadata=None, output_file_id=None, request_counts=BatchRequestCounts(completed=0, failed=0, total=0)),\n",
       "  'batch_job_id': 'batch_67a1131d38a48190bef2eab1db750076'},\n",
       " 'M_gpt-4o-2024-08-06_T_0.7_P_cot_fewshot_100': {'raw_file_name': 'M_gpt-4o-2024-08-06_T_0.7_P_cot_fewshot_100',\n",
       "  'batch_file': FileObject(id='file-GzGRefw2kSaLqAdu9vxJCy', bytes=1367678, created_at=1738609461, filename='M_gpt-4o-2024-08-06_T_0.7_P_cot_fewshot_100.jsonl', object='file', purpose='batch', status='processed', status_details=None),\n",
       "  'batch_job': Batch(id='batch_67a1133704808190863858e39475a126', completion_window='24h', created_at=1738609463, endpoint='/v1/chat/completions', input_file_id='file-GzGRefw2kSaLqAdu9vxJCy', object='batch', status='validating', cancelled_at=None, cancelling_at=None, completed_at=None, error_file_id=None, errors=None, expired_at=None, expires_at=1738695863, failed_at=None, finalizing_at=None, in_progress_at=None, metadata=None, output_file_id=None, request_counts=BatchRequestCounts(completed=0, failed=0, total=0)),\n",
       "  'batch_job_id': 'batch_67a1133704808190863858e39475a126'},\n",
       " 'M_gpt-4o-2024-08-06_T_0.7_P_cot_fewshot_qual': {'raw_file_name': 'M_gpt-4o-2024-08-06_T_0.7_P_cot_fewshot_qual',\n",
       "  'batch_file': FileObject(id='file-DNrVxZZNB9XtDBz96Ghxhq', bytes=1427678, created_at=1738609476, filename='M_gpt-4o-2024-08-06_T_0.7_P_cot_fewshot_qual.jsonl', object='file', purpose='batch', status='processed', status_details=None),\n",
       "  'batch_job': Batch(id='batch_67a1134519e0819098b8b65e4c1acbee', completion_window='24h', created_at=1738609477, endpoint='/v1/chat/completions', input_file_id='file-DNrVxZZNB9XtDBz96Ghxhq', object='batch', status='validating', cancelled_at=None, cancelling_at=None, completed_at=None, error_file_id=None, errors=None, expired_at=None, expires_at=1738695877, failed_at=None, finalizing_at=None, in_progress_at=None, metadata=None, output_file_id=None, request_counts=BatchRequestCounts(completed=0, failed=0, total=0)),\n",
       "  'batch_job_id': 'batch_67a1134519e0819098b8b65e4c1acbee'},\n",
       " 'M_gpt-4o-2024-08-06_T_1_P_cot_fewshot_10': {'raw_file_name': 'M_gpt-4o-2024-08-06_T_1_P_cot_fewshot_10',\n",
       "  'batch_file': FileObject(id='file-RVrvX1j5cQsBrmWVtRmS83', bytes=1364078, created_at=1738609490, filename='M_gpt-4o-2024-08-06_T_1_P_cot_fewshot_10.jsonl', object='file', purpose='batch', status='processed', status_details=None),\n",
       "  'batch_job': Batch(id='batch_67a11353f0888190be3413f7bea97217', completion_window='24h', created_at=1738609492, endpoint='/v1/chat/completions', input_file_id='file-RVrvX1j5cQsBrmWVtRmS83', object='batch', status='validating', cancelled_at=None, cancelling_at=None, completed_at=None, error_file_id=None, errors=None, expired_at=None, expires_at=1738695892, failed_at=None, finalizing_at=None, in_progress_at=None, metadata=None, output_file_id=None, request_counts=BatchRequestCounts(completed=0, failed=0, total=0)),\n",
       "  'batch_job_id': 'batch_67a11353f0888190be3413f7bea97217'},\n",
       " 'M_gpt-4o-2024-08-06_T_1_P_zeroshot_10': {'raw_file_name': 'M_gpt-4o-2024-08-06_T_1_P_zeroshot_10',\n",
       "  'batch_file': FileObject(id='file-9ZdXX96LPZ7aLn6GG82Phb', bytes=475178, created_at=1738609516, filename='M_gpt-4o-2024-08-06_T_1_P_zeroshot_10.jsonl', object='file', purpose='batch', status='processed', status_details=None),\n",
       "  'batch_job': Batch(id='batch_67a1136dd2b48190b5108bb7236da890', completion_window='24h', created_at=1738609518, endpoint='/v1/chat/completions', input_file_id='file-9ZdXX96LPZ7aLn6GG82Phb', object='batch', status='validating', cancelled_at=None, cancelling_at=None, completed_at=None, error_file_id=None, errors=None, expired_at=None, expires_at=1738695918, failed_at=None, finalizing_at=None, in_progress_at=None, metadata=None, output_file_id=None, request_counts=BatchRequestCounts(completed=0, failed=0, total=0)),\n",
       "  'batch_job_id': 'batch_67a1136dd2b48190b5108bb7236da890'},\n",
       " 'M_gpt-4o-2024-08-06_T_1_P_emotional_100': {'raw_file_name': 'M_gpt-4o-2024-08-06_T_1_P_emotional_100',\n",
       "  'batch_file': FileObject(id='file-XpMXK3TeSLg4ChyetiyihJ', bytes=732278, created_at=1738609524, filename='M_gpt-4o-2024-08-06_T_1_P_emotional_100.jsonl', object='file', purpose='batch', status='processed', status_details=None),\n",
       "  'batch_job': Batch(id='batch_67a113751eac8190bb8a1ee8180108e7', completion_window='24h', created_at=1738609525, endpoint='/v1/chat/completions', input_file_id='file-XpMXK3TeSLg4ChyetiyihJ', object='batch', status='validating', cancelled_at=None, cancelling_at=None, completed_at=None, error_file_id=None, errors=None, expired_at=None, expires_at=1738695925, failed_at=None, finalizing_at=None, in_progress_at=None, metadata=None, output_file_id=None, request_counts=BatchRequestCounts(completed=0, failed=0, total=0)),\n",
       "  'batch_job_id': 'batch_67a113751eac8190bb8a1ee8180108e7'},\n",
       " 'M_gpt-4o-2024-08-06_T_1_P_zeroshot_qual': {'raw_file_name': 'M_gpt-4o-2024-08-06_T_1_P_zeroshot_qual',\n",
       "  'batch_file': FileObject(id='file-5FcLwPuDZwr7wfMHr9SN34', bytes=484178, created_at=1738609529, filename='M_gpt-4o-2024-08-06_T_1_P_zeroshot_qual.jsonl', object='file', purpose='batch', status='processed', status_details=None),\n",
       "  'batch_job': Batch(id='batch_67a1137a78a881909485fb618222fc7a', completion_window='24h', created_at=1738609530, endpoint='/v1/chat/completions', input_file_id='file-5FcLwPuDZwr7wfMHr9SN34', object='batch', status='validating', cancelled_at=None, cancelling_at=None, completed_at=None, error_file_id=None, errors=None, expired_at=None, expires_at=1738695930, failed_at=None, finalizing_at=None, in_progress_at=None, metadata=None, output_file_id=None, request_counts=BatchRequestCounts(completed=0, failed=0, total=0)),\n",
       "  'batch_job_id': 'batch_67a1137a78a881909485fb618222fc7a'},\n",
       " 'M_gpt-4o-2024-08-06_T_1_P_emotional_qual': {'raw_file_name': 'M_gpt-4o-2024-08-06_T_1_P_emotional_qual',\n",
       "  'batch_file': FileObject(id='file-GSHLoDR5HuuMbrowGU55xD', bytes=740978, created_at=1738609536, filename='M_gpt-4o-2024-08-06_T_1_P_emotional_qual.jsonl', object='file', purpose='batch', status='processed', status_details=None),\n",
       "  'batch_job': Batch(id='batch_67a11381bf388190b9ac6c6070d92f18', completion_window='24h', created_at=1738609537, endpoint='/v1/chat/completions', input_file_id='file-GSHLoDR5HuuMbrowGU55xD', object='batch', status='validating', cancelled_at=None, cancelling_at=None, completed_at=None, error_file_id=None, errors=None, expired_at=None, expires_at=1738695937, failed_at=None, finalizing_at=None, in_progress_at=None, metadata=None, output_file_id=None, request_counts=BatchRequestCounts(completed=0, failed=0, total=0)),\n",
       "  'batch_job_id': 'batch_67a11381bf388190b9ac6c6070d92f18'}}"
      ]
     },
     "execution_count": 17,
     "metadata": {},
     "output_type": "execute_result"
    }
   ],
   "source": [
    "didnt_batches_dict"
   ]
  },
  {
   "cell_type": "code",
   "execution_count": 18,
   "metadata": {},
   "outputs": [
    {
     "name": "stdout",
     "output_type": "stream",
     "text": [
      "retrieving \n",
      "retrieving M_gpt-4o-2024-08-06_T_0.7_P_roleplay_10\n",
      "completed\n",
      "Saved M_gpt-4o-2024-08-06_T_0.7_P_roleplay_10 to saved_didnt/M_gpt-4o-2024-08-06_T_0.7_P_roleplay_10.jsonl\n",
      "_________________________________________________________\n",
      "retrieving \n",
      "retrieving M_gpt-4o-2024-08-06_T_0.7_P_cot_fewshot_100\n",
      "completed\n",
      "Saved M_gpt-4o-2024-08-06_T_0.7_P_cot_fewshot_100 to saved_didnt/M_gpt-4o-2024-08-06_T_0.7_P_cot_fewshot_100.jsonl\n",
      "_________________________________________________________\n",
      "retrieving \n",
      "retrieving M_gpt-4o-2024-08-06_T_0.7_P_cot_fewshot_qual\n",
      "completed\n",
      "Saved M_gpt-4o-2024-08-06_T_0.7_P_cot_fewshot_qual to saved_didnt/M_gpt-4o-2024-08-06_T_0.7_P_cot_fewshot_qual.jsonl\n",
      "_________________________________________________________\n",
      "retrieving \n",
      "retrieving M_gpt-4o-2024-08-06_T_1_P_cot_fewshot_10\n",
      "completed\n",
      "Saved M_gpt-4o-2024-08-06_T_1_P_cot_fewshot_10 to saved_didnt/M_gpt-4o-2024-08-06_T_1_P_cot_fewshot_10.jsonl\n",
      "_________________________________________________________\n",
      "retrieving \n",
      "retrieving M_gpt-4o-2024-08-06_T_1_P_zeroshot_10\n",
      "completed\n",
      "Saved M_gpt-4o-2024-08-06_T_1_P_zeroshot_10 to saved_didnt/M_gpt-4o-2024-08-06_T_1_P_zeroshot_10.jsonl\n",
      "_________________________________________________________\n",
      "retrieving \n",
      "retrieving M_gpt-4o-2024-08-06_T_1_P_emotional_100\n",
      "completed\n",
      "Saved M_gpt-4o-2024-08-06_T_1_P_emotional_100 to saved_didnt/M_gpt-4o-2024-08-06_T_1_P_emotional_100.jsonl\n",
      "_________________________________________________________\n",
      "retrieving \n",
      "retrieving M_gpt-4o-2024-08-06_T_1_P_zeroshot_qual\n",
      "completed\n",
      "Saved M_gpt-4o-2024-08-06_T_1_P_zeroshot_qual to saved_didnt/M_gpt-4o-2024-08-06_T_1_P_zeroshot_qual.jsonl\n",
      "_________________________________________________________\n",
      "retrieving \n",
      "retrieving M_gpt-4o-2024-08-06_T_1_P_emotional_qual\n",
      "completed\n",
      "Saved M_gpt-4o-2024-08-06_T_1_P_emotional_qual to saved_didnt/M_gpt-4o-2024-08-06_T_1_P_emotional_qual.jsonl\n",
      "_________________________________________________________\n"
     ]
    }
   ],
   "source": [
    "retrieve_the_didnt(didnt_batches_dict)"
   ]
  },
  {
   "cell_type": "code",
   "execution_count": 11,
   "metadata": {},
   "outputs": [],
   "source": [
    "batch_dict = {} "
   ]
  },
  {
   "cell_type": "code",
   "execution_count": 52,
   "metadata": {},
   "outputs": [],
   "source": [
    "batch_dict_o3_new = {}"
   ]
  },
  {
   "cell_type": "code",
   "execution_count": 88,
   "metadata": {},
   "outputs": [],
   "source": [
    "didnt_batches_dict = {}"
   ]
  },
  {
   "cell_type": "code",
   "execution_count": 93,
   "metadata": {},
   "outputs": [
    {
     "name": "stdout",
     "output_type": "stream",
     "text": [
      "Model: gpt-4o-2024-08-06, Temperature: 0.7, Prompt: emotional_10\n",
      "Model: gpt-4o-2024-08-06, Temperature: 0.7, Prompt: cot_100\n",
      "Model: gpt-4o-2024-08-06, Temperature: 0.7, Prompt: few_shot_100\n",
      "Model: gpt-4o-2024-08-06, Temperature: 0.7, Prompt: cot_fewshot_100\n",
      "DOING\n",
      "Model: gpt-4o-2024-08-06, Temperature: 0.7, Prompt: roleplay_100\n",
      "Model: gpt-4o-2024-08-06, Temperature: 0.7, Prompt: zeroshot_100\n",
      "Model: gpt-4o-2024-08-06, Temperature: 0.7, Prompt: emotional_100\n",
      "Model: gpt-4o-2024-08-06, Temperature: 0.7, Prompt: cot_qual\n",
      "Model: gpt-4o-2024-08-06, Temperature: 0.7, Prompt: few_shot_qual\n",
      "Model: gpt-4o-2024-08-06, Temperature: 0.7, Prompt: cot_fewshot_qual\n",
      "DOING\n",
      "Model: gpt-4o-2024-08-06, Temperature: 0.7, Prompt: roleplay_qual\n",
      "Model: gpt-4o-2024-08-06, Temperature: 0.7, Prompt: zeroshot_qual\n",
      "Model: gpt-4o-2024-08-06, Temperature: 0.7, Prompt: emotional_qual\n",
      "Model: gpt-4o-2024-08-06, Temperature: 1, Prompt: cot_10\n",
      "Model: gpt-4o-2024-08-06, Temperature: 1, Prompt: few_shot_10\n",
      "Model: gpt-4o-2024-08-06, Temperature: 1, Prompt: cot_fewshot_10\n",
      "DOING\n",
      "Model: gpt-4o-2024-08-06, Temperature: 1, Prompt: roleplay_10\n",
      "Model: gpt-4o-2024-08-06, Temperature: 1, Prompt: zeroshot_10\n",
      "DOING\n",
      "Model: gpt-4o-2024-08-06, Temperature: 1, Prompt: emotional_10\n",
      "Model: gpt-4o-2024-08-06, Temperature: 1, Prompt: cot_100\n",
      "Model: gpt-4o-2024-08-06, Temperature: 1, Prompt: few_shot_100\n",
      "Model: gpt-4o-2024-08-06, Temperature: 1, Prompt: cot_fewshot_100\n",
      "Model: gpt-4o-2024-08-06, Temperature: 1, Prompt: roleplay_100\n",
      "Model: gpt-4o-2024-08-06, Temperature: 1, Prompt: zeroshot_100\n",
      "Model: gpt-4o-2024-08-06, Temperature: 1, Prompt: emotional_100\n",
      "DOING\n",
      "Model: gpt-4o-2024-08-06, Temperature: 1, Prompt: cot_qual\n",
      "Model: gpt-4o-2024-08-06, Temperature: 1, Prompt: few_shot_qual\n",
      "Model: gpt-4o-2024-08-06, Temperature: 1, Prompt: cot_fewshot_qual\n",
      "Model: gpt-4o-2024-08-06, Temperature: 1, Prompt: roleplay_qual\n",
      "Model: gpt-4o-2024-08-06, Temperature: 1, Prompt: zeroshot_qual\n",
      "DOING\n",
      "Model: gpt-4o-2024-08-06, Temperature: 1, Prompt: emotional_qual\n",
      "DOING\n"
     ]
    }
   ],
   "source": [
    "for mamad in range(77,108):\n",
    "    model, temperature, prompt_name, final_name = get_experiment_config(mamad)\n",
    "    if final_name in didnt_raw_just_path:\n",
    "        print(\"DOING\")\n",
    "        tasks = creat_tasks(model,temperature,prompt_name)\n",
    "        final_file_name = fr\"raw_jsonl\\{final_name}.jsonl\"\n",
    "        save_raw_jsonl(tasks,final_file_name)\n",
    "        batch_file = open_client.files.create(file=open(final_file_name, \"rb\"),purpose=\"batch\")\n",
    "        batch_job = open_client.batches.create(input_file_id=batch_file.id,endpoint=\"/v1/chat/completions\",completion_window=\"24h\")\n",
    "        batch_job_id = batch_job.id\n",
    "        \n",
    "        didnt_batches_dict[final_name] = {\n",
    "            'raw_file_name': final_name,\n",
    "            'batch_file': batch_file,\n",
    "            'batch_job': batch_job,\n",
    "            'batch_job_id': batch_job_id\n",
    "        }\n",
    "        save_dict_temp(didnt_batches_dict,mamad)\n"
   ]
  },
  {
   "cell_type": "code",
   "execution_count": 23,
   "metadata": {},
   "outputs": [
    {
     "data": {
      "text/plain": [
       "'batch_67a0e5b4ee048190a1e554878316b9c5'"
      ]
     },
     "execution_count": 23,
     "metadata": {},
     "output_type": "execute_result"
    }
   ],
   "source": [
    "batch_dict['M_gpt-4o-2024-08-06_T_0.3_P_few_shot_qual']['batch_job_id']"
   ]
  },
  {
   "cell_type": "code",
   "execution_count": 94,
   "metadata": {},
   "outputs": [
    {
     "data": {
      "text/plain": [
       "{'M_o3-mini-2025-01-31_T_0.3_P_cot_10': {'raw_file_name': 'M_o3-mini-2025-01-31_T_0.3_P_cot_10',\n",
       "  'batch_file': FileObject(id='file-Hwy1RWDW4SsnfmDhZ7kcsY', bytes=778778, created_at=1738606280, filename='M_o3-mini-2025-01-31_T_0.3_P_cot_10.jsonl', object='file', purpose='batch', status='processed', status_details=None),\n",
       "  'batch_job': Batch(id='batch_67a106c952fc819083719273cb136745', completion_window='24h', created_at=1738606281, endpoint='/v1/chat/completions', input_file_id='file-Hwy1RWDW4SsnfmDhZ7kcsY', object='batch', status='validating', cancelled_at=None, cancelling_at=None, completed_at=None, error_file_id=None, errors=None, expired_at=None, expires_at=1738692681, failed_at=None, finalizing_at=None, in_progress_at=None, metadata=None, output_file_id=None, request_counts=BatchRequestCounts(completed=0, failed=0, total=0)),\n",
       "  'batch_job_id': 'batch_67a106c952fc819083719273cb136745'},\n",
       " 'M_o3-mini-2025-01-31_T_0.3_P_few_shot_10': {'raw_file_name': 'M_o3-mini-2025-01-31_T_0.3_P_few_shot_10',\n",
       "  'batch_file': FileObject(id='file-PHtffHnHv9vqArFcUPR812', bytes=945278, created_at=1738606290, filename='M_o3-mini-2025-01-31_T_0.3_P_few_shot_10.jsonl', object='file', purpose='batch', status='processed', status_details=None),\n",
       "  'batch_job': Batch(id='batch_67a106d37e1c8190aab0ba8015af9336', completion_window='24h', created_at=1738606291, endpoint='/v1/chat/completions', input_file_id='file-PHtffHnHv9vqArFcUPR812', object='batch', status='validating', cancelled_at=None, cancelling_at=None, completed_at=None, error_file_id=None, errors=None, expired_at=None, expires_at=1738692691, failed_at=None, finalizing_at=None, in_progress_at=None, metadata=None, output_file_id=None, request_counts=BatchRequestCounts(completed=0, failed=0, total=0)),\n",
       "  'batch_job_id': 'batch_67a106d37e1c8190aab0ba8015af9336'},\n",
       " 'M_o3-mini-2025-01-31_T_0.3_P_cot_fewshot_10': {'raw_file_name': 'M_o3-mini-2025-01-31_T_0.3_P_cot_fewshot_10',\n",
       "  'batch_file': FileObject(id='file-9iZWNoDRmvyMubcNMcrbd3', bytes=1364978, created_at=1738606304, filename='M_o3-mini-2025-01-31_T_0.3_P_cot_fewshot_10.jsonl', object='file', purpose='batch', status='processed', status_details=None),\n",
       "  'batch_job': Batch(id='batch_67a106e522408190bf8d96636c41473c', completion_window='24h', created_at=1738606309, endpoint='/v1/chat/completions', input_file_id='file-9iZWNoDRmvyMubcNMcrbd3', object='batch', status='validating', cancelled_at=None, cancelling_at=None, completed_at=None, error_file_id=None, errors=None, expired_at=None, expires_at=1738692709, failed_at=None, finalizing_at=None, in_progress_at=None, metadata=None, output_file_id=None, request_counts=BatchRequestCounts(completed=0, failed=0, total=0)),\n",
       "  'batch_job_id': 'batch_67a106e522408190bf8d96636c41473c'},\n",
       " 'M_o3-mini-2025-01-31_T_0.3_P_roleplay_10': {'raw_file_name': 'M_o3-mini-2025-01-31_T_0.3_P_roleplay_10',\n",
       "  'batch_file': FileObject(id='file-LMptoq2adQoCxoohNL1W1H', bytes=659978, created_at=1738606316, filename='M_o3-mini-2025-01-31_T_0.3_P_roleplay_10.jsonl', object='file', purpose='batch', status='processed', status_details=None),\n",
       "  'batch_job': Batch(id='batch_67a106ed1e0881908e64b27e059057f3', completion_window='24h', created_at=1738606317, endpoint='/v1/chat/completions', input_file_id='file-LMptoq2adQoCxoohNL1W1H', object='batch', status='validating', cancelled_at=None, cancelling_at=None, completed_at=None, error_file_id=None, errors=None, expired_at=None, expires_at=1738692717, failed_at=None, finalizing_at=None, in_progress_at=None, metadata=None, output_file_id=None, request_counts=BatchRequestCounts(completed=0, failed=0, total=0)),\n",
       "  'batch_job_id': 'batch_67a106ed1e0881908e64b27e059057f3'},\n",
       " 'M_o3-mini-2025-01-31_T_0.3_P_zeroshot_10': {'raw_file_name': 'M_o3-mini-2025-01-31_T_0.3_P_zeroshot_10',\n",
       "  'batch_file': FileObject(id='file-9AJrNedvH6cZzbaUShtxFM', bytes=476078, created_at=1738606321, filename='M_o3-mini-2025-01-31_T_0.3_P_zeroshot_10.jsonl', object='file', purpose='batch', status='processed', status_details=None),\n",
       "  'batch_job': Batch(id='batch_67a106f327788190a8cf9a05eb8a1b35', completion_window='24h', created_at=1738606323, endpoint='/v1/chat/completions', input_file_id='file-9AJrNedvH6cZzbaUShtxFM', object='batch', status='validating', cancelled_at=None, cancelling_at=None, completed_at=None, error_file_id=None, errors=None, expired_at=None, expires_at=1738692723, failed_at=None, finalizing_at=None, in_progress_at=None, metadata=None, output_file_id=None, request_counts=BatchRequestCounts(completed=0, failed=0, total=0)),\n",
       "  'batch_job_id': 'batch_67a106f327788190a8cf9a05eb8a1b35'},\n",
       " 'M_o3-mini-2025-01-31_T_0.3_P_emotional_10': {'raw_file_name': 'M_o3-mini-2025-01-31_T_0.3_P_emotional_10',\n",
       "  'batch_file': FileObject(id='file-QmuJGHd9bFMrd4jRtsPGz7', bytes=732878, created_at=1738606329, filename='M_o3-mini-2025-01-31_T_0.3_P_emotional_10.jsonl', object='file', purpose='batch', status='processed', status_details=None),\n",
       "  'batch_job': Batch(id='batch_67a106fadfc081909745c831d249120f', completion_window='24h', created_at=1738606330, endpoint='/v1/chat/completions', input_file_id='file-QmuJGHd9bFMrd4jRtsPGz7', object='batch', status='validating', cancelled_at=None, cancelling_at=None, completed_at=None, error_file_id=None, errors=None, expired_at=None, expires_at=1738692730, failed_at=None, finalizing_at=None, in_progress_at=None, metadata=None, output_file_id=None, request_counts=BatchRequestCounts(completed=0, failed=0, total=0)),\n",
       "  'batch_job_id': 'batch_67a106fadfc081909745c831d249120f'},\n",
       " 'M_o3-mini-2025-01-31_T_0.3_P_cot_100': {'raw_file_name': 'M_o3-mini-2025-01-31_T_0.3_P_cot_100',\n",
       "  'batch_file': FileObject(id='file-7R3Yg6xCNsRZLFj3wnS7uE', bytes=780578, created_at=1738606338, filename='M_o3-mini-2025-01-31_T_0.3_P_cot_100.jsonl', object='file', purpose='batch', status='processed', status_details=None),\n",
       "  'batch_job': Batch(id='batch_67a1070315f08190a69443fdbce9239a', completion_window='24h', created_at=1738606339, endpoint='/v1/chat/completions', input_file_id='file-7R3Yg6xCNsRZLFj3wnS7uE', object='batch', status='validating', cancelled_at=None, cancelling_at=None, completed_at=None, error_file_id=None, errors=None, expired_at=None, expires_at=1738692739, failed_at=None, finalizing_at=None, in_progress_at=None, metadata=None, output_file_id=None, request_counts=BatchRequestCounts(completed=0, failed=0, total=0)),\n",
       "  'batch_job_id': 'batch_67a1070315f08190a69443fdbce9239a'},\n",
       " 'M_o3-mini-2025-01-31_T_0.3_P_few_shot_100': {'raw_file_name': 'M_o3-mini-2025-01-31_T_0.3_P_few_shot_100',\n",
       "  'batch_file': FileObject(id='file-1SoirgTcSGdLm5ZmbgaD9v', bytes=946778, created_at=1738606347, filename='M_o3-mini-2025-01-31_T_0.3_P_few_shot_100.jsonl', object='file', purpose='batch', status='processed', status_details=None),\n",
       "  'batch_job': Batch(id='batch_67a1070cb8e4819093f4a3d83ff19292', completion_window='24h', created_at=1738606348, endpoint='/v1/chat/completions', input_file_id='file-1SoirgTcSGdLm5ZmbgaD9v', object='batch', status='validating', cancelled_at=None, cancelling_at=None, completed_at=None, error_file_id=None, errors=None, expired_at=None, expires_at=1738692748, failed_at=None, finalizing_at=None, in_progress_at=None, metadata=None, output_file_id=None, request_counts=BatchRequestCounts(completed=0, failed=0, total=0)),\n",
       "  'batch_job_id': 'batch_67a1070cb8e4819093f4a3d83ff19292'},\n",
       " 'M_o3-mini-2025-01-31_T_0.3_P_cot_fewshot_100': {'raw_file_name': 'M_o3-mini-2025-01-31_T_0.3_P_cot_fewshot_100',\n",
       "  'batch_file': FileObject(id='file-5CMN8CXRXfS4tvtBeFfWKb', bytes=1367978, created_at=1738606360, filename='M_o3-mini-2025-01-31_T_0.3_P_cot_fewshot_100.jsonl', object='file', purpose='batch', status='processed', status_details=None),\n",
       "  'batch_job': Batch(id='batch_67a10719c45081908dac1bff14638cf2', completion_window='24h', created_at=1738606361, endpoint='/v1/chat/completions', input_file_id='file-5CMN8CXRXfS4tvtBeFfWKb', object='batch', status='validating', cancelled_at=None, cancelling_at=None, completed_at=None, error_file_id=None, errors=None, expired_at=None, expires_at=1738692761, failed_at=None, finalizing_at=None, in_progress_at=None, metadata=None, output_file_id=None, request_counts=BatchRequestCounts(completed=0, failed=0, total=0)),\n",
       "  'batch_job_id': 'batch_67a10719c45081908dac1bff14638cf2'},\n",
       " 'M_o3-mini-2025-01-31_T_0.3_P_roleplay_100': {'raw_file_name': 'M_o3-mini-2025-01-31_T_0.3_P_roleplay_100',\n",
       "  'batch_file': FileObject(id='file-BwxDxP5Q4ZRbga8CNbvzLS', bytes=660278, created_at=1738606367, filename='M_o3-mini-2025-01-31_T_0.3_P_roleplay_100.jsonl', object='file', purpose='batch', status='processed', status_details=None),\n",
       "  'batch_job': Batch(id='batch_67a10720b1648190b246b70b98edcbfb', completion_window='24h', created_at=1738606368, endpoint='/v1/chat/completions', input_file_id='file-BwxDxP5Q4ZRbga8CNbvzLS', object='batch', status='validating', cancelled_at=None, cancelling_at=None, completed_at=None, error_file_id=None, errors=None, expired_at=None, expires_at=1738692768, failed_at=None, finalizing_at=None, in_progress_at=None, metadata=None, output_file_id=None, request_counts=BatchRequestCounts(completed=0, failed=0, total=0)),\n",
       "  'batch_job_id': 'batch_67a10720b1648190b246b70b98edcbfb'},\n",
       " 'M_o3-mini-2025-01-31_T_0.3_P_zeroshot_100': {'raw_file_name': 'M_o3-mini-2025-01-31_T_0.3_P_zeroshot_100',\n",
       "  'batch_file': FileObject(id='file-1cRzRRtwxVGYvokEuQSwth', bytes=476378, created_at=1738606373, filename='M_o3-mini-2025-01-31_T_0.3_P_zeroshot_100.jsonl', object='file', purpose='batch', status='processed', status_details=None),\n",
       "  'batch_job': Batch(id='batch_67a1072664108190b60db3973d0ac44a', completion_window='24h', created_at=1738606374, endpoint='/v1/chat/completions', input_file_id='file-1cRzRRtwxVGYvokEuQSwth', object='batch', status='validating', cancelled_at=None, cancelling_at=None, completed_at=None, error_file_id=None, errors=None, expired_at=None, expires_at=1738692774, failed_at=None, finalizing_at=None, in_progress_at=None, metadata=None, output_file_id=None, request_counts=BatchRequestCounts(completed=0, failed=0, total=0)),\n",
       "  'batch_job_id': 'batch_67a1072664108190b60db3973d0ac44a'},\n",
       " 'M_o3-mini-2025-01-31_T_0.3_P_emotional_100': {'raw_file_name': 'M_o3-mini-2025-01-31_T_0.3_P_emotional_100',\n",
       "  'batch_file': FileObject(id='file-Vt53swtvYHbBdSYBxrq7Fg', bytes=733178, created_at=1738606381, filename='M_o3-mini-2025-01-31_T_0.3_P_emotional_100.jsonl', object='file', purpose='batch', status='processed', status_details=None),\n",
       "  'batch_job': Batch(id='batch_67a1072dfd208190938f2d786e94fdcc', completion_window='24h', created_at=1738606382, endpoint='/v1/chat/completions', input_file_id='file-Vt53swtvYHbBdSYBxrq7Fg', object='batch', status='validating', cancelled_at=None, cancelling_at=None, completed_at=None, error_file_id=None, errors=None, expired_at=None, expires_at=1738692782, failed_at=None, finalizing_at=None, in_progress_at=None, metadata=None, output_file_id=None, request_counts=BatchRequestCounts(completed=0, failed=0, total=0)),\n",
       "  'batch_job_id': 'batch_67a1072dfd208190938f2d786e94fdcc'},\n",
       " 'M_o3-mini-2025-01-31_T_0.3_P_cot_qual': {'raw_file_name': 'M_o3-mini-2025-01-31_T_0.3_P_cot_qual',\n",
       "  'batch_file': FileObject(id='file-MFu4QPszRZFL6a4doq7fH8', bytes=852878, created_at=1738606389, filename='M_o3-mini-2025-01-31_T_0.3_P_cot_qual.jsonl', object='file', purpose='batch', status='processed', status_details=None),\n",
       "  'batch_job': Batch(id='batch_67a1073672e08190bc51e639cb2ed0c7', completion_window='24h', created_at=1738606390, endpoint='/v1/chat/completions', input_file_id='file-MFu4QPszRZFL6a4doq7fH8', object='batch', status='validating', cancelled_at=None, cancelling_at=None, completed_at=None, error_file_id=None, errors=None, expired_at=None, expires_at=1738692790, failed_at=None, finalizing_at=None, in_progress_at=None, metadata=None, output_file_id=None, request_counts=BatchRequestCounts(completed=0, failed=0, total=0)),\n",
       "  'batch_job_id': 'batch_67a1073672e08190bc51e639cb2ed0c7'},\n",
       " 'M_o3-mini-2025-01-31_T_0.3_P_few_shot_qual': {'raw_file_name': 'M_o3-mini-2025-01-31_T_0.3_P_few_shot_qual',\n",
       "  'batch_file': FileObject(id='file-HfpxmFfZtiVtydCiHnyAKR', bytes=955478, created_at=1738606398, filename='M_o3-mini-2025-01-31_T_0.3_P_few_shot_qual.jsonl', object='file', purpose='batch', status='processed', status_details=None),\n",
       "  'batch_job': Batch(id='batch_67a1073fe638819084c0b32a1ff42e80', completion_window='24h', created_at=1738606400, endpoint='/v1/chat/completions', input_file_id='file-HfpxmFfZtiVtydCiHnyAKR', object='batch', status='validating', cancelled_at=None, cancelling_at=None, completed_at=None, error_file_id=None, errors=None, expired_at=None, expires_at=1738692800, failed_at=None, finalizing_at=None, in_progress_at=None, metadata=None, output_file_id=None, request_counts=BatchRequestCounts(completed=0, failed=0, total=0)),\n",
       "  'batch_job_id': 'batch_67a1073fe638819084c0b32a1ff42e80'},\n",
       " 'M_o3-mini-2025-01-31_T_0.3_P_cot_fewshot_qual': {'raw_file_name': 'M_o3-mini-2025-01-31_T_0.3_P_cot_fewshot_qual',\n",
       "  'batch_file': FileObject(id='file-KkiBTmGUfnUzMshPRg3WY1', bytes=1427978, created_at=1738606412, filename='M_o3-mini-2025-01-31_T_0.3_P_cot_fewshot_qual.jsonl', object='file', purpose='batch', status='processed', status_details=None),\n",
       "  'batch_job': Batch(id='batch_67a1074d0ff481909aa90a1e21b4faf6', completion_window='24h', created_at=1738606413, endpoint='/v1/chat/completions', input_file_id='file-KkiBTmGUfnUzMshPRg3WY1', object='batch', status='validating', cancelled_at=None, cancelling_at=None, completed_at=None, error_file_id=None, errors=None, expired_at=None, expires_at=1738692813, failed_at=None, finalizing_at=None, in_progress_at=None, metadata=None, output_file_id=None, request_counts=BatchRequestCounts(completed=0, failed=0, total=0)),\n",
       "  'batch_job_id': 'batch_67a1074d0ff481909aa90a1e21b4faf6'},\n",
       " 'M_o3-mini-2025-01-31_T_0.3_P_roleplay_qual': {'raw_file_name': 'M_o3-mini-2025-01-31_T_0.3_P_roleplay_qual',\n",
       "  'batch_file': FileObject(id='file-CzUReSj3A6qCHoWGG4ar4V', bytes=668978, created_at=1738606419, filename='M_o3-mini-2025-01-31_T_0.3_P_roleplay_qual.jsonl', object='file', purpose='batch', status='processed', status_details=None),\n",
       "  'batch_job': Batch(id='batch_67a10755717c8190aea19703b28ba82d', completion_window='24h', created_at=1738606421, endpoint='/v1/chat/completions', input_file_id='file-CzUReSj3A6qCHoWGG4ar4V', object='batch', status='validating', cancelled_at=None, cancelling_at=None, completed_at=None, error_file_id=None, errors=None, expired_at=None, expires_at=1738692821, failed_at=None, finalizing_at=None, in_progress_at=None, metadata=None, output_file_id=None, request_counts=BatchRequestCounts(completed=0, failed=0, total=0)),\n",
       "  'batch_job_id': 'batch_67a10755717c8190aea19703b28ba82d'},\n",
       " 'M_o3-mini-2025-01-31_T_0.3_P_zeroshot_qual': {'raw_file_name': 'M_o3-mini-2025-01-31_T_0.3_P_zeroshot_qual',\n",
       "  'batch_file': FileObject(id='file-BtxqdXvDJGS9pLPiCrWoRn', bytes=485078, created_at=1738606446, filename='M_o3-mini-2025-01-31_T_0.3_P_zeroshot_qual.jsonl', object='file', purpose='batch', status='processed', status_details=None),\n",
       "  'batch_job': Batch(id='batch_67a1076f1b4c81908aed33f9c84c286a', completion_window='24h', created_at=1738606447, endpoint='/v1/chat/completions', input_file_id='file-BtxqdXvDJGS9pLPiCrWoRn', object='batch', status='validating', cancelled_at=None, cancelling_at=None, completed_at=None, error_file_id=None, errors=None, expired_at=None, expires_at=1738692847, failed_at=None, finalizing_at=None, in_progress_at=None, metadata=None, output_file_id=None, request_counts=BatchRequestCounts(completed=0, failed=0, total=0)),\n",
       "  'batch_job_id': 'batch_67a1076f1b4c81908aed33f9c84c286a'},\n",
       " 'M_o3-mini-2025-01-31_T_0.3_P_emotional_qual': {'raw_file_name': 'M_o3-mini-2025-01-31_T_0.3_P_emotional_qual',\n",
       "  'batch_file': FileObject(id='file-RyaVVWRcxaRCbkTfhUwzfF', bytes=741878, created_at=1738606454, filename='M_o3-mini-2025-01-31_T_0.3_P_emotional_qual.jsonl', object='file', purpose='batch', status='processed', status_details=None),\n",
       "  'batch_job': Batch(id='batch_67a1077772bc8190bb6ab531ce3a9142', completion_window='24h', created_at=1738606455, endpoint='/v1/chat/completions', input_file_id='file-RyaVVWRcxaRCbkTfhUwzfF', object='batch', status='validating', cancelled_at=None, cancelling_at=None, completed_at=None, error_file_id=None, errors=None, expired_at=None, expires_at=1738692855, failed_at=None, finalizing_at=None, in_progress_at=None, metadata=None, output_file_id=None, request_counts=BatchRequestCounts(completed=0, failed=0, total=0)),\n",
       "  'batch_job_id': 'batch_67a1077772bc8190bb6ab531ce3a9142'},\n",
       " 'M_o3-mini-2025-01-31_T_0.7_P_cot_10': {'raw_file_name': 'M_o3-mini-2025-01-31_T_0.7_P_cot_10',\n",
       "  'batch_file': FileObject(id='file-WTPoahDYdimWKvuptfuvkW', bytes=778778, created_at=1738606462, filename='M_o3-mini-2025-01-31_T_0.7_P_cot_10.jsonl', object='file', purpose='batch', status='processed', status_details=None),\n",
       "  'batch_job': Batch(id='batch_67a1077fac248190b47fd4a6608d0cb4', completion_window='24h', created_at=1738606463, endpoint='/v1/chat/completions', input_file_id='file-WTPoahDYdimWKvuptfuvkW', object='batch', status='validating', cancelled_at=None, cancelling_at=None, completed_at=None, error_file_id=None, errors=None, expired_at=None, expires_at=1738692863, failed_at=None, finalizing_at=None, in_progress_at=None, metadata=None, output_file_id=None, request_counts=BatchRequestCounts(completed=0, failed=0, total=0)),\n",
       "  'batch_job_id': 'batch_67a1077fac248190b47fd4a6608d0cb4'},\n",
       " 'M_o3-mini-2025-01-31_T_0.7_P_few_shot_10': {'raw_file_name': 'M_o3-mini-2025-01-31_T_0.7_P_few_shot_10',\n",
       "  'batch_file': FileObject(id='file-2ftk2Ax4pnbV2TXHWuvRV6', bytes=945278, created_at=1738606471, filename='M_o3-mini-2025-01-31_T_0.7_P_few_shot_10.jsonl', object='file', purpose='batch', status='processed', status_details=None),\n",
       "  'batch_job': Batch(id='batch_67a107891da88190a07c48f8d87bb272', completion_window='24h', created_at=1738606473, endpoint='/v1/chat/completions', input_file_id='file-2ftk2Ax4pnbV2TXHWuvRV6', object='batch', status='validating', cancelled_at=None, cancelling_at=None, completed_at=None, error_file_id=None, errors=None, expired_at=None, expires_at=1738692873, failed_at=None, finalizing_at=None, in_progress_at=None, metadata=None, output_file_id=None, request_counts=BatchRequestCounts(completed=0, failed=0, total=0)),\n",
       "  'batch_job_id': 'batch_67a107891da88190a07c48f8d87bb272'},\n",
       " 'M_o3-mini-2025-01-31_T_0.7_P_cot_fewshot_10': {'raw_file_name': 'M_o3-mini-2025-01-31_T_0.7_P_cot_fewshot_10',\n",
       "  'batch_file': FileObject(id='file-Bq3B74suYmEnKh9KQTApmS', bytes=1364978, created_at=1738606485, filename='M_o3-mini-2025-01-31_T_0.7_P_cot_fewshot_10.jsonl', object='file', purpose='batch', status='processed', status_details=None),\n",
       "  'batch_job': Batch(id='batch_67a10796acec8190a50107940baacf54', completion_window='24h', created_at=1738606486, endpoint='/v1/chat/completions', input_file_id='file-Bq3B74suYmEnKh9KQTApmS', object='batch', status='validating', cancelled_at=None, cancelling_at=None, completed_at=None, error_file_id=None, errors=None, expired_at=None, expires_at=1738692886, failed_at=None, finalizing_at=None, in_progress_at=None, metadata=None, output_file_id=None, request_counts=BatchRequestCounts(completed=0, failed=0, total=0)),\n",
       "  'batch_job_id': 'batch_67a10796acec8190a50107940baacf54'},\n",
       " 'M_o3-mini-2025-01-31_T_0.7_P_roleplay_10': {'raw_file_name': 'M_o3-mini-2025-01-31_T_0.7_P_roleplay_10',\n",
       "  'batch_file': FileObject(id='file-LcEqbsoKoDDFEVpBvG4Pne', bytes=659978, created_at=1738606492, filename='M_o3-mini-2025-01-31_T_0.7_P_roleplay_10.jsonl', object='file', purpose='batch', status='processed', status_details=None),\n",
       "  'batch_job': Batch(id='batch_67a1079d6b7c81909a2501b9c2d8731d', completion_window='24h', created_at=1738606493, endpoint='/v1/chat/completions', input_file_id='file-LcEqbsoKoDDFEVpBvG4Pne', object='batch', status='validating', cancelled_at=None, cancelling_at=None, completed_at=None, error_file_id=None, errors=None, expired_at=None, expires_at=1738692893, failed_at=None, finalizing_at=None, in_progress_at=None, metadata=None, output_file_id=None, request_counts=BatchRequestCounts(completed=0, failed=0, total=0)),\n",
       "  'batch_job_id': 'batch_67a1079d6b7c81909a2501b9c2d8731d'},\n",
       " 'M_o3-mini-2025-01-31_T_0.7_P_zeroshot_10': {'raw_file_name': 'M_o3-mini-2025-01-31_T_0.7_P_zeroshot_10',\n",
       "  'batch_file': FileObject(id='file-YTwJmbTrBQnReX6MBF1TGc', bytes=476078, created_at=1738606516, filename='M_o3-mini-2025-01-31_T_0.7_P_zeroshot_10.jsonl', object='file', purpose='batch', status='processed', status_details=None),\n",
       "  'batch_job': Batch(id='batch_67a107b4d90c819085fce238af16342f', completion_window='24h', created_at=1738606516, endpoint='/v1/chat/completions', input_file_id='file-YTwJmbTrBQnReX6MBF1TGc', object='batch', status='validating', cancelled_at=None, cancelling_at=None, completed_at=None, error_file_id=None, errors=None, expired_at=None, expires_at=1738692916, failed_at=None, finalizing_at=None, in_progress_at=None, metadata=None, output_file_id=None, request_counts=BatchRequestCounts(completed=0, failed=0, total=0)),\n",
       "  'batch_job_id': 'batch_67a107b4d90c819085fce238af16342f'},\n",
       " 'M_o3-mini-2025-01-31_T_0.7_P_emotional_10': {'raw_file_name': 'M_o3-mini-2025-01-31_T_0.7_P_emotional_10',\n",
       "  'batch_file': FileObject(id='file-FkgFd1itcyaVg2nGNrvSww', bytes=732878, created_at=1738606524, filename='M_o3-mini-2025-01-31_T_0.7_P_emotional_10.jsonl', object='file', purpose='batch', status='processed', status_details=None),\n",
       "  'batch_job': Batch(id='batch_67a107be49f48190a7aefa1b7de48177', completion_window='24h', created_at=1738606526, endpoint='/v1/chat/completions', input_file_id='file-FkgFd1itcyaVg2nGNrvSww', object='batch', status='validating', cancelled_at=None, cancelling_at=None, completed_at=None, error_file_id=None, errors=None, expired_at=None, expires_at=1738692926, failed_at=None, finalizing_at=None, in_progress_at=None, metadata=None, output_file_id=None, request_counts=BatchRequestCounts(completed=0, failed=0, total=0)),\n",
       "  'batch_job_id': 'batch_67a107be49f48190a7aefa1b7de48177'},\n",
       " 'M_o3-mini-2025-01-31_T_0.7_P_cot_100': {'raw_file_name': 'M_o3-mini-2025-01-31_T_0.7_P_cot_100',\n",
       "  'batch_file': FileObject(id='file-Qg55Ckg6oUaNTVkr9f6vDb', bytes=780578, created_at=1738606541, filename='M_o3-mini-2025-01-31_T_0.7_P_cot_100.jsonl', object='file', purpose='batch', status='processed', status_details=None),\n",
       "  'batch_job': Batch(id='batch_67a107cfe0f4819099b1259ac560f329', completion_window='24h', created_at=1738606543, endpoint='/v1/chat/completions', input_file_id='file-Qg55Ckg6oUaNTVkr9f6vDb', object='batch', status='validating', cancelled_at=None, cancelling_at=None, completed_at=None, error_file_id=None, errors=None, expired_at=None, expires_at=1738692943, failed_at=None, finalizing_at=None, in_progress_at=None, metadata=None, output_file_id=None, request_counts=BatchRequestCounts(completed=0, failed=0, total=0)),\n",
       "  'batch_job_id': 'batch_67a107cfe0f4819099b1259ac560f329'},\n",
       " 'M_o3-mini-2025-01-31_T_0.7_P_few_shot_100': {'raw_file_name': 'M_o3-mini-2025-01-31_T_0.7_P_few_shot_100',\n",
       "  'batch_file': FileObject(id='file-C2TtSRMbHaB8VKMsSuAdVw', bytes=946778, created_at=1738606552, filename='M_o3-mini-2025-01-31_T_0.7_P_few_shot_100.jsonl', object='file', purpose='batch', status='processed', status_details=None),\n",
       "  'batch_job': Batch(id='batch_67a107d91c788190add842040e2f9c1d', completion_window='24h', created_at=1738606553, endpoint='/v1/chat/completions', input_file_id='file-C2TtSRMbHaB8VKMsSuAdVw', object='batch', status='validating', cancelled_at=None, cancelling_at=None, completed_at=None, error_file_id=None, errors=None, expired_at=None, expires_at=1738692953, failed_at=None, finalizing_at=None, in_progress_at=None, metadata=None, output_file_id=None, request_counts=BatchRequestCounts(completed=0, failed=0, total=0)),\n",
       "  'batch_job_id': 'batch_67a107d91c788190add842040e2f9c1d'},\n",
       " 'M_o3-mini-2025-01-31_T_0.7_P_cot_fewshot_100': {'raw_file_name': 'M_o3-mini-2025-01-31_T_0.7_P_cot_fewshot_100',\n",
       "  'batch_file': FileObject(id='file-JjbCV2aAWmBx3bCtF2ZCz2', bytes=1367978, created_at=1738606565, filename='M_o3-mini-2025-01-31_T_0.7_P_cot_fewshot_100.jsonl', object='file', purpose='batch', status='processed', status_details=None),\n",
       "  'batch_job': Batch(id='batch_67a107e708f08190a935fb78df4e1fd9', completion_window='24h', created_at=1738606567, endpoint='/v1/chat/completions', input_file_id='file-JjbCV2aAWmBx3bCtF2ZCz2', object='batch', status='validating', cancelled_at=None, cancelling_at=None, completed_at=None, error_file_id=None, errors=None, expired_at=None, expires_at=1738692967, failed_at=None, finalizing_at=None, in_progress_at=None, metadata=None, output_file_id=None, request_counts=BatchRequestCounts(completed=0, failed=0, total=0)),\n",
       "  'batch_job_id': 'batch_67a107e708f08190a935fb78df4e1fd9'},\n",
       " 'M_o3-mini-2025-01-31_T_0.7_P_roleplay_100': {'raw_file_name': 'M_o3-mini-2025-01-31_T_0.7_P_roleplay_100',\n",
       "  'batch_file': FileObject(id='file-Ru9Eb3dwDDNx3LGjVFoFzf', bytes=660278, created_at=1738606573, filename='M_o3-mini-2025-01-31_T_0.7_P_roleplay_100.jsonl', object='file', purpose='batch', status='processed', status_details=None),\n",
       "  'batch_job': Batch(id='batch_67a107ee30b08190a291abb7494d9ddf', completion_window='24h', created_at=1738606574, endpoint='/v1/chat/completions', input_file_id='file-Ru9Eb3dwDDNx3LGjVFoFzf', object='batch', status='validating', cancelled_at=None, cancelling_at=None, completed_at=None, error_file_id=None, errors=None, expired_at=None, expires_at=1738692974, failed_at=None, finalizing_at=None, in_progress_at=None, metadata=None, output_file_id=None, request_counts=BatchRequestCounts(completed=0, failed=0, total=0)),\n",
       "  'batch_job_id': 'batch_67a107ee30b08190a291abb7494d9ddf'},\n",
       " 'M_o3-mini-2025-01-31_T_0.7_P_zeroshot_100': {'raw_file_name': 'M_o3-mini-2025-01-31_T_0.7_P_zeroshot_100',\n",
       "  'batch_file': FileObject(id='file-U6bybamCC6Y2NjjJJJnkQU', bytes=476378, created_at=1738606578, filename='M_o3-mini-2025-01-31_T_0.7_P_zeroshot_100.jsonl', object='file', purpose='batch', status='processed', status_details=None),\n",
       "  'batch_job': Batch(id='batch_67a107f3aa3c819099c457decbf0fff0', completion_window='24h', created_at=1738606579, endpoint='/v1/chat/completions', input_file_id='file-U6bybamCC6Y2NjjJJJnkQU', object='batch', status='validating', cancelled_at=None, cancelling_at=None, completed_at=None, error_file_id=None, errors=None, expired_at=None, expires_at=1738692979, failed_at=None, finalizing_at=None, in_progress_at=None, metadata=None, output_file_id=None, request_counts=BatchRequestCounts(completed=0, failed=0, total=0)),\n",
       "  'batch_job_id': 'batch_67a107f3aa3c819099c457decbf0fff0'},\n",
       " 'M_o3-mini-2025-01-31_T_0.7_P_emotional_100': {'raw_file_name': 'M_o3-mini-2025-01-31_T_0.7_P_emotional_100',\n",
       "  'batch_file': FileObject(id='file-TGiQSLH57E2QF5CpedSnTL', bytes=733178, created_at=1738606586, filename='M_o3-mini-2025-01-31_T_0.7_P_emotional_100.jsonl', object='file', purpose='batch', status='processed', status_details=None),\n",
       "  'batch_job': Batch(id='batch_67a107fb653481909f42a9ddb64e0769', completion_window='24h', created_at=1738606587, endpoint='/v1/chat/completions', input_file_id='file-TGiQSLH57E2QF5CpedSnTL', object='batch', status='validating', cancelled_at=None, cancelling_at=None, completed_at=None, error_file_id=None, errors=None, expired_at=None, expires_at=1738692987, failed_at=None, finalizing_at=None, in_progress_at=None, metadata=None, output_file_id=None, request_counts=BatchRequestCounts(completed=0, failed=0, total=0)),\n",
       "  'batch_job_id': 'batch_67a107fb653481909f42a9ddb64e0769'},\n",
       " 'M_o3-mini-2025-01-31_T_0.7_P_cot_qual': {'raw_file_name': 'M_o3-mini-2025-01-31_T_0.7_P_cot_qual',\n",
       "  'batch_file': FileObject(id='file-1z9TG3wrKeGZ4iWrLBET1A', bytes=852878, created_at=1738606594, filename='M_o3-mini-2025-01-31_T_0.7_P_cot_qual.jsonl', object='file', purpose='batch', status='processed', status_details=None),\n",
       "  'batch_job': Batch(id='batch_67a108048b9881909c8c6c6bea29b0bd', completion_window='24h', created_at=1738606596, endpoint='/v1/chat/completions', input_file_id='file-1z9TG3wrKeGZ4iWrLBET1A', object='batch', status='validating', cancelled_at=None, cancelling_at=None, completed_at=None, error_file_id=None, errors=None, expired_at=None, expires_at=1738692996, failed_at=None, finalizing_at=None, in_progress_at=None, metadata=None, output_file_id=None, request_counts=BatchRequestCounts(completed=0, failed=0, total=0)),\n",
       "  'batch_job_id': 'batch_67a108048b9881909c8c6c6bea29b0bd'},\n",
       " 'M_o3-mini-2025-01-31_T_0.7_P_few_shot_qual': {'raw_file_name': 'M_o3-mini-2025-01-31_T_0.7_P_few_shot_qual',\n",
       "  'batch_file': FileObject(id='file-4ZdodiUxYEcA9r3ny1RfSC', bytes=955478, created_at=1738606611, filename='M_o3-mini-2025-01-31_T_0.7_P_few_shot_qual.jsonl', object='file', purpose='batch', status='processed', status_details=None),\n",
       "  'batch_job': Batch(id='batch_67a108168ea48190a15c4fd195de216a', completion_window='24h', created_at=1738606614, endpoint='/v1/chat/completions', input_file_id='file-4ZdodiUxYEcA9r3ny1RfSC', object='batch', status='validating', cancelled_at=None, cancelling_at=None, completed_at=None, error_file_id=None, errors=None, expired_at=None, expires_at=1738693014, failed_at=None, finalizing_at=None, in_progress_at=None, metadata=None, output_file_id=None, request_counts=BatchRequestCounts(completed=0, failed=0, total=0)),\n",
       "  'batch_job_id': 'batch_67a108168ea48190a15c4fd195de216a'},\n",
       " 'M_o3-mini-2025-01-31_T_0.7_P_cot_fewshot_qual': {'raw_file_name': 'M_o3-mini-2025-01-31_T_0.7_P_cot_fewshot_qual',\n",
       "  'batch_file': FileObject(id='file-RKTAbETjr2HFWosaXtvN3w', bytes=1427978, created_at=1738606627, filename='M_o3-mini-2025-01-31_T_0.7_P_cot_fewshot_qual.jsonl', object='file', purpose='batch', status='processed', status_details=None),\n",
       "  'batch_job': Batch(id='batch_67a10824415c8190a212f30d9aab9d3e', completion_window='24h', created_at=1738606628, endpoint='/v1/chat/completions', input_file_id='file-RKTAbETjr2HFWosaXtvN3w', object='batch', status='validating', cancelled_at=None, cancelling_at=None, completed_at=None, error_file_id=None, errors=None, expired_at=None, expires_at=1738693028, failed_at=None, finalizing_at=None, in_progress_at=None, metadata=None, output_file_id=None, request_counts=BatchRequestCounts(completed=0, failed=0, total=0)),\n",
       "  'batch_job_id': 'batch_67a10824415c8190a212f30d9aab9d3e'},\n",
       " 'M_o3-mini-2025-01-31_T_0.7_P_roleplay_qual': {'raw_file_name': 'M_o3-mini-2025-01-31_T_0.7_P_roleplay_qual',\n",
       "  'batch_file': FileObject(id='file-8dXUg9yYtQv4ESFeRvq7As', bytes=668978, created_at=1738606634, filename='M_o3-mini-2025-01-31_T_0.7_P_roleplay_qual.jsonl', object='file', purpose='batch', status='processed', status_details=None),\n",
       "  'batch_job': Batch(id='batch_67a1082b74048190be6b9006588ed55f', completion_window='24h', created_at=1738606635, endpoint='/v1/chat/completions', input_file_id='file-8dXUg9yYtQv4ESFeRvq7As', object='batch', status='validating', cancelled_at=None, cancelling_at=None, completed_at=None, error_file_id=None, errors=None, expired_at=None, expires_at=1738693035, failed_at=None, finalizing_at=None, in_progress_at=None, metadata=None, output_file_id=None, request_counts=BatchRequestCounts(completed=0, failed=0, total=0)),\n",
       "  'batch_job_id': 'batch_67a1082b74048190be6b9006588ed55f'},\n",
       " 'M_o3-mini-2025-01-31_T_0.7_P_zeroshot_qual': {'raw_file_name': 'M_o3-mini-2025-01-31_T_0.7_P_zeroshot_qual',\n",
       "  'batch_file': FileObject(id='file-NDWj9h51WGTQUmES2PXUFj', bytes=485078, created_at=1738606640, filename='M_o3-mini-2025-01-31_T_0.7_P_zeroshot_qual.jsonl', object='file', purpose='batch', status='processed', status_details=None),\n",
       "  'batch_job': Batch(id='batch_67a108312e8c8190a8ad96520ab49d64', completion_window='24h', created_at=1738606641, endpoint='/v1/chat/completions', input_file_id='file-NDWj9h51WGTQUmES2PXUFj', object='batch', status='validating', cancelled_at=None, cancelling_at=None, completed_at=None, error_file_id=None, errors=None, expired_at=None, expires_at=1738693041, failed_at=None, finalizing_at=None, in_progress_at=None, metadata=None, output_file_id=None, request_counts=BatchRequestCounts(completed=0, failed=0, total=0)),\n",
       "  'batch_job_id': 'batch_67a108312e8c8190a8ad96520ab49d64'},\n",
       " 'M_o3-mini-2025-01-31_T_0.7_P_emotional_qual': {'raw_file_name': 'M_o3-mini-2025-01-31_T_0.7_P_emotional_qual',\n",
       "  'batch_file': FileObject(id='file-QRNtiUgSuaXqJy1LEzL8pg', bytes=741878, created_at=1738606647, filename='M_o3-mini-2025-01-31_T_0.7_P_emotional_qual.jsonl', object='file', purpose='batch', status='processed', status_details=None),\n",
       "  'batch_job': Batch(id='batch_67a108388e8c819083f41899f9fc30ab', completion_window='24h', created_at=1738606648, endpoint='/v1/chat/completions', input_file_id='file-QRNtiUgSuaXqJy1LEzL8pg', object='batch', status='validating', cancelled_at=None, cancelling_at=None, completed_at=None, error_file_id=None, errors=None, expired_at=None, expires_at=1738693048, failed_at=None, finalizing_at=None, in_progress_at=None, metadata=None, output_file_id=None, request_counts=BatchRequestCounts(completed=0, failed=0, total=0)),\n",
       "  'batch_job_id': 'batch_67a108388e8c819083f41899f9fc30ab'},\n",
       " 'M_o3-mini-2025-01-31_T_1_P_cot_10': {'raw_file_name': 'M_o3-mini-2025-01-31_T_1_P_cot_10',\n",
       "  'batch_file': FileObject(id='file-VzX3NBKiU29jAurEb8mRSk', bytes=778178, created_at=1738606655, filename='M_o3-mini-2025-01-31_T_1_P_cot_10.jsonl', object='file', purpose='batch', status='processed', status_details=None),\n",
       "  'batch_job': Batch(id='batch_67a10840b9c88190a4988e7d4306cbf0', completion_window='24h', created_at=1738606656, endpoint='/v1/chat/completions', input_file_id='file-VzX3NBKiU29jAurEb8mRSk', object='batch', status='validating', cancelled_at=None, cancelling_at=None, completed_at=None, error_file_id=None, errors=None, expired_at=None, expires_at=1738693056, failed_at=None, finalizing_at=None, in_progress_at=None, metadata=None, output_file_id=None, request_counts=BatchRequestCounts(completed=0, failed=0, total=0)),\n",
       "  'batch_job_id': 'batch_67a10840b9c88190a4988e7d4306cbf0'},\n",
       " 'M_o3-mini-2025-01-31_T_1_P_few_shot_10': {'raw_file_name': 'M_o3-mini-2025-01-31_T_1_P_few_shot_10',\n",
       "  'batch_file': FileObject(id='file-RtS2VMqroHKSM51EqkKqNA', bytes=944678, created_at=1738606665, filename='M_o3-mini-2025-01-31_T_1_P_few_shot_10.jsonl', object='file', purpose='batch', status='processed', status_details=None),\n",
       "  'batch_job': Batch(id='batch_67a10849ff808190af733a018d91250b', completion_window='24h', created_at=1738606666, endpoint='/v1/chat/completions', input_file_id='file-RtS2VMqroHKSM51EqkKqNA', object='batch', status='validating', cancelled_at=None, cancelling_at=None, completed_at=None, error_file_id=None, errors=None, expired_at=None, expires_at=1738693066, failed_at=None, finalizing_at=None, in_progress_at=None, metadata=None, output_file_id=None, request_counts=BatchRequestCounts(completed=0, failed=0, total=0)),\n",
       "  'batch_job_id': 'batch_67a10849ff808190af733a018d91250b'},\n",
       " 'M_o3-mini-2025-01-31_T_1_P_cot_fewshot_10': {'raw_file_name': 'M_o3-mini-2025-01-31_T_1_P_cot_fewshot_10',\n",
       "  'batch_file': FileObject(id='file-KJRUAtVwEzp9vte29PaPq4', bytes=1364378, created_at=1738606678, filename='M_o3-mini-2025-01-31_T_1_P_cot_fewshot_10.jsonl', object='file', purpose='batch', status='processed', status_details=None),\n",
       "  'batch_job': Batch(id='batch_67a108572c2c8190ad11861384f4594e', completion_window='24h', created_at=1738606679, endpoint='/v1/chat/completions', input_file_id='file-KJRUAtVwEzp9vte29PaPq4', object='batch', status='validating', cancelled_at=None, cancelling_at=None, completed_at=None, error_file_id=None, errors=None, expired_at=None, expires_at=1738693079, failed_at=None, finalizing_at=None, in_progress_at=None, metadata=None, output_file_id=None, request_counts=BatchRequestCounts(completed=0, failed=0, total=0)),\n",
       "  'batch_job_id': 'batch_67a108572c2c8190ad11861384f4594e'},\n",
       " 'M_o3-mini-2025-01-31_T_1_P_roleplay_10': {'raw_file_name': 'M_o3-mini-2025-01-31_T_1_P_roleplay_10',\n",
       "  'batch_file': FileObject(id='file-XyoaePVkZWhrf6QeDDetBQ', bytes=659378, created_at=1738606685, filename='M_o3-mini-2025-01-31_T_1_P_roleplay_10.jsonl', object='file', purpose='batch', status='processed', status_details=None),\n",
       "  'batch_job': Batch(id='batch_67a1085e067c8190ab5884548578b88b', completion_window='24h', created_at=1738606686, endpoint='/v1/chat/completions', input_file_id='file-XyoaePVkZWhrf6QeDDetBQ', object='batch', status='validating', cancelled_at=None, cancelling_at=None, completed_at=None, error_file_id=None, errors=None, expired_at=None, expires_at=1738693086, failed_at=None, finalizing_at=None, in_progress_at=None, metadata=None, output_file_id=None, request_counts=BatchRequestCounts(completed=0, failed=0, total=0)),\n",
       "  'batch_job_id': 'batch_67a1085e067c8190ab5884548578b88b'},\n",
       " 'M_o3-mini-2025-01-31_T_1_P_zeroshot_10': {'raw_file_name': 'M_o3-mini-2025-01-31_T_1_P_zeroshot_10',\n",
       "  'batch_file': FileObject(id='file-EkVwNBYXXiKXaKMjw9xNRi', bytes=475478, created_at=1738606690, filename='M_o3-mini-2025-01-31_T_1_P_zeroshot_10.jsonl', object='file', purpose='batch', status='processed', status_details=None),\n",
       "  'batch_job': Batch(id='batch_67a10863336081909f65eeb43dc4117c', completion_window='24h', created_at=1738606691, endpoint='/v1/chat/completions', input_file_id='file-EkVwNBYXXiKXaKMjw9xNRi', object='batch', status='validating', cancelled_at=None, cancelling_at=None, completed_at=None, error_file_id=None, errors=None, expired_at=None, expires_at=1738693091, failed_at=None, finalizing_at=None, in_progress_at=None, metadata=None, output_file_id=None, request_counts=BatchRequestCounts(completed=0, failed=0, total=0)),\n",
       "  'batch_job_id': 'batch_67a10863336081909f65eeb43dc4117c'},\n",
       " 'M_o3-mini-2025-01-31_T_1_P_emotional_10': {'raw_file_name': 'M_o3-mini-2025-01-31_T_1_P_emotional_10',\n",
       "  'batch_file': FileObject(id='file-GTV6hsGsPZzWoGwTRnQ79y', bytes=732278, created_at=1738606697, filename='M_o3-mini-2025-01-31_T_1_P_emotional_10.jsonl', object='file', purpose='batch', status='processed', status_details=None),\n",
       "  'batch_job': Batch(id='batch_67a1086acdec81909e898beb3180b08e', completion_window='24h', created_at=1738606698, endpoint='/v1/chat/completions', input_file_id='file-GTV6hsGsPZzWoGwTRnQ79y', object='batch', status='validating', cancelled_at=None, cancelling_at=None, completed_at=None, error_file_id=None, errors=None, expired_at=None, expires_at=1738693098, failed_at=None, finalizing_at=None, in_progress_at=None, metadata=None, output_file_id=None, request_counts=BatchRequestCounts(completed=0, failed=0, total=0)),\n",
       "  'batch_job_id': 'batch_67a1086acdec81909e898beb3180b08e'},\n",
       " 'M_o3-mini-2025-01-31_T_1_P_cot_100': {'raw_file_name': 'M_o3-mini-2025-01-31_T_1_P_cot_100',\n",
       "  'batch_file': FileObject(id='file-Lfn9daHaKvnPg2R5AFJPX1', bytes=779978, created_at=1738606705, filename='M_o3-mini-2025-01-31_T_1_P_cot_100.jsonl', object='file', purpose='batch', status='processed', status_details=None),\n",
       "  'batch_job': Batch(id='batch_67a1087289188190b119abc64895b19c', completion_window='24h', created_at=1738606706, endpoint='/v1/chat/completions', input_file_id='file-Lfn9daHaKvnPg2R5AFJPX1', object='batch', status='validating', cancelled_at=None, cancelling_at=None, completed_at=None, error_file_id=None, errors=None, expired_at=None, expires_at=1738693106, failed_at=None, finalizing_at=None, in_progress_at=None, metadata=None, output_file_id=None, request_counts=BatchRequestCounts(completed=0, failed=0, total=0)),\n",
       "  'batch_job_id': 'batch_67a1087289188190b119abc64895b19c'},\n",
       " 'M_o3-mini-2025-01-31_T_1_P_few_shot_100': {'raw_file_name': 'M_o3-mini-2025-01-31_T_1_P_few_shot_100',\n",
       "  'batch_file': FileObject(id='file-Q4eHstexwNL7kPLVAEvsGV', bytes=946178, created_at=1738606715, filename='M_o3-mini-2025-01-31_T_1_P_few_shot_100.jsonl', object='file', purpose='batch', status='processed', status_details=None),\n",
       "  'batch_job': Batch(id='batch_67a1087bddc08190a82eec72ab7c139b', completion_window='24h', created_at=1738606715, endpoint='/v1/chat/completions', input_file_id='file-Q4eHstexwNL7kPLVAEvsGV', object='batch', status='validating', cancelled_at=None, cancelling_at=None, completed_at=None, error_file_id=None, errors=None, expired_at=None, expires_at=1738693115, failed_at=None, finalizing_at=None, in_progress_at=None, metadata=None, output_file_id=None, request_counts=BatchRequestCounts(completed=0, failed=0, total=0)),\n",
       "  'batch_job_id': 'batch_67a1087bddc08190a82eec72ab7c139b'},\n",
       " 'M_o3-mini-2025-01-31_T_1_P_cot_fewshot_100': {'raw_file_name': 'M_o3-mini-2025-01-31_T_1_P_cot_fewshot_100',\n",
       "  'batch_file': FileObject(id='file-TdDR6dHJYNZDR6VJYawGNh', bytes=1367378, created_at=1738606728, filename='M_o3-mini-2025-01-31_T_1_P_cot_fewshot_100.jsonl', object='file', purpose='batch', status='processed', status_details=None),\n",
       "  'batch_job': Batch(id='batch_67a10888cbd08190b5cec67f4e483818', completion_window='24h', created_at=1738606728, endpoint='/v1/chat/completions', input_file_id='file-TdDR6dHJYNZDR6VJYawGNh', object='batch', status='validating', cancelled_at=None, cancelling_at=None, completed_at=None, error_file_id=None, errors=None, expired_at=None, expires_at=1738693128, failed_at=None, finalizing_at=None, in_progress_at=None, metadata=None, output_file_id=None, request_counts=BatchRequestCounts(completed=0, failed=0, total=0)),\n",
       "  'batch_job_id': 'batch_67a10888cbd08190b5cec67f4e483818'},\n",
       " 'M_o3-mini-2025-01-31_T_1_P_roleplay_100': {'raw_file_name': 'M_o3-mini-2025-01-31_T_1_P_roleplay_100',\n",
       "  'batch_file': FileObject(id='file-7ZpjstTMu4iwE3za7EAd2E', bytes=659678, created_at=1738606734, filename='M_o3-mini-2025-01-31_T_1_P_roleplay_100.jsonl', object='file', purpose='batch', status='processed', status_details=None),\n",
       "  'batch_job': Batch(id='batch_67a1088fbf988190bc1955aadd952430', completion_window='24h', created_at=1738606735, endpoint='/v1/chat/completions', input_file_id='file-7ZpjstTMu4iwE3za7EAd2E', object='batch', status='validating', cancelled_at=None, cancelling_at=None, completed_at=None, error_file_id=None, errors=None, expired_at=None, expires_at=1738693135, failed_at=None, finalizing_at=None, in_progress_at=None, metadata=None, output_file_id=None, request_counts=BatchRequestCounts(completed=0, failed=0, total=0)),\n",
       "  'batch_job_id': 'batch_67a1088fbf988190bc1955aadd952430'},\n",
       " 'M_o3-mini-2025-01-31_T_1_P_zeroshot_100': {'raw_file_name': 'M_o3-mini-2025-01-31_T_1_P_zeroshot_100',\n",
       "  'batch_file': FileObject(id='file-92oJsqvfgcVknV3sq6tMVT', bytes=475778, created_at=1738606740, filename='M_o3-mini-2025-01-31_T_1_P_zeroshot_100.jsonl', object='file', purpose='batch', status='processed', status_details=None),\n",
       "  'batch_job': Batch(id='batch_67a108955618819085044e26ec62c6a2', completion_window='24h', created_at=1738606741, endpoint='/v1/chat/completions', input_file_id='file-92oJsqvfgcVknV3sq6tMVT', object='batch', status='validating', cancelled_at=None, cancelling_at=None, completed_at=None, error_file_id=None, errors=None, expired_at=None, expires_at=1738693141, failed_at=None, finalizing_at=None, in_progress_at=None, metadata=None, output_file_id=None, request_counts=BatchRequestCounts(completed=0, failed=0, total=0)),\n",
       "  'batch_job_id': 'batch_67a108955618819085044e26ec62c6a2'},\n",
       " 'M_o3-mini-2025-01-31_T_1_P_emotional_100': {'raw_file_name': 'M_o3-mini-2025-01-31_T_1_P_emotional_100',\n",
       "  'batch_file': FileObject(id='file-1GcUGdyDmGGqgDf9oL7BPp', bytes=732578, created_at=1738606748, filename='M_o3-mini-2025-01-31_T_1_P_emotional_100.jsonl', object='file', purpose='batch', status='processed', status_details=None),\n",
       "  'batch_job': Batch(id='batch_67a1089d3ff48190a04adb18d989f8b1', completion_window='24h', created_at=1738606749, endpoint='/v1/chat/completions', input_file_id='file-1GcUGdyDmGGqgDf9oL7BPp', object='batch', status='validating', cancelled_at=None, cancelling_at=None, completed_at=None, error_file_id=None, errors=None, expired_at=None, expires_at=1738693149, failed_at=None, finalizing_at=None, in_progress_at=None, metadata=None, output_file_id=None, request_counts=BatchRequestCounts(completed=0, failed=0, total=0)),\n",
       "  'batch_job_id': 'batch_67a1089d3ff48190a04adb18d989f8b1'},\n",
       " 'M_o3-mini-2025-01-31_T_1_P_cot_qual': {'raw_file_name': 'M_o3-mini-2025-01-31_T_1_P_cot_qual',\n",
       "  'batch_file': FileObject(id='file-Ao9qDRKYqKxPmE4xZqQTtJ', bytes=852278, created_at=1738606756, filename='M_o3-mini-2025-01-31_T_1_P_cot_qual.jsonl', object='file', purpose='batch', status='processed', status_details=None),\n",
       "  'batch_job': Batch(id='batch_67a108a8fb888190b25f8403726605bb', completion_window='24h', created_at=1738606761, endpoint='/v1/chat/completions', input_file_id='file-Ao9qDRKYqKxPmE4xZqQTtJ', object='batch', status='validating', cancelled_at=None, cancelling_at=None, completed_at=None, error_file_id=None, errors=None, expired_at=None, expires_at=1738693161, failed_at=None, finalizing_at=None, in_progress_at=None, metadata=None, output_file_id=None, request_counts=BatchRequestCounts(completed=0, failed=0, total=0)),\n",
       "  'batch_job_id': 'batch_67a108a8fb888190b25f8403726605bb'},\n",
       " 'M_o3-mini-2025-01-31_T_1_P_few_shot_qual': {'raw_file_name': 'M_o3-mini-2025-01-31_T_1_P_few_shot_qual',\n",
       "  'batch_file': FileObject(id='file-TndAvssuyELwfUeUr9kC6X', bytes=954878, created_at=1738606770, filename='M_o3-mini-2025-01-31_T_1_P_few_shot_qual.jsonl', object='file', purpose='batch', status='processed', status_details=None),\n",
       "  'batch_job': Batch(id='batch_67a108b31b4481908eb850cc6b4d22d8', completion_window='24h', created_at=1738606771, endpoint='/v1/chat/completions', input_file_id='file-TndAvssuyELwfUeUr9kC6X', object='batch', status='validating', cancelled_at=None, cancelling_at=None, completed_at=None, error_file_id=None, errors=None, expired_at=None, expires_at=1738693171, failed_at=None, finalizing_at=None, in_progress_at=None, metadata=None, output_file_id=None, request_counts=BatchRequestCounts(completed=0, failed=0, total=0)),\n",
       "  'batch_job_id': 'batch_67a108b31b4481908eb850cc6b4d22d8'},\n",
       " 'M_o3-mini-2025-01-31_T_1_P_cot_fewshot_qual': {'raw_file_name': 'M_o3-mini-2025-01-31_T_1_P_cot_fewshot_qual',\n",
       "  'batch_file': FileObject(id='file-7S3W6vJwf6RqMXnUmoq3cN', bytes=1427378, created_at=1738607415, filename='M_o3-mini-2025-01-31_T_1_P_cot_fewshot_qual.jsonl', object='file', purpose='batch', status='processed', status_details=None),\n",
       "  'batch_job': Batch(id='batch_67a10b3902fc81908b5a86352ce8ff49', completion_window='24h', created_at=1738607417, endpoint='/v1/chat/completions', input_file_id='file-7S3W6vJwf6RqMXnUmoq3cN', object='batch', status='validating', cancelled_at=None, cancelling_at=None, completed_at=None, error_file_id=None, errors=None, expired_at=None, expires_at=1738693817, failed_at=None, finalizing_at=None, in_progress_at=None, metadata=None, output_file_id=None, request_counts=BatchRequestCounts(completed=0, failed=0, total=0)),\n",
       "  'batch_job_id': 'batch_67a10b3902fc81908b5a86352ce8ff49'},\n",
       " 'M_o3-mini-2025-01-31_T_1_P_roleplay_qual': {'raw_file_name': 'M_o3-mini-2025-01-31_T_1_P_roleplay_qual',\n",
       "  'batch_file': FileObject(id='file-STd1e3Gvo19nXK8MJGx6vN', bytes=668378, created_at=1738607423, filename='M_o3-mini-2025-01-31_T_1_P_roleplay_qual.jsonl', object='file', purpose='batch', status='processed', status_details=None),\n",
       "  'batch_job': Batch(id='batch_67a10b4082708190bd38fe9a95303ee7', completion_window='24h', created_at=1738607424, endpoint='/v1/chat/completions', input_file_id='file-STd1e3Gvo19nXK8MJGx6vN', object='batch', status='validating', cancelled_at=None, cancelling_at=None, completed_at=None, error_file_id=None, errors=None, expired_at=None, expires_at=1738693824, failed_at=None, finalizing_at=None, in_progress_at=None, metadata=None, output_file_id=None, request_counts=BatchRequestCounts(completed=0, failed=0, total=0)),\n",
       "  'batch_job_id': 'batch_67a10b4082708190bd38fe9a95303ee7'},\n",
       " 'M_o3-mini-2025-01-31_T_1_P_zeroshot_qual': {'raw_file_name': 'M_o3-mini-2025-01-31_T_1_P_zeroshot_qual',\n",
       "  'batch_file': FileObject(id='file-R8NFNqdCbmj6KjjmeVHses', bytes=484478, created_at=1738607429, filename='M_o3-mini-2025-01-31_T_1_P_zeroshot_qual.jsonl', object='file', purpose='batch', status='processed', status_details=None),\n",
       "  'batch_job': Batch(id='batch_67a10b4634988190aa3035c5da4a3708', completion_window='24h', created_at=1738607430, endpoint='/v1/chat/completions', input_file_id='file-R8NFNqdCbmj6KjjmeVHses', object='batch', status='validating', cancelled_at=None, cancelling_at=None, completed_at=None, error_file_id=None, errors=None, expired_at=None, expires_at=1738693830, failed_at=None, finalizing_at=None, in_progress_at=None, metadata=None, output_file_id=None, request_counts=BatchRequestCounts(completed=0, failed=0, total=0)),\n",
       "  'batch_job_id': 'batch_67a10b4634988190aa3035c5da4a3708'},\n",
       " 'M_o3-mini-2025-01-31_T_1_P_emotional_qual': {'raw_file_name': 'M_o3-mini-2025-01-31_T_1_P_emotional_qual',\n",
       "  'batch_file': FileObject(id='file-CGghXn977yLx3FjFeMKbeR', bytes=741278, created_at=1738607436, filename='M_o3-mini-2025-01-31_T_1_P_emotional_qual.jsonl', object='file', purpose='batch', status='processed', status_details=None),\n",
       "  'batch_job': Batch(id='batch_67a10b4e2e608190b6b54bfbb440d4ec', completion_window='24h', created_at=1738607438, endpoint='/v1/chat/completions', input_file_id='file-CGghXn977yLx3FjFeMKbeR', object='batch', status='validating', cancelled_at=None, cancelling_at=None, completed_at=None, error_file_id=None, errors=None, expired_at=None, expires_at=1738693838, failed_at=None, finalizing_at=None, in_progress_at=None, metadata=None, output_file_id=None, request_counts=BatchRequestCounts(completed=0, failed=0, total=0)),\n",
       "  'batch_job_id': 'batch_67a10b4e2e608190b6b54bfbb440d4ec'}}"
      ]
     },
     "execution_count": 94,
     "metadata": {},
     "output_type": "execute_result"
    }
   ],
   "source": [
    "batch_dict_o3_new"
   ]
  },
  {
   "cell_type": "code",
   "execution_count": 24,
   "metadata": {},
   "outputs": [
    {
     "data": {
      "text/plain": [
       "Batch(id='batch_67a0e5b4ee048190a1e554878316b9c5', completion_window='24h', created_at=1738597813, endpoint='/v1/chat/completions', input_file_id='file-RfpmoE2B7rc2EuBzztcg6d', object='batch', status='completed', cancelled_at=None, cancelling_at=None, completed_at=1738600038, error_file_id=None, errors=None, expired_at=None, expires_at=1738684213, failed_at=None, finalizing_at=1738600019, in_progress_at=1738597814, metadata=None, output_file_id='file-ExxJDYaycgztewgiGTuvyd', request_counts=BatchRequestCounts(completed=300, failed=0, total=300))"
      ]
     },
     "execution_count": 24,
     "metadata": {},
     "output_type": "execute_result"
    }
   ],
   "source": [
    "retrievd_batch_job_3 = open_client.batches.retrieve(batch_dict['M_gpt-4o-2024-08-06_T_0.3_P_few_shot_qual']['batch_job_id'])\n"
   ]
  },
  {
   "cell_type": "code",
   "execution_count": 25,
   "metadata": {},
   "outputs": [
    {
     "data": {
      "text/plain": [
       "'completed'"
      ]
     },
     "execution_count": 25,
     "metadata": {},
     "output_type": "execute_result"
    }
   ],
   "source": [
    "retrievd_batch_job_3.status"
   ]
  },
  {
   "cell_type": "code",
   "execution_count": 29,
   "metadata": {},
   "outputs": [
    {
     "name": "stdout",
     "output_type": "stream",
     "text": [
      "{'raw_file_name': 'M_gpt-4o-2024-08-06_T_0.3_P_few_shot_qual', 'batch_file': FileObject(id='file-RfpmoE2B7rc2EuBzztcg6d', bytes=966278, created_at=1738597811, filename='M_gpt-4o-2024-08-06_T_0.3_P_few_shot_qual.jsonl', object='file', purpose='batch', status='processed', status_details=None), 'batch_job': Batch(id='batch_67a0e5b4ee048190a1e554878316b9c5', completion_window='24h', created_at=1738597813, endpoint='/v1/chat/completions', input_file_id='file-RfpmoE2B7rc2EuBzztcg6d', object='batch', status='validating', cancelled_at=None, cancelling_at=None, completed_at=None, error_file_id=None, errors=None, expired_at=None, expires_at=1738684213, failed_at=None, finalizing_at=None, in_progress_at=None, metadata=None, output_file_id=None, request_counts=BatchRequestCounts(completed=0, failed=0, total=0)), 'batch_job_id': 'batch_67a0e5b4ee048190a1e554878316b9c5'}\n",
      "{'raw_file_name': 'M_gpt-4o-2024-08-06_T_0.3_P_cot_fewshot_qual', 'batch_file': FileObject(id='file-M598DGoTo2A4Tt3cSfzQ1T', bytes=1438778, created_at=1738597825, filename='M_gpt-4o-2024-08-06_T_0.3_P_cot_fewshot_qual.jsonl', object='file', purpose='batch', status='processed', status_details=None), 'batch_job': Batch(id='batch_67a0e5c2b8048190ac6c32312bc79d22', completion_window='24h', created_at=1738597826, endpoint='/v1/chat/completions', input_file_id='file-M598DGoTo2A4Tt3cSfzQ1T', object='batch', status='validating', cancelled_at=None, cancelling_at=None, completed_at=None, error_file_id=None, errors=None, expired_at=None, expires_at=1738684226, failed_at=None, finalizing_at=None, in_progress_at=None, metadata=None, output_file_id=None, request_counts=BatchRequestCounts(completed=0, failed=0, total=0)), 'batch_job_id': 'batch_67a0e5c2b8048190ac6c32312bc79d22'}\n",
      "{'raw_file_name': 'M_gpt-4o-2024-08-06_T_0.3_P_roleplay_qual', 'batch_file': FileObject(id='file-Hw33WW8xv5whLpqmT8ADSE', bytes=679778, created_at=1738597832, filename='M_gpt-4o-2024-08-06_T_0.3_P_roleplay_qual.jsonl', object='file', purpose='batch', status='processed', status_details=None), 'batch_job': Batch(id='batch_67a0e5ca060881909eaa040d1ea4fd66', completion_window='24h', created_at=1738597834, endpoint='/v1/chat/completions', input_file_id='file-Hw33WW8xv5whLpqmT8ADSE', object='batch', status='validating', cancelled_at=None, cancelling_at=None, completed_at=None, error_file_id=None, errors=None, expired_at=None, expires_at=1738684234, failed_at=None, finalizing_at=None, in_progress_at=None, metadata=None, output_file_id=None, request_counts=BatchRequestCounts(completed=0, failed=0, total=0)), 'batch_job_id': 'batch_67a0e5ca060881909eaa040d1ea4fd66'}\n",
      "{'raw_file_name': 'M_gpt-4o-2024-08-06_T_0.3_P_zeroshot_qual', 'batch_file': FileObject(id='file-F1hf3X4WfvZypNHWfTn77k', bytes=495878, created_at=1738597838, filename='M_gpt-4o-2024-08-06_T_0.3_P_zeroshot_qual.jsonl', object='file', purpose='batch', status='processed', status_details=None), 'batch_job': Batch(id='batch_67a0e5cf8410819097f8ce198655acb1', completion_window='24h', created_at=1738597839, endpoint='/v1/chat/completions', input_file_id='file-F1hf3X4WfvZypNHWfTn77k', object='batch', status='validating', cancelled_at=None, cancelling_at=None, completed_at=None, error_file_id=None, errors=None, expired_at=None, expires_at=1738684239, failed_at=None, finalizing_at=None, in_progress_at=None, metadata=None, output_file_id=None, request_counts=BatchRequestCounts(completed=0, failed=0, total=0)), 'batch_job_id': 'batch_67a0e5cf8410819097f8ce198655acb1'}\n",
      "{'raw_file_name': 'M_gpt-4o-2024-08-06_T_0.3_P_emotional_qual', 'batch_file': FileObject(id='file-KtzmxocUPN3XevV9now6dQ', bytes=752678, created_at=1738597847, filename='M_gpt-4o-2024-08-06_T_0.3_P_emotional_qual.jsonl', object='file', purpose='batch', status='processed', status_details=None), 'batch_job': Batch(id='batch_67a0e5d871d88190a2941f5f8e515ffa', completion_window='24h', created_at=1738597848, endpoint='/v1/chat/completions', input_file_id='file-KtzmxocUPN3XevV9now6dQ', object='batch', status='validating', cancelled_at=None, cancelling_at=None, completed_at=None, error_file_id=None, errors=None, expired_at=None, expires_at=1738684248, failed_at=None, finalizing_at=None, in_progress_at=None, metadata=None, output_file_id=None, request_counts=BatchRequestCounts(completed=0, failed=0, total=0)), 'batch_job_id': 'batch_67a0e5d871d88190a2941f5f8e515ffa'}\n",
      "{'raw_file_name': 'M_gpt-4o-2024-08-06_T_0.7_P_cot_10', 'batch_file': FileObject(id='file-1Uu9AKbds4auCktAg9bqz9', bytes=789578, created_at=1738597855, filename='M_gpt-4o-2024-08-06_T_0.7_P_cot_10.jsonl', object='file', purpose='batch', status='processed', status_details=None), 'batch_job': Batch(id='batch_67a0e5e0b38c8190b3828dca14cfe0c2', completion_window='24h', created_at=1738597856, endpoint='/v1/chat/completions', input_file_id='file-1Uu9AKbds4auCktAg9bqz9', object='batch', status='validating', cancelled_at=None, cancelling_at=None, completed_at=None, error_file_id=None, errors=None, expired_at=None, expires_at=1738684256, failed_at=None, finalizing_at=None, in_progress_at=None, metadata=None, output_file_id=None, request_counts=BatchRequestCounts(completed=0, failed=0, total=0)), 'batch_job_id': 'batch_67a0e5e0b38c8190b3828dca14cfe0c2'}\n",
      "{'raw_file_name': 'M_gpt-4o-2024-08-06_T_0.7_P_few_shot_10', 'batch_file': FileObject(id='file-JXv3YtEjhSL4qdSU9wCEx7', bytes=956078, created_at=1738597865, filename='M_gpt-4o-2024-08-06_T_0.7_P_few_shot_10.jsonl', object='file', purpose='batch', status='processed', status_details=None), 'batch_job': Batch(id='batch_67a0e5e9fd0c8190b569fc7cacdb4390', completion_window='24h', created_at=1738597866, endpoint='/v1/chat/completions', input_file_id='file-JXv3YtEjhSL4qdSU9wCEx7', object='batch', status='validating', cancelled_at=None, cancelling_at=None, completed_at=None, error_file_id=None, errors=None, expired_at=None, expires_at=1738684266, failed_at=None, finalizing_at=None, in_progress_at=None, metadata=None, output_file_id=None, request_counts=BatchRequestCounts(completed=0, failed=0, total=0)), 'batch_job_id': 'batch_67a0e5e9fd0c8190b569fc7cacdb4390'}\n",
      "{'raw_file_name': 'M_gpt-4o-2024-08-06_T_0.7_P_cot_fewshot_10', 'batch_file': FileObject(id='file-QKNmcPoDWQ6ezwabddoMTZ', bytes=1375778, created_at=1738597878, filename='M_gpt-4o-2024-08-06_T_0.7_P_cot_fewshot_10.jsonl', object='file', purpose='batch', status='processed', status_details=None), 'batch_job': Batch(id='batch_67a0e5f787308190b01a74317f7b8919', completion_window='24h', created_at=1738597879, endpoint='/v1/chat/completions', input_file_id='file-QKNmcPoDWQ6ezwabddoMTZ', object='batch', status='validating', cancelled_at=None, cancelling_at=None, completed_at=None, error_file_id=None, errors=None, expired_at=None, expires_at=1738684279, failed_at=None, finalizing_at=None, in_progress_at=None, metadata=None, output_file_id=None, request_counts=BatchRequestCounts(completed=0, failed=0, total=0)), 'batch_job_id': 'batch_67a0e5f787308190b01a74317f7b8919'}\n",
      "{'raw_file_name': 'M_gpt-4o-2024-08-06_T_0.7_P_roleplay_10', 'batch_file': FileObject(id='file-3igVtsdBqU9sHcWrs4LTjc', bytes=670778, created_at=1738597885, filename='M_gpt-4o-2024-08-06_T_0.7_P_roleplay_10.jsonl', object='file', purpose='batch', status='processed', status_details=None), 'batch_job': Batch(id='batch_67a0e5fe6a9c8190ba08b23d5064fcb8', completion_window='24h', created_at=1738597886, endpoint='/v1/chat/completions', input_file_id='file-3igVtsdBqU9sHcWrs4LTjc', object='batch', status='validating', cancelled_at=None, cancelling_at=None, completed_at=None, error_file_id=None, errors=None, expired_at=None, expires_at=1738684286, failed_at=None, finalizing_at=None, in_progress_at=None, metadata=None, output_file_id=None, request_counts=BatchRequestCounts(completed=0, failed=0, total=0)), 'batch_job_id': 'batch_67a0e5fe6a9c8190ba08b23d5064fcb8'}\n",
      "{'raw_file_name': 'M_gpt-4o-2024-08-06_T_0.7_P_zeroshot_10', 'batch_file': FileObject(id='file-L8K2Ua8jbDQuVpGRD64YL1', bytes=486878, created_at=1738597890, filename='M_gpt-4o-2024-08-06_T_0.7_P_zeroshot_10.jsonl', object='file', purpose='batch', status='processed', status_details=None), 'batch_job': Batch(id='batch_67a0e603c3a08190814f06d9aa74b4a4', completion_window='24h', created_at=1738597891, endpoint='/v1/chat/completions', input_file_id='file-L8K2Ua8jbDQuVpGRD64YL1', object='batch', status='validating', cancelled_at=None, cancelling_at=None, completed_at=None, error_file_id=None, errors=None, expired_at=None, expires_at=1738684291, failed_at=None, finalizing_at=None, in_progress_at=None, metadata=None, output_file_id=None, request_counts=BatchRequestCounts(completed=0, failed=0, total=0)), 'batch_job_id': 'batch_67a0e603c3a08190814f06d9aa74b4a4'}\n",
      "{'raw_file_name': 'M_gpt-4o-2024-08-06_T_0.7_P_emotional_10', 'batch_file': FileObject(id='file-RrWUJ1yLsJvXRdwxXmnK8D', bytes=743678, created_at=1738597898, filename='M_gpt-4o-2024-08-06_T_0.7_P_emotional_10.jsonl', object='file', purpose='batch', status='processed', status_details=None), 'batch_job': Batch(id='batch_67a0e60b4d7c8190891fd11efc87fe7c', completion_window='24h', created_at=1738597899, endpoint='/v1/chat/completions', input_file_id='file-RrWUJ1yLsJvXRdwxXmnK8D', object='batch', status='validating', cancelled_at=None, cancelling_at=None, completed_at=None, error_file_id=None, errors=None, expired_at=None, expires_at=1738684299, failed_at=None, finalizing_at=None, in_progress_at=None, metadata=None, output_file_id=None, request_counts=BatchRequestCounts(completed=0, failed=0, total=0)), 'batch_job_id': 'batch_67a0e60b4d7c8190891fd11efc87fe7c'}\n",
      "{'raw_file_name': 'M_gpt-4o-2024-08-06_T_0.7_P_cot_100', 'batch_file': FileObject(id='file-9TGoW7j6fWztBuXnrxzi6M', bytes=791378, created_at=1738597906, filename='M_gpt-4o-2024-08-06_T_0.7_P_cot_100.jsonl', object='file', purpose='batch', status='processed', status_details=None), 'batch_job': Batch(id='batch_67a0e61350888190bff85619b43ddbe9', completion_window='24h', created_at=1738597907, endpoint='/v1/chat/completions', input_file_id='file-9TGoW7j6fWztBuXnrxzi6M', object='batch', status='validating', cancelled_at=None, cancelling_at=None, completed_at=None, error_file_id=None, errors=None, expired_at=None, expires_at=1738684307, failed_at=None, finalizing_at=None, in_progress_at=None, metadata=None, output_file_id=None, request_counts=BatchRequestCounts(completed=0, failed=0, total=0)), 'batch_job_id': 'batch_67a0e61350888190bff85619b43ddbe9'}\n",
      "{'raw_file_name': 'M_gpt-4o-2024-08-06_T_0.7_P_few_shot_100', 'batch_file': FileObject(id='file-H7kwKDG5sqGAUaXYZJLiF2', bytes=957578, created_at=1738597915, filename='M_gpt-4o-2024-08-06_T_0.7_P_few_shot_100.jsonl', object='file', purpose='batch', status='processed', status_details=None), 'batch_job': Batch(id='batch_67a0e61c61bc8190894e19b2aad46ff1', completion_window='24h', created_at=1738597916, endpoint='/v1/chat/completions', input_file_id='file-H7kwKDG5sqGAUaXYZJLiF2', object='batch', status='validating', cancelled_at=None, cancelling_at=None, completed_at=None, error_file_id=None, errors=None, expired_at=None, expires_at=1738684316, failed_at=None, finalizing_at=None, in_progress_at=None, metadata=None, output_file_id=None, request_counts=BatchRequestCounts(completed=0, failed=0, total=0)), 'batch_job_id': 'batch_67a0e61c61bc8190894e19b2aad46ff1'}\n",
      "{'raw_file_name': 'M_gpt-4o-2024-08-06_T_0.7_P_cot_fewshot_100', 'batch_file': FileObject(id='file-RM1war2F2zmbYMkoqXMeR9', bytes=1378778, created_at=1738597928, filename='M_gpt-4o-2024-08-06_T_0.7_P_cot_fewshot_100.jsonl', object='file', purpose='batch', status='processed', status_details=None), 'batch_job': Batch(id='batch_67a0e6297a008190b45c7db1a223f4fb', completion_window='24h', created_at=1738597929, endpoint='/v1/chat/completions', input_file_id='file-RM1war2F2zmbYMkoqXMeR9', object='batch', status='validating', cancelled_at=None, cancelling_at=None, completed_at=None, error_file_id=None, errors=None, expired_at=None, expires_at=1738684329, failed_at=None, finalizing_at=None, in_progress_at=None, metadata=None, output_file_id=None, request_counts=BatchRequestCounts(completed=0, failed=0, total=0)), 'batch_job_id': 'batch_67a0e6297a008190b45c7db1a223f4fb'}\n",
      "{'raw_file_name': 'M_gpt-4o-2024-08-06_T_0.7_P_roleplay_100', 'batch_file': FileObject(id='file-N1RJdfebCdVPc9aCsAVSj9', bytes=671078, created_at=1738597935, filename='M_gpt-4o-2024-08-06_T_0.7_P_roleplay_100.jsonl', object='file', purpose='batch', status='processed', status_details=None), 'batch_job': Batch(id='batch_67a0e630b9fc81908f8dbdcbd3dc3e72', completion_window='24h', created_at=1738597936, endpoint='/v1/chat/completions', input_file_id='file-N1RJdfebCdVPc9aCsAVSj9', object='batch', status='validating', cancelled_at=None, cancelling_at=None, completed_at=None, error_file_id=None, errors=None, expired_at=None, expires_at=1738684336, failed_at=None, finalizing_at=None, in_progress_at=None, metadata=None, output_file_id=None, request_counts=BatchRequestCounts(completed=0, failed=0, total=0)), 'batch_job_id': 'batch_67a0e630b9fc81908f8dbdcbd3dc3e72'}\n",
      "{'raw_file_name': 'M_gpt-4o-2024-08-06_T_0.7_P_zeroshot_100', 'batch_file': FileObject(id='file-DgvpPKo1v6H3XF62k27sdF', bytes=487178, created_at=1738597941, filename='M_gpt-4o-2024-08-06_T_0.7_P_zeroshot_100.jsonl', object='file', purpose='batch', status='processed', status_details=None), 'batch_job': Batch(id='batch_67a0e6360ce881909425c5fd68843266', completion_window='24h', created_at=1738597942, endpoint='/v1/chat/completions', input_file_id='file-DgvpPKo1v6H3XF62k27sdF', object='batch', status='validating', cancelled_at=None, cancelling_at=None, completed_at=None, error_file_id=None, errors=None, expired_at=None, expires_at=1738684342, failed_at=None, finalizing_at=None, in_progress_at=None, metadata=None, output_file_id=None, request_counts=BatchRequestCounts(completed=0, failed=0, total=0)), 'batch_job_id': 'batch_67a0e6360ce881909425c5fd68843266'}\n",
      "{'raw_file_name': 'M_gpt-4o-2024-08-06_T_0.7_P_emotional_100', 'batch_file': FileObject(id='file-WDmGKr6t5qsFaGuGiDANyW', bytes=743978, created_at=1738597948, filename='M_gpt-4o-2024-08-06_T_0.7_P_emotional_100.jsonl', object='file', purpose='batch', status='processed', status_details=None), 'batch_job': Batch(id='batch_67a0e63d9ea08190bc6f5162fe3613a1', completion_window='24h', created_at=1738597949, endpoint='/v1/chat/completions', input_file_id='file-WDmGKr6t5qsFaGuGiDANyW', object='batch', status='validating', cancelled_at=None, cancelling_at=None, completed_at=None, error_file_id=None, errors=None, expired_at=None, expires_at=1738684349, failed_at=None, finalizing_at=None, in_progress_at=None, metadata=None, output_file_id=None, request_counts=BatchRequestCounts(completed=0, failed=0, total=0)), 'batch_job_id': 'batch_67a0e63d9ea08190bc6f5162fe3613a1'}\n",
      "{'raw_file_name': 'M_gpt-4o-2024-08-06_T_0.7_P_cot_qual', 'batch_file': FileObject(id='file-Lwvb82QjjcQEouyjUdPFro', bytes=863678, created_at=1738597957, filename='M_gpt-4o-2024-08-06_T_0.7_P_cot_qual.jsonl', object='file', purpose='batch', status='processed', status_details=None), 'batch_job': Batch(id='batch_67a0e64742e88190bb23220e39e076ca', completion_window='24h', created_at=1738597959, endpoint='/v1/chat/completions', input_file_id='file-Lwvb82QjjcQEouyjUdPFro', object='batch', status='validating', cancelled_at=None, cancelling_at=None, completed_at=None, error_file_id=None, errors=None, expired_at=None, expires_at=1738684359, failed_at=None, finalizing_at=None, in_progress_at=None, metadata=None, output_file_id=None, request_counts=BatchRequestCounts(completed=0, failed=0, total=0)), 'batch_job_id': 'batch_67a0e64742e88190bb23220e39e076ca'}\n",
      "{'raw_file_name': 'M_gpt-4o-2024-08-06_T_0.7_P_few_shot_qual', 'batch_file': FileObject(id='file-HNBFB9xJKWhsDCi7vzBNKd', bytes=966278, created_at=1738597968, filename='M_gpt-4o-2024-08-06_T_0.7_P_few_shot_qual.jsonl', object='file', purpose='batch', status='processed', status_details=None), 'batch_job': Batch(id='batch_67a0e651b9608190a36c57a060e01354', completion_window='24h', created_at=1738597969, endpoint='/v1/chat/completions', input_file_id='file-HNBFB9xJKWhsDCi7vzBNKd', object='batch', status='validating', cancelled_at=None, cancelling_at=None, completed_at=None, error_file_id=None, errors=None, expired_at=None, expires_at=1738684369, failed_at=None, finalizing_at=None, in_progress_at=None, metadata=None, output_file_id=None, request_counts=BatchRequestCounts(completed=0, failed=0, total=0)), 'batch_job_id': 'batch_67a0e651b9608190a36c57a060e01354'}\n",
      "{'raw_file_name': 'M_gpt-4o-2024-08-06_T_0.7_P_cot_fewshot_qual', 'batch_file': FileObject(id='file-6M2GQpBKqqSd1hnB7FKvP3', bytes=1438778, created_at=1738597982, filename='M_gpt-4o-2024-08-06_T_0.7_P_cot_fewshot_qual.jsonl', object='file', purpose='batch', status='processed', status_details=None), 'batch_job': Batch(id='batch_67a0e65f87d08190b8ee140aa22e4171', completion_window='24h', created_at=1738597983, endpoint='/v1/chat/completions', input_file_id='file-6M2GQpBKqqSd1hnB7FKvP3', object='batch', status='validating', cancelled_at=None, cancelling_at=None, completed_at=None, error_file_id=None, errors=None, expired_at=None, expires_at=1738684383, failed_at=None, finalizing_at=None, in_progress_at=None, metadata=None, output_file_id=None, request_counts=BatchRequestCounts(completed=0, failed=0, total=0)), 'batch_job_id': 'batch_67a0e65f87d08190b8ee140aa22e4171'}\n",
      "{'raw_file_name': 'M_gpt-4o-2024-08-06_T_0.7_P_roleplay_qual', 'batch_file': FileObject(id='file-HKXiZasTqH6xybMpDs9Nak', bytes=679778, created_at=1738597989, filename='M_gpt-4o-2024-08-06_T_0.7_P_roleplay_qual.jsonl', object='file', purpose='batch', status='processed', status_details=None), 'batch_job': Batch(id='batch_67a0e6666388819085fece397a7c1412', completion_window='24h', created_at=1738597990, endpoint='/v1/chat/completions', input_file_id='file-HKXiZasTqH6xybMpDs9Nak', object='batch', status='validating', cancelled_at=None, cancelling_at=None, completed_at=None, error_file_id=None, errors=None, expired_at=None, expires_at=1738684390, failed_at=None, finalizing_at=None, in_progress_at=None, metadata=None, output_file_id=None, request_counts=BatchRequestCounts(completed=0, failed=0, total=0)), 'batch_job_id': 'batch_67a0e6666388819085fece397a7c1412'}\n"
     ]
    }
   ],
   "source": [
    "def remove_retrieved_key(dictionary):\n",
    "    for value in dictionary.values():\n",
    "        if isinstance(value, dict) and 'retrieved' in value:\n",
    "            del value['retrieved']\n",
    "            print(value)\n",
    "    return dictionary\n",
    "\n",
    "new_batch_dict = remove_retrieved_key(batch_dict)    "
   ]
  },
  {
   "cell_type": "code",
   "execution_count": 31,
   "metadata": {},
   "outputs": [
    {
     "data": {
      "text/plain": [
       "41"
      ]
     },
     "execution_count": 31,
     "metadata": {},
     "output_type": "execute_result"
    }
   ],
   "source": [
    "len(new_batch_dict)"
   ]
  },
  {
   "cell_type": "code",
   "execution_count": 86,
   "metadata": {},
   "outputs": [],
   "source": [
    "didnt_raw_json_path = []\n",
    "didnt_raw_just_path = []"
   ]
  },
  {
   "cell_type": "code",
   "execution_count": 87,
   "metadata": {},
   "outputs": [
    {
     "name": "stdout",
     "output_type": "stream",
     "text": [
      "retrieving \n",
      "_________________________________________________________\n",
      "retrieving \n",
      "_________________________________________________________\n",
      "retrieving \n",
      "_________________________________________________________\n",
      "retrieving \n",
      "_________________________________________________________\n",
      "retrieving \n",
      "_________________________________________________________\n",
      "retrieving \n",
      "_________________________________________________________\n",
      "retrieving \n",
      "_________________________________________________________\n",
      "retrieving \n",
      "_________________________________________________________\n",
      "retrieving \n",
      "retrieving M_gpt-4o-2024-08-06_T_0.7_P_roleplay_10\n",
      "not completed\n",
      "_________________________________________________________\n",
      "retrieving \n",
      "_________________________________________________________\n",
      "retrieving \n",
      "_________________________________________________________\n",
      "retrieving \n",
      "_________________________________________________________\n",
      "retrieving \n",
      "_________________________________________________________\n",
      "retrieving \n",
      "retrieving M_gpt-4o-2024-08-06_T_0.7_P_cot_fewshot_100\n",
      "not completed\n",
      "_________________________________________________________\n",
      "retrieving \n",
      "_________________________________________________________\n",
      "retrieving \n",
      "_________________________________________________________\n",
      "retrieving \n",
      "_________________________________________________________\n",
      "retrieving \n",
      "_________________________________________________________\n",
      "retrieving \n",
      "_________________________________________________________\n",
      "retrieving \n",
      "retrieving M_gpt-4o-2024-08-06_T_0.7_P_cot_fewshot_qual\n",
      "not completed\n",
      "_________________________________________________________\n",
      "retrieving \n",
      "_________________________________________________________\n",
      "retrieving \n",
      "_________________________________________________________\n",
      "retrieving \n",
      "_________________________________________________________\n",
      "retrieving \n",
      "_________________________________________________________\n",
      "retrieving \n",
      "_________________________________________________________\n",
      "retrieving \n",
      "retrieving M_gpt-4o-2024-08-06_T_1_P_cot_fewshot_10\n",
      "not completed\n",
      "_________________________________________________________\n",
      "retrieving \n",
      "_________________________________________________________\n",
      "retrieving \n",
      "retrieving M_gpt-4o-2024-08-06_T_1_P_zeroshot_10\n",
      "not completed\n",
      "_________________________________________________________\n",
      "retrieving \n",
      "_________________________________________________________\n",
      "retrieving \n",
      "_________________________________________________________\n",
      "retrieving \n",
      "_________________________________________________________\n",
      "retrieving \n",
      "_________________________________________________________\n",
      "retrieving \n",
      "_________________________________________________________\n",
      "retrieving \n",
      "_________________________________________________________\n",
      "retrieving \n",
      "retrieving M_gpt-4o-2024-08-06_T_1_P_emotional_100\n",
      "not completed\n",
      "_________________________________________________________\n",
      "retrieving \n",
      "_________________________________________________________\n",
      "retrieving \n",
      "_________________________________________________________\n",
      "retrieving \n",
      "_________________________________________________________\n",
      "retrieving \n",
      "_________________________________________________________\n",
      "retrieving \n",
      "retrieving M_gpt-4o-2024-08-06_T_1_P_zeroshot_qual\n",
      "not completed\n",
      "_________________________________________________________\n",
      "retrieving \n",
      "retrieving M_gpt-4o-2024-08-06_T_1_P_emotional_qual\n",
      "not completed\n",
      "_________________________________________________________\n"
     ]
    }
   ],
   "source": [
    "retrieve_the_batches(new_batch_dict)\n",
    "\n"
   ]
  },
  {
   "cell_type": "code",
   "execution_count": 89,
   "metadata": {},
   "outputs": [
    {
     "data": {
      "text/plain": [
       "['M_gpt-4o-2024-08-06_T_0.7_P_roleplay_10',\n",
       " 'M_gpt-4o-2024-08-06_T_0.7_P_cot_fewshot_100',\n",
       " 'M_gpt-4o-2024-08-06_T_0.7_P_cot_fewshot_qual',\n",
       " 'M_gpt-4o-2024-08-06_T_1_P_cot_fewshot_10',\n",
       " 'M_gpt-4o-2024-08-06_T_1_P_zeroshot_10',\n",
       " 'M_gpt-4o-2024-08-06_T_1_P_emotional_100',\n",
       " 'M_gpt-4o-2024-08-06_T_1_P_zeroshot_qual',\n",
       " 'M_gpt-4o-2024-08-06_T_1_P_emotional_qual']"
      ]
     },
     "execution_count": 89,
     "metadata": {},
     "output_type": "execute_result"
    }
   ],
   "source": [
    "didnt_raw_just_path"
   ]
  },
  {
   "cell_type": "code",
   "execution_count": 90,
   "metadata": {},
   "outputs": [
    {
     "data": {
      "text/plain": [
       "['raw_jsonl/M_gpt-4o-2024-08-06_T_0.7_P_roleplay_10.jsonl',\n",
       " 'raw_jsonl/M_gpt-4o-2024-08-06_T_0.7_P_cot_fewshot_100.jsonl',\n",
       " 'raw_jsonl/M_gpt-4o-2024-08-06_T_0.7_P_cot_fewshot_qual.jsonl',\n",
       " 'raw_jsonl/M_gpt-4o-2024-08-06_T_1_P_cot_fewshot_10.jsonl',\n",
       " 'raw_jsonl/M_gpt-4o-2024-08-06_T_1_P_zeroshot_10.jsonl',\n",
       " 'raw_jsonl/M_gpt-4o-2024-08-06_T_1_P_emotional_100.jsonl',\n",
       " 'raw_jsonl/M_gpt-4o-2024-08-06_T_1_P_zeroshot_qual.jsonl',\n",
       " 'raw_jsonl/M_gpt-4o-2024-08-06_T_1_P_emotional_qual.jsonl']"
      ]
     },
     "execution_count": 90,
     "metadata": {},
     "output_type": "execute_result"
    }
   ],
   "source": [
    "didnt_raw_json_path"
   ]
  },
  {
   "cell_type": "code",
   "execution_count": 68,
   "metadata": {},
   "outputs": [
    {
     "data": {
      "text/plain": [
       "{'M_o3-mini-2025-01-31_T_0.3_P_cot_10': {'raw_file_name': 'M_o3-mini-2025-01-31_T_0.3_P_cot_10',\n",
       "  'batch_file': FileObject(id='file-RXAQHkdkKGHUppT7JT1Mvj', bytes=789878, created_at=1738598485, filename='M_o3-mini-2025-01-31_T_0.3_P_cot_10.jsonl', object='file', purpose='batch', status='processed', status_details=None),\n",
       "  'batch_job': Batch(id='batch_67a0e85655988190bd7f91b929fbe3fd', completion_window='24h', created_at=1738598486, endpoint='/v1/chat/completions', input_file_id='file-RXAQHkdkKGHUppT7JT1Mvj', object='batch', status='validating', cancelled_at=None, cancelling_at=None, completed_at=None, error_file_id=None, errors=None, expired_at=None, expires_at=1738684886, failed_at=None, finalizing_at=None, in_progress_at=None, metadata=None, output_file_id=None, request_counts=BatchRequestCounts(completed=0, failed=0, total=0)),\n",
       "  'batch_job_id': 'batch_67a0e85655988190bd7f91b929fbe3fd'},\n",
       " 'M_o3-mini-2025-01-31_T_0.3_P_few_shot_10': {'raw_file_name': 'M_o3-mini-2025-01-31_T_0.3_P_few_shot_10',\n",
       "  'batch_file': FileObject(id='file-CHdbpY6Df8Tvh47Vk6s2g7', bytes=956378, created_at=1738598496, filename='M_o3-mini-2025-01-31_T_0.3_P_few_shot_10.jsonl', object='file', purpose='batch', status='processed', status_details=None),\n",
       "  'batch_job': Batch(id='batch_67a0e86163708190be29beea1dd4a47c', completion_window='24h', created_at=1738598497, endpoint='/v1/chat/completions', input_file_id='file-CHdbpY6Df8Tvh47Vk6s2g7', object='batch', status='validating', cancelled_at=None, cancelling_at=None, completed_at=None, error_file_id=None, errors=None, expired_at=None, expires_at=1738684897, failed_at=None, finalizing_at=None, in_progress_at=None, metadata=None, output_file_id=None, request_counts=BatchRequestCounts(completed=0, failed=0, total=0)),\n",
       "  'batch_job_id': 'batch_67a0e86163708190be29beea1dd4a47c'},\n",
       " 'M_o3-mini-2025-01-31_T_0.3_P_cot_fewshot_10': {'raw_file_name': 'M_o3-mini-2025-01-31_T_0.3_P_cot_fewshot_10',\n",
       "  'batch_file': FileObject(id='file-4mVGi66u6ZCUVMBjLgFFvF', bytes=1376078, created_at=1738598510, filename='M_o3-mini-2025-01-31_T_0.3_P_cot_fewshot_10.jsonl', object='file', purpose='batch', status='processed', status_details=None),\n",
       "  'batch_job': Batch(id='batch_67a0e86fd0088190a6b9dd2a4d9210e7', completion_window='24h', created_at=1738598511, endpoint='/v1/chat/completions', input_file_id='file-4mVGi66u6ZCUVMBjLgFFvF', object='batch', status='validating', cancelled_at=None, cancelling_at=None, completed_at=None, error_file_id=None, errors=None, expired_at=None, expires_at=1738684911, failed_at=None, finalizing_at=None, in_progress_at=None, metadata=None, output_file_id=None, request_counts=BatchRequestCounts(completed=0, failed=0, total=0)),\n",
       "  'batch_job_id': 'batch_67a0e86fd0088190a6b9dd2a4d9210e7'},\n",
       " 'M_o3-mini-2025-01-31_T_0.3_P_roleplay_10': {'raw_file_name': 'M_o3-mini-2025-01-31_T_0.3_P_roleplay_10',\n",
       "  'batch_file': FileObject(id='file-4CLAFYZ6af3TFHJNRH4No8', bytes=671078, created_at=1738598518, filename='M_o3-mini-2025-01-31_T_0.3_P_roleplay_10.jsonl', object='file', purpose='batch', status='processed', status_details=None),\n",
       "  'batch_job': Batch(id='batch_67a0e8771b7c8190aeafe7a9685e7dac', completion_window='24h', created_at=1738598519, endpoint='/v1/chat/completions', input_file_id='file-4CLAFYZ6af3TFHJNRH4No8', object='batch', status='validating', cancelled_at=None, cancelling_at=None, completed_at=None, error_file_id=None, errors=None, expired_at=None, expires_at=1738684919, failed_at=None, finalizing_at=None, in_progress_at=None, metadata=None, output_file_id=None, request_counts=BatchRequestCounts(completed=0, failed=0, total=0)),\n",
       "  'batch_job_id': 'batch_67a0e8771b7c8190aeafe7a9685e7dac'},\n",
       " 'M_o3-mini-2025-01-31_T_0.3_P_zeroshot_10': {'raw_file_name': 'M_o3-mini-2025-01-31_T_0.3_P_zeroshot_10',\n",
       "  'batch_file': FileObject(id='file-79XQPDnDF5wFWP3MuofxoL', bytes=487178, created_at=1738598523, filename='M_o3-mini-2025-01-31_T_0.3_P_zeroshot_10.jsonl', object='file', purpose='batch', status='processed', status_details=None),\n",
       "  'batch_job': Batch(id='batch_67a0e87c694081909861df2000432c5e', completion_window='24h', created_at=1738598524, endpoint='/v1/chat/completions', input_file_id='file-79XQPDnDF5wFWP3MuofxoL', object='batch', status='validating', cancelled_at=None, cancelling_at=None, completed_at=None, error_file_id=None, errors=None, expired_at=None, expires_at=1738684924, failed_at=None, finalizing_at=None, in_progress_at=None, metadata=None, output_file_id=None, request_counts=BatchRequestCounts(completed=0, failed=0, total=0)),\n",
       "  'batch_job_id': 'batch_67a0e87c694081909861df2000432c5e'},\n",
       " 'M_o3-mini-2025-01-31_T_0.3_P_emotional_10': {'raw_file_name': 'M_o3-mini-2025-01-31_T_0.3_P_emotional_10',\n",
       "  'batch_file': FileObject(id='file-RkkanNMFLQYZx58WUWd3Py', bytes=743978, created_at=1738598531, filename='M_o3-mini-2025-01-31_T_0.3_P_emotional_10.jsonl', object='file', purpose='batch', status='processed', status_details=None),\n",
       "  'batch_job': Batch(id='batch_67a0e8843620819094297ed6e88cc624', completion_window='24h', created_at=1738598532, endpoint='/v1/chat/completions', input_file_id='file-RkkanNMFLQYZx58WUWd3Py', object='batch', status='validating', cancelled_at=None, cancelling_at=None, completed_at=None, error_file_id=None, errors=None, expired_at=None, expires_at=1738684932, failed_at=None, finalizing_at=None, in_progress_at=None, metadata=None, output_file_id=None, request_counts=BatchRequestCounts(completed=0, failed=0, total=0)),\n",
       "  'batch_job_id': 'batch_67a0e8843620819094297ed6e88cc624'},\n",
       " 'M_o3-mini-2025-01-31_T_0.3_P_cot_100': {'raw_file_name': 'M_o3-mini-2025-01-31_T_0.3_P_cot_100',\n",
       "  'batch_file': FileObject(id='file-FpzycwGCpfcxWGc4iBtVDt', bytes=791678, created_at=1738598539, filename='M_o3-mini-2025-01-31_T_0.3_P_cot_100.jsonl', object='file', purpose='batch', status='processed', status_details=None),\n",
       "  'batch_job': Batch(id='batch_67a0e88c243081908385eba29091a81c', completion_window='24h', created_at=1738598540, endpoint='/v1/chat/completions', input_file_id='file-FpzycwGCpfcxWGc4iBtVDt', object='batch', status='validating', cancelled_at=None, cancelling_at=None, completed_at=None, error_file_id=None, errors=None, expired_at=None, expires_at=1738684940, failed_at=None, finalizing_at=None, in_progress_at=None, metadata=None, output_file_id=None, request_counts=BatchRequestCounts(completed=0, failed=0, total=0)),\n",
       "  'batch_job_id': 'batch_67a0e88c243081908385eba29091a81c'},\n",
       " 'M_o3-mini-2025-01-31_T_0.3_P_few_shot_100': {'raw_file_name': 'M_o3-mini-2025-01-31_T_0.3_P_few_shot_100',\n",
       "  'batch_file': FileObject(id='file-1x85d6j83t22GrV4RVMLxM', bytes=957878, created_at=1738598548, filename='M_o3-mini-2025-01-31_T_0.3_P_few_shot_100.jsonl', object='file', purpose='batch', status='processed', status_details=None),\n",
       "  'batch_job': Batch(id='batch_67a0e895a9588190b35ca492a85b7739', completion_window='24h', created_at=1738598549, endpoint='/v1/chat/completions', input_file_id='file-1x85d6j83t22GrV4RVMLxM', object='batch', status='validating', cancelled_at=None, cancelling_at=None, completed_at=None, error_file_id=None, errors=None, expired_at=None, expires_at=1738684949, failed_at=None, finalizing_at=None, in_progress_at=None, metadata=None, output_file_id=None, request_counts=BatchRequestCounts(completed=0, failed=0, total=0)),\n",
       "  'batch_job_id': 'batch_67a0e895a9588190b35ca492a85b7739'},\n",
       " 'M_o3-mini-2025-01-31_T_0.3_P_cot_fewshot_100': {'raw_file_name': 'M_o3-mini-2025-01-31_T_0.3_P_cot_fewshot_100',\n",
       "  'batch_file': FileObject(id='file-PrfdivHfBA2xYBtxEQzSNV', bytes=1379078, created_at=1738598561, filename='M_o3-mini-2025-01-31_T_0.3_P_cot_fewshot_100.jsonl', object='file', purpose='batch', status='processed', status_details=None),\n",
       "  'batch_job': Batch(id='batch_67a0e8a27bf88190a869efd2c502375b', completion_window='24h', created_at=1738598562, endpoint='/v1/chat/completions', input_file_id='file-PrfdivHfBA2xYBtxEQzSNV', object='batch', status='validating', cancelled_at=None, cancelling_at=None, completed_at=None, error_file_id=None, errors=None, expired_at=None, expires_at=1738684962, failed_at=None, finalizing_at=None, in_progress_at=None, metadata=None, output_file_id=None, request_counts=BatchRequestCounts(completed=0, failed=0, total=0)),\n",
       "  'batch_job_id': 'batch_67a0e8a27bf88190a869efd2c502375b'},\n",
       " 'M_o3-mini-2025-01-31_T_0.3_P_roleplay_100': {'raw_file_name': 'M_o3-mini-2025-01-31_T_0.3_P_roleplay_100',\n",
       "  'batch_file': FileObject(id='file-BTMxvnCmKkT1AY3urftUcL', bytes=671378, created_at=1738598569, filename='M_o3-mini-2025-01-31_T_0.3_P_roleplay_100.jsonl', object='file', purpose='batch', status='processed', status_details=None),\n",
       "  'batch_job': Batch(id='batch_67a0e8aa335c819090e2cc3aa09055e9', completion_window='24h', created_at=1738598570, endpoint='/v1/chat/completions', input_file_id='file-BTMxvnCmKkT1AY3urftUcL', object='batch', status='validating', cancelled_at=None, cancelling_at=None, completed_at=None, error_file_id=None, errors=None, expired_at=None, expires_at=1738684970, failed_at=None, finalizing_at=None, in_progress_at=None, metadata=None, output_file_id=None, request_counts=BatchRequestCounts(completed=0, failed=0, total=0)),\n",
       "  'batch_job_id': 'batch_67a0e8aa335c819090e2cc3aa09055e9'},\n",
       " 'M_o3-mini-2025-01-31_T_0.3_P_zeroshot_100': {'raw_file_name': 'M_o3-mini-2025-01-31_T_0.3_P_zeroshot_100',\n",
       "  'batch_file': FileObject(id='file-LhUMxVsNzumGMHwjisTv99', bytes=487478, created_at=1738598575, filename='M_o3-mini-2025-01-31_T_0.3_P_zeroshot_100.jsonl', object='file', purpose='batch', status='processed', status_details=None),\n",
       "  'batch_job': Batch(id='batch_67a0e8afd5dc8190958b51b9421d8357', completion_window='24h', created_at=1738598575, endpoint='/v1/chat/completions', input_file_id='file-LhUMxVsNzumGMHwjisTv99', object='batch', status='validating', cancelled_at=None, cancelling_at=None, completed_at=None, error_file_id=None, errors=None, expired_at=None, expires_at=1738684975, failed_at=None, finalizing_at=None, in_progress_at=None, metadata=None, output_file_id=None, request_counts=BatchRequestCounts(completed=0, failed=0, total=0)),\n",
       "  'batch_job_id': 'batch_67a0e8afd5dc8190958b51b9421d8357'},\n",
       " 'M_o3-mini-2025-01-31_T_0.3_P_emotional_100': {'raw_file_name': 'M_o3-mini-2025-01-31_T_0.3_P_emotional_100',\n",
       "  'batch_file': FileObject(id='file-GG3kvZ4JPCgFLG6XZxECx2', bytes=744278, created_at=1738598583, filename='M_o3-mini-2025-01-31_T_0.3_P_emotional_100.jsonl', object='file', purpose='batch', status='processed', status_details=None),\n",
       "  'batch_job': Batch(id='batch_67a0e8b8e01081909f5e6db0f9698b49', completion_window='24h', created_at=1738598584, endpoint='/v1/chat/completions', input_file_id='file-GG3kvZ4JPCgFLG6XZxECx2', object='batch', status='validating', cancelled_at=None, cancelling_at=None, completed_at=None, error_file_id=None, errors=None, expired_at=None, expires_at=1738684984, failed_at=None, finalizing_at=None, in_progress_at=None, metadata=None, output_file_id=None, request_counts=BatchRequestCounts(completed=0, failed=0, total=0)),\n",
       "  'batch_job_id': 'batch_67a0e8b8e01081909f5e6db0f9698b49'},\n",
       " 'M_o3-mini-2025-01-31_T_0.3_P_cot_qual': {'raw_file_name': 'M_o3-mini-2025-01-31_T_0.3_P_cot_qual',\n",
       "  'batch_file': FileObject(id='file-ESej8JpJpSVo9JpUf69aTh', bytes=863978, created_at=1738598592, filename='M_o3-mini-2025-01-31_T_0.3_P_cot_qual.jsonl', object='file', purpose='batch', status='processed', status_details=None),\n",
       "  'batch_job': Batch(id='batch_67a0e8c1ac70819086d9e236574b10f2', completion_window='24h', created_at=1738598593, endpoint='/v1/chat/completions', input_file_id='file-ESej8JpJpSVo9JpUf69aTh', object='batch', status='validating', cancelled_at=None, cancelling_at=None, completed_at=None, error_file_id=None, errors=None, expired_at=None, expires_at=1738684993, failed_at=None, finalizing_at=None, in_progress_at=None, metadata=None, output_file_id=None, request_counts=BatchRequestCounts(completed=0, failed=0, total=0)),\n",
       "  'batch_job_id': 'batch_67a0e8c1ac70819086d9e236574b10f2'},\n",
       " 'M_o3-mini-2025-01-31_T_0.3_P_few_shot_qual': {'raw_file_name': 'M_o3-mini-2025-01-31_T_0.3_P_few_shot_qual',\n",
       "  'batch_file': FileObject(id='file-8scp9QUek73sv7uowZ8jga', bytes=966578, created_at=1738598602, filename='M_o3-mini-2025-01-31_T_0.3_P_few_shot_qual.jsonl', object='file', purpose='batch', status='processed', status_details=None),\n",
       "  'batch_job': Batch(id='batch_67a0e8cbc96c81908fc3cc9974f1849f', completion_window='24h', created_at=1738598603, endpoint='/v1/chat/completions', input_file_id='file-8scp9QUek73sv7uowZ8jga', object='batch', status='validating', cancelled_at=None, cancelling_at=None, completed_at=None, error_file_id=None, errors=None, expired_at=None, expires_at=1738685003, failed_at=None, finalizing_at=None, in_progress_at=None, metadata=None, output_file_id=None, request_counts=BatchRequestCounts(completed=0, failed=0, total=0)),\n",
       "  'batch_job_id': 'batch_67a0e8cbc96c81908fc3cc9974f1849f'},\n",
       " 'M_o3-mini-2025-01-31_T_0.3_P_cot_fewshot_qual': {'raw_file_name': 'M_o3-mini-2025-01-31_T_0.3_P_cot_fewshot_qual',\n",
       "  'batch_file': FileObject(id='file-JKH5RrnA9m2M3Mh7a3AxDP', bytes=1439078, created_at=1738598616, filename='M_o3-mini-2025-01-31_T_0.3_P_cot_fewshot_qual.jsonl', object='file', purpose='batch', status='processed', status_details=None),\n",
       "  'batch_job': Batch(id='batch_67a0e8d8fe1081909f5d5afb019f1b13', completion_window='24h', created_at=1738598617, endpoint='/v1/chat/completions', input_file_id='file-JKH5RrnA9m2M3Mh7a3AxDP', object='batch', status='validating', cancelled_at=None, cancelling_at=None, completed_at=None, error_file_id=None, errors=None, expired_at=None, expires_at=1738685017, failed_at=None, finalizing_at=None, in_progress_at=None, metadata=None, output_file_id=None, request_counts=BatchRequestCounts(completed=0, failed=0, total=0)),\n",
       "  'batch_job_id': 'batch_67a0e8d8fe1081909f5d5afb019f1b13'},\n",
       " 'M_o3-mini-2025-01-31_T_0.3_P_roleplay_qual': {'raw_file_name': 'M_o3-mini-2025-01-31_T_0.3_P_roleplay_qual',\n",
       "  'batch_file': FileObject(id='file-CuSt28PtdUnuxBT2hYDDVu', bytes=680078, created_at=1738598623, filename='M_o3-mini-2025-01-31_T_0.3_P_roleplay_qual.jsonl', object='file', purpose='batch', status='processed', status_details=None),\n",
       "  'batch_job': Batch(id='batch_67a0e8e6e71081909e4bcbc77ba02be0', completion_window='24h', created_at=1738598633, endpoint='/v1/chat/completions', input_file_id='file-CuSt28PtdUnuxBT2hYDDVu', object='batch', status='validating', cancelled_at=None, cancelling_at=None, completed_at=None, error_file_id=None, errors=None, expired_at=None, expires_at=1738685033, failed_at=None, finalizing_at=None, in_progress_at=None, metadata=None, output_file_id=None, request_counts=BatchRequestCounts(completed=0, failed=0, total=0)),\n",
       "  'batch_job_id': 'batch_67a0e8e6e71081909e4bcbc77ba02be0'},\n",
       " 'M_o3-mini-2025-01-31_T_0.3_P_zeroshot_qual': {'raw_file_name': 'M_o3-mini-2025-01-31_T_0.3_P_zeroshot_qual',\n",
       "  'batch_file': FileObject(id='file-BuvGgkJBXMUjdwcGCVtLBC', bytes=496178, created_at=1738598650, filename='M_o3-mini-2025-01-31_T_0.3_P_zeroshot_qual.jsonl', object='file', purpose='batch', status='processed', status_details=None),\n",
       "  'batch_job': Batch(id='batch_67a0e8ff29a48190be967dcad5fd3156', completion_window='24h', created_at=1738598655, endpoint='/v1/chat/completions', input_file_id='file-BuvGgkJBXMUjdwcGCVtLBC', object='batch', status='validating', cancelled_at=None, cancelling_at=None, completed_at=None, error_file_id=None, errors=None, expired_at=None, expires_at=1738685055, failed_at=None, finalizing_at=None, in_progress_at=None, metadata=None, output_file_id=None, request_counts=BatchRequestCounts(completed=0, failed=0, total=0)),\n",
       "  'batch_job_id': 'batch_67a0e8ff29a48190be967dcad5fd3156'},\n",
       " 'M_o3-mini-2025-01-31_T_0.3_P_emotional_qual': {'raw_file_name': 'M_o3-mini-2025-01-31_T_0.3_P_emotional_qual',\n",
       "  'batch_file': FileObject(id='file-1ETddhbnkQhRYz6U7t3xzu', bytes=752978, created_at=1738598661, filename='M_o3-mini-2025-01-31_T_0.3_P_emotional_qual.jsonl', object='file', purpose='batch', status='processed', status_details=None),\n",
       "  'batch_job': Batch(id='batch_67a0e906ab288190b92dec1d869cc501', completion_window='24h', created_at=1738598662, endpoint='/v1/chat/completions', input_file_id='file-1ETddhbnkQhRYz6U7t3xzu', object='batch', status='validating', cancelled_at=None, cancelling_at=None, completed_at=None, error_file_id=None, errors=None, expired_at=None, expires_at=1738685062, failed_at=None, finalizing_at=None, in_progress_at=None, metadata=None, output_file_id=None, request_counts=BatchRequestCounts(completed=0, failed=0, total=0)),\n",
       "  'batch_job_id': 'batch_67a0e906ab288190b92dec1d869cc501'},\n",
       " 'M_o3-mini-2025-01-31_T_0.7_P_cot_10': {'raw_file_name': 'M_o3-mini-2025-01-31_T_0.7_P_cot_10',\n",
       "  'batch_file': FileObject(id='file-V3n24LVJeqNWpxFWHmkoYP', bytes=789878, created_at=1738598669, filename='M_o3-mini-2025-01-31_T_0.7_P_cot_10.jsonl', object='file', purpose='batch', status='processed', status_details=None),\n",
       "  'batch_job': Batch(id='batch_67a0e90e80408190a1c494c357e64f6f', completion_window='24h', created_at=1738598670, endpoint='/v1/chat/completions', input_file_id='file-V3n24LVJeqNWpxFWHmkoYP', object='batch', status='validating', cancelled_at=None, cancelling_at=None, completed_at=None, error_file_id=None, errors=None, expired_at=None, expires_at=1738685070, failed_at=None, finalizing_at=None, in_progress_at=None, metadata=None, output_file_id=None, request_counts=BatchRequestCounts(completed=0, failed=0, total=0)),\n",
       "  'batch_job_id': 'batch_67a0e90e80408190a1c494c357e64f6f'},\n",
       " 'M_o3-mini-2025-01-31_T_0.7_P_few_shot_10': {'raw_file_name': 'M_o3-mini-2025-01-31_T_0.7_P_few_shot_10',\n",
       "  'batch_file': FileObject(id='file-FbgNvgXrKniGTUAkGq3rRe', bytes=956378, created_at=1738598679, filename='M_o3-mini-2025-01-31_T_0.7_P_few_shot_10.jsonl', object='file', purpose='batch', status='processed', status_details=None),\n",
       "  'batch_job': Batch(id='batch_67a0e91911948190ad584c3cf7c9565a', completion_window='24h', created_at=1738598681, endpoint='/v1/chat/completions', input_file_id='file-FbgNvgXrKniGTUAkGq3rRe', object='batch', status='validating', cancelled_at=None, cancelling_at=None, completed_at=None, error_file_id=None, errors=None, expired_at=None, expires_at=1738685081, failed_at=None, finalizing_at=None, in_progress_at=None, metadata=None, output_file_id=None, request_counts=BatchRequestCounts(completed=0, failed=0, total=0)),\n",
       "  'batch_job_id': 'batch_67a0e91911948190ad584c3cf7c9565a'},\n",
       " 'M_o3-mini-2025-01-31_T_0.7_P_cot_fewshot_10': {'raw_file_name': 'M_o3-mini-2025-01-31_T_0.7_P_cot_fewshot_10',\n",
       "  'batch_file': FileObject(id='file-4fF8bmUfNQziVPKzFvL7Hg', bytes=1376078, created_at=1738598693, filename='M_o3-mini-2025-01-31_T_0.7_P_cot_fewshot_10.jsonl', object='file', purpose='batch', status='processed', status_details=None),\n",
       "  'batch_job': Batch(id='batch_67a0e92658f08190af58b749f881fe32', completion_window='24h', created_at=1738598694, endpoint='/v1/chat/completions', input_file_id='file-4fF8bmUfNQziVPKzFvL7Hg', object='batch', status='validating', cancelled_at=None, cancelling_at=None, completed_at=None, error_file_id=None, errors=None, expired_at=None, expires_at=1738685094, failed_at=None, finalizing_at=None, in_progress_at=None, metadata=None, output_file_id=None, request_counts=BatchRequestCounts(completed=0, failed=0, total=0)),\n",
       "  'batch_job_id': 'batch_67a0e92658f08190af58b749f881fe32'},\n",
       " 'M_o3-mini-2025-01-31_T_0.7_P_roleplay_10': {'raw_file_name': 'M_o3-mini-2025-01-31_T_0.7_P_roleplay_10',\n",
       "  'batch_file': FileObject(id='file-Lgb5ncaZiCUHJmwPjWjWde', bytes=671078, created_at=1738598700, filename='M_o3-mini-2025-01-31_T_0.7_P_roleplay_10.jsonl', object='file', purpose='batch', status='processed', status_details=None),\n",
       "  'batch_job': Batch(id='batch_67a0e92d1d68819084656d8bd57e15cc', completion_window='24h', created_at=1738598701, endpoint='/v1/chat/completions', input_file_id='file-Lgb5ncaZiCUHJmwPjWjWde', object='batch', status='validating', cancelled_at=None, cancelling_at=None, completed_at=None, error_file_id=None, errors=None, expired_at=None, expires_at=1738685101, failed_at=None, finalizing_at=None, in_progress_at=None, metadata=None, output_file_id=None, request_counts=BatchRequestCounts(completed=0, failed=0, total=0)),\n",
       "  'batch_job_id': 'batch_67a0e92d1d68819084656d8bd57e15cc'},\n",
       " 'M_o3-mini-2025-01-31_T_0.7_P_zeroshot_10': {'raw_file_name': 'M_o3-mini-2025-01-31_T_0.7_P_zeroshot_10',\n",
       "  'batch_file': FileObject(id='file-49ajsmYDiZFE4KbcpqTHXH', bytes=487178, created_at=1738598705, filename='M_o3-mini-2025-01-31_T_0.7_P_zeroshot_10.jsonl', object='file', purpose='batch', status='processed', status_details=None),\n",
       "  'batch_job': Batch(id='batch_67a0e933098c81908f50b9491e284be4', completion_window='24h', created_at=1738598707, endpoint='/v1/chat/completions', input_file_id='file-49ajsmYDiZFE4KbcpqTHXH', object='batch', status='validating', cancelled_at=None, cancelling_at=None, completed_at=None, error_file_id=None, errors=None, expired_at=None, expires_at=1738685107, failed_at=None, finalizing_at=None, in_progress_at=None, metadata=None, output_file_id=None, request_counts=BatchRequestCounts(completed=0, failed=0, total=0)),\n",
       "  'batch_job_id': 'batch_67a0e933098c81908f50b9491e284be4'},\n",
       " 'M_o3-mini-2025-01-31_T_0.7_P_emotional_10': {'raw_file_name': 'M_o3-mini-2025-01-31_T_0.7_P_emotional_10',\n",
       "  'batch_file': FileObject(id='file-ApSzh7zrm9eQ1wc7C8ARTw', bytes=743978, created_at=1738598713, filename='M_o3-mini-2025-01-31_T_0.7_P_emotional_10.jsonl', object='file', purpose='batch', status='processed', status_details=None),\n",
       "  'batch_job': Batch(id='batch_67a0e93b12648190a44079691b3e5c1c', completion_window='24h', created_at=1738598715, endpoint='/v1/chat/completions', input_file_id='file-ApSzh7zrm9eQ1wc7C8ARTw', object='batch', status='validating', cancelled_at=None, cancelling_at=None, completed_at=None, error_file_id=None, errors=None, expired_at=None, expires_at=1738685115, failed_at=None, finalizing_at=None, in_progress_at=None, metadata=None, output_file_id=None, request_counts=BatchRequestCounts(completed=0, failed=0, total=0)),\n",
       "  'batch_job_id': 'batch_67a0e93b12648190a44079691b3e5c1c'},\n",
       " 'M_o3-mini-2025-01-31_T_0.7_P_cot_100': {'raw_file_name': 'M_o3-mini-2025-01-31_T_0.7_P_cot_100',\n",
       "  'batch_file': FileObject(id='file-P7c9SCwk2Di78qGhQwD2u4', bytes=791678, created_at=1738598722, filename='M_o3-mini-2025-01-31_T_0.7_P_cot_100.jsonl', object='file', purpose='batch', status='processed', status_details=None),\n",
       "  'batch_job': Batch(id='batch_67a0e942e2c481909120454e81011641', completion_window='24h', created_at=1738598723, endpoint='/v1/chat/completions', input_file_id='file-P7c9SCwk2Di78qGhQwD2u4', object='batch', status='validating', cancelled_at=None, cancelling_at=None, completed_at=None, error_file_id=None, errors=None, expired_at=None, expires_at=1738685123, failed_at=None, finalizing_at=None, in_progress_at=None, metadata=None, output_file_id=None, request_counts=BatchRequestCounts(completed=0, failed=0, total=0)),\n",
       "  'batch_job_id': 'batch_67a0e942e2c481909120454e81011641'},\n",
       " 'M_o3-mini-2025-01-31_T_0.7_P_few_shot_100': {'raw_file_name': 'M_o3-mini-2025-01-31_T_0.7_P_few_shot_100',\n",
       "  'batch_file': FileObject(id='file-W3ksrX4MPnpw92BVuUPUxP', bytes=957878, created_at=1738598731, filename='M_o3-mini-2025-01-31_T_0.7_P_few_shot_100.jsonl', object='file', purpose='batch', status='processed', status_details=None),\n",
       "  'batch_job': Batch(id='batch_67a0e94c3a3081909b7e3b69cef98d50', completion_window='24h', created_at=1738598732, endpoint='/v1/chat/completions', input_file_id='file-W3ksrX4MPnpw92BVuUPUxP', object='batch', status='validating', cancelled_at=None, cancelling_at=None, completed_at=None, error_file_id=None, errors=None, expired_at=None, expires_at=1738685132, failed_at=None, finalizing_at=None, in_progress_at=None, metadata=None, output_file_id=None, request_counts=BatchRequestCounts(completed=0, failed=0, total=0)),\n",
       "  'batch_job_id': 'batch_67a0e94c3a3081909b7e3b69cef98d50'},\n",
       " 'M_o3-mini-2025-01-31_T_0.7_P_cot_fewshot_100': {'raw_file_name': 'M_o3-mini-2025-01-31_T_0.7_P_cot_fewshot_100',\n",
       "  'batch_file': FileObject(id='file-3XCCji3mzWdh3C9fdpott7', bytes=1379078, created_at=1738598744, filename='M_o3-mini-2025-01-31_T_0.7_P_cot_fewshot_100.jsonl', object='file', purpose='batch', status='processed', status_details=None),\n",
       "  'batch_job': Batch(id='batch_67a0e9591c448190a48d339d58fce99a', completion_window='24h', created_at=1738598745, endpoint='/v1/chat/completions', input_file_id='file-3XCCji3mzWdh3C9fdpott7', object='batch', status='validating', cancelled_at=None, cancelling_at=None, completed_at=None, error_file_id=None, errors=None, expired_at=None, expires_at=1738685145, failed_at=None, finalizing_at=None, in_progress_at=None, metadata=None, output_file_id=None, request_counts=BatchRequestCounts(completed=0, failed=0, total=0)),\n",
       "  'batch_job_id': 'batch_67a0e9591c448190a48d339d58fce99a'},\n",
       " 'M_o3-mini-2025-01-31_T_0.7_P_roleplay_100': {'raw_file_name': 'M_o3-mini-2025-01-31_T_0.7_P_roleplay_100',\n",
       "  'batch_file': FileObject(id='file-5Lo4Kyf7gMbZ7xzW9Pi6uf', bytes=671378, created_at=1738598751, filename='M_o3-mini-2025-01-31_T_0.7_P_roleplay_100.jsonl', object='file', purpose='batch', status='processed', status_details=None),\n",
       "  'batch_job': Batch(id='batch_67a0e961405c81909860b55a615313f6', completion_window='24h', created_at=1738598753, endpoint='/v1/chat/completions', input_file_id='file-5Lo4Kyf7gMbZ7xzW9Pi6uf', object='batch', status='validating', cancelled_at=None, cancelling_at=None, completed_at=None, error_file_id=None, errors=None, expired_at=None, expires_at=1738685153, failed_at=None, finalizing_at=None, in_progress_at=None, metadata=None, output_file_id=None, request_counts=BatchRequestCounts(completed=0, failed=0, total=0)),\n",
       "  'batch_job_id': 'batch_67a0e961405c81909860b55a615313f6'},\n",
       " 'M_o3-mini-2025-01-31_T_0.7_P_zeroshot_100': {'raw_file_name': 'M_o3-mini-2025-01-31_T_0.7_P_zeroshot_100',\n",
       "  'batch_file': FileObject(id='file-HTqSugv56irTRxEW1HFYxM', bytes=487478, created_at=1738598757, filename='M_o3-mini-2025-01-31_T_0.7_P_zeroshot_100.jsonl', object='file', purpose='batch', status='processed', status_details=None),\n",
       "  'batch_job': Batch(id='batch_67a0e966b41c8190b0c1ec4878561a9e', completion_window='24h', created_at=1738598758, endpoint='/v1/chat/completions', input_file_id='file-HTqSugv56irTRxEW1HFYxM', object='batch', status='validating', cancelled_at=None, cancelling_at=None, completed_at=None, error_file_id=None, errors=None, expired_at=None, expires_at=1738685158, failed_at=None, finalizing_at=None, in_progress_at=None, metadata=None, output_file_id=None, request_counts=BatchRequestCounts(completed=0, failed=0, total=0)),\n",
       "  'batch_job_id': 'batch_67a0e966b41c8190b0c1ec4878561a9e'},\n",
       " 'M_o3-mini-2025-01-31_T_0.7_P_emotional_100': {'raw_file_name': 'M_o3-mini-2025-01-31_T_0.7_P_emotional_100',\n",
       "  'batch_file': FileObject(id='file-1Tv9PmeyySwyQiNRHyRXMc', bytes=744278, created_at=1738598765, filename='M_o3-mini-2025-01-31_T_0.7_P_emotional_100.jsonl', object='file', purpose='batch', status='processed', status_details=None),\n",
       "  'batch_job': Batch(id='batch_67a0e96ea3f48190a1e7c47bfe459881', completion_window='24h', created_at=1738598766, endpoint='/v1/chat/completions', input_file_id='file-1Tv9PmeyySwyQiNRHyRXMc', object='batch', status='validating', cancelled_at=None, cancelling_at=None, completed_at=None, error_file_id=None, errors=None, expired_at=None, expires_at=1738685166, failed_at=None, finalizing_at=None, in_progress_at=None, metadata=None, output_file_id=None, request_counts=BatchRequestCounts(completed=0, failed=0, total=0)),\n",
       "  'batch_job_id': 'batch_67a0e96ea3f48190a1e7c47bfe459881'},\n",
       " 'M_o3-mini-2025-01-31_T_0.7_P_cot_qual': {'raw_file_name': 'M_o3-mini-2025-01-31_T_0.7_P_cot_qual',\n",
       "  'batch_file': FileObject(id='file-Vmke6wG7MqREdGiwCDgkm2', bytes=863978, created_at=1738598774, filename='M_o3-mini-2025-01-31_T_0.7_P_cot_qual.jsonl', object='file', purpose='batch', status='processed', status_details=None),\n",
       "  'batch_job': Batch(id='batch_67a0e97756948190b31cff0f22658be6', completion_window='24h', created_at=1738598775, endpoint='/v1/chat/completions', input_file_id='file-Vmke6wG7MqREdGiwCDgkm2', object='batch', status='validating', cancelled_at=None, cancelling_at=None, completed_at=None, error_file_id=None, errors=None, expired_at=None, expires_at=1738685175, failed_at=None, finalizing_at=None, in_progress_at=None, metadata=None, output_file_id=None, request_counts=BatchRequestCounts(completed=0, failed=0, total=0)),\n",
       "  'batch_job_id': 'batch_67a0e97756948190b31cff0f22658be6'},\n",
       " 'M_o3-mini-2025-01-31_T_0.7_P_few_shot_qual': {'raw_file_name': 'M_o3-mini-2025-01-31_T_0.7_P_few_shot_qual',\n",
       "  'batch_file': FileObject(id='file-Jkf7YCxct2aShYZXHNmN6Y', bytes=966578, created_at=1738598783, filename='M_o3-mini-2025-01-31_T_0.7_P_few_shot_qual.jsonl', object='file', purpose='batch', status='processed', status_details=None),\n",
       "  'batch_job': Batch(id='batch_67a0e980c8288190a4b6564c1b16a120', completion_window='24h', created_at=1738598784, endpoint='/v1/chat/completions', input_file_id='file-Jkf7YCxct2aShYZXHNmN6Y', object='batch', status='validating', cancelled_at=None, cancelling_at=None, completed_at=None, error_file_id=None, errors=None, expired_at=None, expires_at=1738685184, failed_at=None, finalizing_at=None, in_progress_at=None, metadata=None, output_file_id=None, request_counts=BatchRequestCounts(completed=0, failed=0, total=0)),\n",
       "  'batch_job_id': 'batch_67a0e980c8288190a4b6564c1b16a120'},\n",
       " 'M_o3-mini-2025-01-31_T_0.7_P_cot_fewshot_qual': {'raw_file_name': 'M_o3-mini-2025-01-31_T_0.7_P_cot_fewshot_qual',\n",
       "  'batch_file': FileObject(id='file-CjqrG9f528YptNhGA3AzbC', bytes=1439078, created_at=1738598797, filename='M_o3-mini-2025-01-31_T_0.7_P_cot_fewshot_qual.jsonl', object='file', purpose='batch', status='processed', status_details=None),\n",
       "  'batch_job': Batch(id='batch_67a0e98e974c81909c1c1ad377943256', completion_window='24h', created_at=1738598798, endpoint='/v1/chat/completions', input_file_id='file-CjqrG9f528YptNhGA3AzbC', object='batch', status='validating', cancelled_at=None, cancelling_at=None, completed_at=None, error_file_id=None, errors=None, expired_at=None, expires_at=1738685198, failed_at=None, finalizing_at=None, in_progress_at=None, metadata=None, output_file_id=None, request_counts=BatchRequestCounts(completed=0, failed=0, total=0)),\n",
       "  'batch_job_id': 'batch_67a0e98e974c81909c1c1ad377943256'},\n",
       " 'M_o3-mini-2025-01-31_T_0.7_P_roleplay_qual': {'raw_file_name': 'M_o3-mini-2025-01-31_T_0.7_P_roleplay_qual',\n",
       "  'batch_file': FileObject(id='file-DWPFv7gG4csTkZvoZgF1SR', bytes=680078, created_at=1738598804, filename='M_o3-mini-2025-01-31_T_0.7_P_roleplay_qual.jsonl', object='file', purpose='batch', status='processed', status_details=None),\n",
       "  'batch_job': Batch(id='batch_67a0e995a13081909c64f04824157ac8', completion_window='24h', created_at=1738598805, endpoint='/v1/chat/completions', input_file_id='file-DWPFv7gG4csTkZvoZgF1SR', object='batch', status='validating', cancelled_at=None, cancelling_at=None, completed_at=None, error_file_id=None, errors=None, expired_at=None, expires_at=1738685205, failed_at=None, finalizing_at=None, in_progress_at=None, metadata=None, output_file_id=None, request_counts=BatchRequestCounts(completed=0, failed=0, total=0)),\n",
       "  'batch_job_id': 'batch_67a0e995a13081909c64f04824157ac8'},\n",
       " 'M_o3-mini-2025-01-31_T_0.7_P_zeroshot_qual': {'raw_file_name': 'M_o3-mini-2025-01-31_T_0.7_P_zeroshot_qual',\n",
       "  'batch_file': FileObject(id='file-UiFyVzQivvGScUU3oM7hLj', bytes=496178, created_at=1738598810, filename='M_o3-mini-2025-01-31_T_0.7_P_zeroshot_qual.jsonl', object='file', purpose='batch', status='processed', status_details=None),\n",
       "  'batch_job': Batch(id='batch_67a0e99d1ccc81908723b386b8445bbb', completion_window='24h', created_at=1738598813, endpoint='/v1/chat/completions', input_file_id='file-UiFyVzQivvGScUU3oM7hLj', object='batch', status='validating', cancelled_at=None, cancelling_at=None, completed_at=None, error_file_id=None, errors=None, expired_at=None, expires_at=1738685213, failed_at=None, finalizing_at=None, in_progress_at=None, metadata=None, output_file_id=None, request_counts=BatchRequestCounts(completed=0, failed=0, total=0)),\n",
       "  'batch_job_id': 'batch_67a0e99d1ccc81908723b386b8445bbb'},\n",
       " 'M_o3-mini-2025-01-31_T_0.7_P_emotional_qual': {'raw_file_name': 'M_o3-mini-2025-01-31_T_0.7_P_emotional_qual',\n",
       "  'batch_file': FileObject(id='file-SWJD5Z8PyvRPZLTBgEUujW', bytes=752978, created_at=1738598832, filename='M_o3-mini-2025-01-31_T_0.7_P_emotional_qual.jsonl', object='file', purpose='batch', status='processed', status_details=None),\n",
       "  'batch_job': Batch(id='batch_67a0e9b1df848190ab171539b9b9623c', completion_window='24h', created_at=1738598833, endpoint='/v1/chat/completions', input_file_id='file-SWJD5Z8PyvRPZLTBgEUujW', object='batch', status='validating', cancelled_at=None, cancelling_at=None, completed_at=None, error_file_id=None, errors=None, expired_at=None, expires_at=1738685233, failed_at=None, finalizing_at=None, in_progress_at=None, metadata=None, output_file_id=None, request_counts=BatchRequestCounts(completed=0, failed=0, total=0)),\n",
       "  'batch_job_id': 'batch_67a0e9b1df848190ab171539b9b9623c'},\n",
       " 'M_o3-mini-2025-01-31_T_1_P_cot_10': {'raw_file_name': 'M_o3-mini-2025-01-31_T_1_P_cot_10',\n",
       "  'batch_file': FileObject(id='file-C7Zi776cmEFQkQ9errSYmk', bytes=789278, created_at=1738598847, filename='M_o3-mini-2025-01-31_T_1_P_cot_10.jsonl', object='file', purpose='batch', status='processed', status_details=None),\n",
       "  'batch_job': Batch(id='batch_67a0e9c08d68819089263de4c01d42ed', completion_window='24h', created_at=1738598848, endpoint='/v1/chat/completions', input_file_id='file-C7Zi776cmEFQkQ9errSYmk', object='batch', status='validating', cancelled_at=None, cancelling_at=None, completed_at=None, error_file_id=None, errors=None, expired_at=None, expires_at=1738685248, failed_at=None, finalizing_at=None, in_progress_at=None, metadata=None, output_file_id=None, request_counts=BatchRequestCounts(completed=0, failed=0, total=0)),\n",
       "  'batch_job_id': 'batch_67a0e9c08d68819089263de4c01d42ed'},\n",
       " 'M_o3-mini-2025-01-31_T_1_P_few_shot_10': {'raw_file_name': 'M_o3-mini-2025-01-31_T_1_P_few_shot_10',\n",
       "  'batch_file': FileObject(id='file-4hFeyhAiThBfcw9nxYtPeZ', bytes=955778, created_at=1738598858, filename='M_o3-mini-2025-01-31_T_1_P_few_shot_10.jsonl', object='file', purpose='batch', status='processed', status_details=None),\n",
       "  'batch_job': Batch(id='batch_67a0e9cbd39c8190b823b0d8a4df176f', completion_window='24h', created_at=1738598859, endpoint='/v1/chat/completions', input_file_id='file-4hFeyhAiThBfcw9nxYtPeZ', object='batch', status='validating', cancelled_at=None, cancelling_at=None, completed_at=None, error_file_id=None, errors=None, expired_at=None, expires_at=1738685259, failed_at=None, finalizing_at=None, in_progress_at=None, metadata=None, output_file_id=None, request_counts=BatchRequestCounts(completed=0, failed=0, total=0)),\n",
       "  'batch_job_id': 'batch_67a0e9cbd39c8190b823b0d8a4df176f'},\n",
       " 'M_o3-mini-2025-01-31_T_1_P_cot_fewshot_10': {'raw_file_name': 'M_o3-mini-2025-01-31_T_1_P_cot_fewshot_10',\n",
       "  'batch_file': FileObject(id='file-RGoxNWAg9Tmn4dvDaeikPP', bytes=1375478, created_at=1738598879, filename='M_o3-mini-2025-01-31_T_1_P_cot_fewshot_10.jsonl', object='file', purpose='batch', status='processed', status_details=None),\n",
       "  'batch_job': Batch(id='batch_67a0e9e0a0e88190a4ce07e901d2d815', completion_window='24h', created_at=1738598880, endpoint='/v1/chat/completions', input_file_id='file-RGoxNWAg9Tmn4dvDaeikPP', object='batch', status='validating', cancelled_at=None, cancelling_at=None, completed_at=None, error_file_id=None, errors=None, expired_at=None, expires_at=1738685280, failed_at=None, finalizing_at=None, in_progress_at=None, metadata=None, output_file_id=None, request_counts=BatchRequestCounts(completed=0, failed=0, total=0)),\n",
       "  'batch_job_id': 'batch_67a0e9e0a0e88190a4ce07e901d2d815'},\n",
       " 'M_o3-mini-2025-01-31_T_1_P_roleplay_10': {'raw_file_name': 'M_o3-mini-2025-01-31_T_1_P_roleplay_10',\n",
       "  'batch_file': FileObject(id='file-FjPf61N7SVkHKEfqWjbASM', bytes=670478, created_at=1738598887, filename='M_o3-mini-2025-01-31_T_1_P_roleplay_10.jsonl', object='file', purpose='batch', status='processed', status_details=None),\n",
       "  'batch_job': Batch(id='batch_67a0e9e7dbac81909014d81d611a3ab0', completion_window='24h', created_at=1738598887, endpoint='/v1/chat/completions', input_file_id='file-FjPf61N7SVkHKEfqWjbASM', object='batch', status='validating', cancelled_at=None, cancelling_at=None, completed_at=None, error_file_id=None, errors=None, expired_at=None, expires_at=1738685287, failed_at=None, finalizing_at=None, in_progress_at=None, metadata=None, output_file_id=None, request_counts=BatchRequestCounts(completed=0, failed=0, total=0)),\n",
       "  'batch_job_id': 'batch_67a0e9e7dbac81909014d81d611a3ab0'},\n",
       " 'M_o3-mini-2025-01-31_T_1_P_zeroshot_10': {'raw_file_name': 'M_o3-mini-2025-01-31_T_1_P_zeroshot_10',\n",
       "  'batch_file': FileObject(id='file-L6PzEnWUZe5PBtFXDg2gVb', bytes=486578, created_at=1738598892, filename='M_o3-mini-2025-01-31_T_1_P_zeroshot_10.jsonl', object='file', purpose='batch', status='processed', status_details=None),\n",
       "  'batch_job': Batch(id='batch_67a0e9ed773c8190b92ee7a803afa1cb', completion_window='24h', created_at=1738598893, endpoint='/v1/chat/completions', input_file_id='file-L6PzEnWUZe5PBtFXDg2gVb', object='batch', status='validating', cancelled_at=None, cancelling_at=None, completed_at=None, error_file_id=None, errors=None, expired_at=None, expires_at=1738685293, failed_at=None, finalizing_at=None, in_progress_at=None, metadata=None, output_file_id=None, request_counts=BatchRequestCounts(completed=0, failed=0, total=0)),\n",
       "  'batch_job_id': 'batch_67a0e9ed773c8190b92ee7a803afa1cb'},\n",
       " 'M_o3-mini-2025-01-31_T_1_P_emotional_10': {'raw_file_name': 'M_o3-mini-2025-01-31_T_1_P_emotional_10',\n",
       "  'batch_file': FileObject(id='file-7GJ91uzoWPA5TeGsw6TN5E', bytes=743378, created_at=1738598900, filename='M_o3-mini-2025-01-31_T_1_P_emotional_10.jsonl', object='file', purpose='batch', status='processed', status_details=None),\n",
       "  'batch_job': Batch(id='batch_67a0e9f5ea608190888c2311547ee5b4', completion_window='24h', created_at=1738598902, endpoint='/v1/chat/completions', input_file_id='file-7GJ91uzoWPA5TeGsw6TN5E', object='batch', status='validating', cancelled_at=None, cancelling_at=None, completed_at=None, error_file_id=None, errors=None, expired_at=None, expires_at=1738685302, failed_at=None, finalizing_at=None, in_progress_at=None, metadata=None, output_file_id=None, request_counts=BatchRequestCounts(completed=0, failed=0, total=0)),\n",
       "  'batch_job_id': 'batch_67a0e9f5ea608190888c2311547ee5b4'},\n",
       " 'M_o3-mini-2025-01-31_T_1_P_cot_100': {'raw_file_name': 'M_o3-mini-2025-01-31_T_1_P_cot_100',\n",
       "  'batch_file': FileObject(id='file-9J9uPSKFHp7114Q7hf1Y1f', bytes=791078, created_at=1738598909, filename='M_o3-mini-2025-01-31_T_1_P_cot_100.jsonl', object='file', purpose='batch', status='processed', status_details=None),\n",
       "  'batch_job': Batch(id='batch_67a0e9fe1d64819080d065d80d901a51', completion_window='24h', created_at=1738598910, endpoint='/v1/chat/completions', input_file_id='file-9J9uPSKFHp7114Q7hf1Y1f', object='batch', status='validating', cancelled_at=None, cancelling_at=None, completed_at=None, error_file_id=None, errors=None, expired_at=None, expires_at=1738685310, failed_at=None, finalizing_at=None, in_progress_at=None, metadata=None, output_file_id=None, request_counts=BatchRequestCounts(completed=0, failed=0, total=0)),\n",
       "  'batch_job_id': 'batch_67a0e9fe1d64819080d065d80d901a51'},\n",
       " 'M_o3-mini-2025-01-31_T_1_P_few_shot_100': {'raw_file_name': 'M_o3-mini-2025-01-31_T_1_P_few_shot_100',\n",
       "  'batch_file': FileObject(id='file-DahAzzPQgCx7fTjDhKCwQn', bytes=957278, created_at=1738598918, filename='M_o3-mini-2025-01-31_T_1_P_few_shot_100.jsonl', object='file', purpose='batch', status='processed', status_details=None),\n",
       "  'batch_job': Batch(id='batch_67a0ea0a05808190b9465a51b08ee11c', completion_window='24h', created_at=1738598922, endpoint='/v1/chat/completions', input_file_id='file-DahAzzPQgCx7fTjDhKCwQn', object='batch', status='validating', cancelled_at=None, cancelling_at=None, completed_at=None, error_file_id=None, errors=None, expired_at=None, expires_at=1738685322, failed_at=None, finalizing_at=None, in_progress_at=None, metadata=None, output_file_id=None, request_counts=BatchRequestCounts(completed=0, failed=0, total=0)),\n",
       "  'batch_job_id': 'batch_67a0ea0a05808190b9465a51b08ee11c'},\n",
       " 'M_o3-mini-2025-01-31_T_1_P_cot_fewshot_100': {'raw_file_name': 'M_o3-mini-2025-01-31_T_1_P_cot_fewshot_100',\n",
       "  'batch_file': FileObject(id='file-9tSsDmvb6Ymb6MGNu3KRSz', bytes=1378478, created_at=1738598935, filename='M_o3-mini-2025-01-31_T_1_P_cot_fewshot_100.jsonl', object='file', purpose='batch', status='processed', status_details=None),\n",
       "  'batch_job': Batch(id='batch_67a0ea180eec81908bcbdd83164116fc', completion_window='24h', created_at=1738598936, endpoint='/v1/chat/completions', input_file_id='file-9tSsDmvb6Ymb6MGNu3KRSz', object='batch', status='validating', cancelled_at=None, cancelling_at=None, completed_at=None, error_file_id=None, errors=None, expired_at=None, expires_at=1738685336, failed_at=None, finalizing_at=None, in_progress_at=None, metadata=None, output_file_id=None, request_counts=BatchRequestCounts(completed=0, failed=0, total=0)),\n",
       "  'batch_job_id': 'batch_67a0ea180eec81908bcbdd83164116fc'},\n",
       " 'M_o3-mini-2025-01-31_T_1_P_roleplay_100': {'raw_file_name': 'M_o3-mini-2025-01-31_T_1_P_roleplay_100',\n",
       "  'batch_file': FileObject(id='file-CoyYQ2iYrSa9nGAky654X3', bytes=670778, created_at=1738598942, filename='M_o3-mini-2025-01-31_T_1_P_roleplay_100.jsonl', object='file', purpose='batch', status='processed', status_details=None),\n",
       "  'batch_job': Batch(id='batch_67a0ea1f36e08190ac7ae7c4a825be65', completion_window='24h', created_at=1738598943, endpoint='/v1/chat/completions', input_file_id='file-CoyYQ2iYrSa9nGAky654X3', object='batch', status='validating', cancelled_at=None, cancelling_at=None, completed_at=None, error_file_id=None, errors=None, expired_at=None, expires_at=1738685343, failed_at=None, finalizing_at=None, in_progress_at=None, metadata=None, output_file_id=None, request_counts=BatchRequestCounts(completed=0, failed=0, total=0)),\n",
       "  'batch_job_id': 'batch_67a0ea1f36e08190ac7ae7c4a825be65'},\n",
       " 'M_o3-mini-2025-01-31_T_1_P_zeroshot_100': {'raw_file_name': 'M_o3-mini-2025-01-31_T_1_P_zeroshot_100',\n",
       "  'batch_file': FileObject(id='file-EvYkthWy6egmXCaw3WtdMh', bytes=486878, created_at=1738598947, filename='M_o3-mini-2025-01-31_T_1_P_zeroshot_100.jsonl', object='file', purpose='batch', status='processed', status_details=None),\n",
       "  'batch_job': Batch(id='batch_67a0ea248bb48190ab1b386360bfd5e2', completion_window='24h', created_at=1738598948, endpoint='/v1/chat/completions', input_file_id='file-EvYkthWy6egmXCaw3WtdMh', object='batch', status='validating', cancelled_at=None, cancelling_at=None, completed_at=None, error_file_id=None, errors=None, expired_at=None, expires_at=1738685348, failed_at=None, finalizing_at=None, in_progress_at=None, metadata=None, output_file_id=None, request_counts=BatchRequestCounts(completed=0, failed=0, total=0)),\n",
       "  'batch_job_id': 'batch_67a0ea248bb48190ab1b386360bfd5e2'},\n",
       " 'M_o3-mini-2025-01-31_T_1_P_emotional_100': {'raw_file_name': 'M_o3-mini-2025-01-31_T_1_P_emotional_100',\n",
       "  'batch_file': FileObject(id='file-TAHfTb2PKpnTjaDnctLjY6', bytes=743678, created_at=1738598955, filename='M_o3-mini-2025-01-31_T_1_P_emotional_100.jsonl', object='file', purpose='batch', status='processed', status_details=None),\n",
       "  'batch_job': Batch(id='batch_67a0ea2c32848190bf0abad75ba3aa53', completion_window='24h', created_at=1738598956, endpoint='/v1/chat/completions', input_file_id='file-TAHfTb2PKpnTjaDnctLjY6', object='batch', status='validating', cancelled_at=None, cancelling_at=None, completed_at=None, error_file_id=None, errors=None, expired_at=None, expires_at=1738685356, failed_at=None, finalizing_at=None, in_progress_at=None, metadata=None, output_file_id=None, request_counts=BatchRequestCounts(completed=0, failed=0, total=0)),\n",
       "  'batch_job_id': 'batch_67a0ea2c32848190bf0abad75ba3aa53'},\n",
       " 'M_o3-mini-2025-01-31_T_1_P_cot_qual': {'raw_file_name': 'M_o3-mini-2025-01-31_T_1_P_cot_qual',\n",
       "  'batch_file': FileObject(id='file-USCaWgpovpjTYdUUESyVHZ', bytes=863378, created_at=1738598963, filename='M_o3-mini-2025-01-31_T_1_P_cot_qual.jsonl', object='file', purpose='batch', status='processed', status_details=None),\n",
       "  'batch_job': Batch(id='batch_67a0ea34a9b48190ae1073ffd2343594', completion_window='24h', created_at=1738598964, endpoint='/v1/chat/completions', input_file_id='file-USCaWgpovpjTYdUUESyVHZ', object='batch', status='validating', cancelled_at=None, cancelling_at=None, completed_at=None, error_file_id=None, errors=None, expired_at=None, expires_at=1738685364, failed_at=None, finalizing_at=None, in_progress_at=None, metadata=None, output_file_id=None, request_counts=BatchRequestCounts(completed=0, failed=0, total=0)),\n",
       "  'batch_job_id': 'batch_67a0ea34a9b48190ae1073ffd2343594'},\n",
       " 'M_o3-mini-2025-01-31_T_1_P_few_shot_qual': {'raw_file_name': 'M_o3-mini-2025-01-31_T_1_P_few_shot_qual',\n",
       "  'batch_file': FileObject(id='file-HLwmzmrwbxhka3uqeK8rqU', bytes=965978, created_at=1738598973, filename='M_o3-mini-2025-01-31_T_1_P_few_shot_qual.jsonl', object='file', purpose='batch', status='processed', status_details=None),\n",
       "  'batch_job': Batch(id='batch_67a0ea3df0888190b8ae495a260f513d', completion_window='24h', created_at=1738598974, endpoint='/v1/chat/completions', input_file_id='file-HLwmzmrwbxhka3uqeK8rqU', object='batch', status='validating', cancelled_at=None, cancelling_at=None, completed_at=None, error_file_id=None, errors=None, expired_at=None, expires_at=1738685374, failed_at=None, finalizing_at=None, in_progress_at=None, metadata=None, output_file_id=None, request_counts=BatchRequestCounts(completed=0, failed=0, total=0)),\n",
       "  'batch_job_id': 'batch_67a0ea3df0888190b8ae495a260f513d'},\n",
       " 'M_o3-mini-2025-01-31_T_1_P_cot_fewshot_qual': {'raw_file_name': 'M_o3-mini-2025-01-31_T_1_P_cot_fewshot_qual',\n",
       "  'batch_file': FileObject(id='file-7Pt2x6HyVF9EqupgockzD6', bytes=1438478, created_at=1738598986, filename='M_o3-mini-2025-01-31_T_1_P_cot_fewshot_qual.jsonl', object='file', purpose='batch', status='processed', status_details=None),\n",
       "  'batch_job': Batch(id='batch_67a0ea4babac8190b61338dab8b62772', completion_window='24h', created_at=1738598987, endpoint='/v1/chat/completions', input_file_id='file-7Pt2x6HyVF9EqupgockzD6', object='batch', status='validating', cancelled_at=None, cancelling_at=None, completed_at=None, error_file_id=None, errors=None, expired_at=None, expires_at=1738685387, failed_at=None, finalizing_at=None, in_progress_at=None, metadata=None, output_file_id=None, request_counts=BatchRequestCounts(completed=0, failed=0, total=0)),\n",
       "  'batch_job_id': 'batch_67a0ea4babac8190b61338dab8b62772'},\n",
       " 'M_o3-mini-2025-01-31_T_1_P_roleplay_qual': {'raw_file_name': 'M_o3-mini-2025-01-31_T_1_P_roleplay_qual',\n",
       "  'batch_file': FileObject(id='file-HpCZUB3F7f2qSKdoaS6dNX', bytes=679478, created_at=1738598994, filename='M_o3-mini-2025-01-31_T_1_P_roleplay_qual.jsonl', object='file', purpose='batch', status='processed', status_details=None),\n",
       "  'batch_job': Batch(id='batch_67a0ea52ec8081908e452e3ef6d0554b', completion_window='24h', created_at=1738598994, endpoint='/v1/chat/completions', input_file_id='file-HpCZUB3F7f2qSKdoaS6dNX', object='batch', status='validating', cancelled_at=None, cancelling_at=None, completed_at=None, error_file_id=None, errors=None, expired_at=None, expires_at=1738685394, failed_at=None, finalizing_at=None, in_progress_at=None, metadata=None, output_file_id=None, request_counts=BatchRequestCounts(completed=0, failed=0, total=0)),\n",
       "  'batch_job_id': 'batch_67a0ea52ec8081908e452e3ef6d0554b'},\n",
       " 'M_o3-mini-2025-01-31_T_1_P_zeroshot_qual': {'raw_file_name': 'M_o3-mini-2025-01-31_T_1_P_zeroshot_qual',\n",
       "  'batch_file': FileObject(id='file-Gmyi1soSHh2CiZqLtoXshN', bytes=495578, created_at=1738598999, filename='M_o3-mini-2025-01-31_T_1_P_zeroshot_qual.jsonl', object='file', purpose='batch', status='processed', status_details=None),\n",
       "  'batch_job': Batch(id='batch_67a0ea58b6b88190aa2013ebcb9856e6', completion_window='24h', created_at=1738599000, endpoint='/v1/chat/completions', input_file_id='file-Gmyi1soSHh2CiZqLtoXshN', object='batch', status='validating', cancelled_at=None, cancelling_at=None, completed_at=None, error_file_id=None, errors=None, expired_at=None, expires_at=1738685400, failed_at=None, finalizing_at=None, in_progress_at=None, metadata=None, output_file_id=None, request_counts=BatchRequestCounts(completed=0, failed=0, total=0)),\n",
       "  'batch_job_id': 'batch_67a0ea58b6b88190aa2013ebcb9856e6'},\n",
       " 'M_o3-mini-2025-01-31_T_1_P_emotional_qual': {'raw_file_name': 'M_o3-mini-2025-01-31_T_1_P_emotional_qual',\n",
       "  'batch_file': FileObject(id='file-EZH55vVRVdXGV7KHJUzHka', bytes=752378, created_at=1738599054, filename='M_o3-mini-2025-01-31_T_1_P_emotional_qual.jsonl', object='file', purpose='batch', status='processed', status_details=None),\n",
       "  'batch_job': Batch(id='batch_67a0ea8fc4248190a558c8e81b65b70c', completion_window='24h', created_at=1738599055, endpoint='/v1/chat/completions', input_file_id='file-EZH55vVRVdXGV7KHJUzHka', object='batch', status='validating', cancelled_at=None, cancelling_at=None, completed_at=None, error_file_id=None, errors=None, expired_at=None, expires_at=1738685455, failed_at=None, finalizing_at=None, in_progress_at=None, metadata=None, output_file_id=None, request_counts=BatchRequestCounts(completed=0, failed=0, total=0)),\n",
       "  'batch_job_id': 'batch_67a0ea8fc4248190a558c8e81b65b70c'}}"
      ]
     },
     "execution_count": 68,
     "metadata": {},
     "output_type": "execute_result"
    }
   ],
   "source": [
    "batch_dict_o3"
   ]
  },
  {
   "cell_type": "code",
   "execution_count": 96,
   "metadata": {},
   "outputs": [],
   "source": [
    "batch_dict_o3_new_very = {}\n",
    "for key,value in batch_dict_o3_new.items():\n",
    "    if \"_T_1_P_\" in key:\n",
    "        batch_dict_o3_new_very[key] = value"
   ]
  },
  {
   "cell_type": "code",
   "execution_count": 98,
   "metadata": {},
   "outputs": [
    {
     "data": {
      "text/plain": [
       "18"
      ]
     },
     "execution_count": 98,
     "metadata": {},
     "output_type": "execute_result"
    }
   ],
   "source": [
    "len(batch_dict_o3_new_very)"
   ]
  },
  {
   "cell_type": "code",
   "execution_count": 101,
   "metadata": {},
   "outputs": [
    {
     "data": {
      "text/plain": [
       "{'M_o3-mini-2025-01-31_T_1_P_cot_10': {'raw_file_name': 'M_o3-mini-2025-01-31_T_1_P_cot_10',\n",
       "  'batch_file': FileObject(id='file-VzX3NBKiU29jAurEb8mRSk', bytes=778178, created_at=1738606655, filename='M_o3-mini-2025-01-31_T_1_P_cot_10.jsonl', object='file', purpose='batch', status='processed', status_details=None),\n",
       "  'batch_job': Batch(id='batch_67a10840b9c88190a4988e7d4306cbf0', completion_window='24h', created_at=1738606656, endpoint='/v1/chat/completions', input_file_id='file-VzX3NBKiU29jAurEb8mRSk', object='batch', status='validating', cancelled_at=None, cancelling_at=None, completed_at=None, error_file_id=None, errors=None, expired_at=None, expires_at=1738693056, failed_at=None, finalizing_at=None, in_progress_at=None, metadata=None, output_file_id=None, request_counts=BatchRequestCounts(completed=0, failed=0, total=0)),\n",
       "  'batch_job_id': 'batch_67a10840b9c88190a4988e7d4306cbf0'},\n",
       " 'M_o3-mini-2025-01-31_T_1_P_few_shot_10': {'raw_file_name': 'M_o3-mini-2025-01-31_T_1_P_few_shot_10',\n",
       "  'batch_file': FileObject(id='file-RtS2VMqroHKSM51EqkKqNA', bytes=944678, created_at=1738606665, filename='M_o3-mini-2025-01-31_T_1_P_few_shot_10.jsonl', object='file', purpose='batch', status='processed', status_details=None),\n",
       "  'batch_job': Batch(id='batch_67a10849ff808190af733a018d91250b', completion_window='24h', created_at=1738606666, endpoint='/v1/chat/completions', input_file_id='file-RtS2VMqroHKSM51EqkKqNA', object='batch', status='validating', cancelled_at=None, cancelling_at=None, completed_at=None, error_file_id=None, errors=None, expired_at=None, expires_at=1738693066, failed_at=None, finalizing_at=None, in_progress_at=None, metadata=None, output_file_id=None, request_counts=BatchRequestCounts(completed=0, failed=0, total=0)),\n",
       "  'batch_job_id': 'batch_67a10849ff808190af733a018d91250b'},\n",
       " 'M_o3-mini-2025-01-31_T_1_P_cot_fewshot_10': {'raw_file_name': 'M_o3-mini-2025-01-31_T_1_P_cot_fewshot_10',\n",
       "  'batch_file': FileObject(id='file-KJRUAtVwEzp9vte29PaPq4', bytes=1364378, created_at=1738606678, filename='M_o3-mini-2025-01-31_T_1_P_cot_fewshot_10.jsonl', object='file', purpose='batch', status='processed', status_details=None),\n",
       "  'batch_job': Batch(id='batch_67a108572c2c8190ad11861384f4594e', completion_window='24h', created_at=1738606679, endpoint='/v1/chat/completions', input_file_id='file-KJRUAtVwEzp9vte29PaPq4', object='batch', status='validating', cancelled_at=None, cancelling_at=None, completed_at=None, error_file_id=None, errors=None, expired_at=None, expires_at=1738693079, failed_at=None, finalizing_at=None, in_progress_at=None, metadata=None, output_file_id=None, request_counts=BatchRequestCounts(completed=0, failed=0, total=0)),\n",
       "  'batch_job_id': 'batch_67a108572c2c8190ad11861384f4594e'},\n",
       " 'M_o3-mini-2025-01-31_T_1_P_roleplay_10': {'raw_file_name': 'M_o3-mini-2025-01-31_T_1_P_roleplay_10',\n",
       "  'batch_file': FileObject(id='file-XyoaePVkZWhrf6QeDDetBQ', bytes=659378, created_at=1738606685, filename='M_o3-mini-2025-01-31_T_1_P_roleplay_10.jsonl', object='file', purpose='batch', status='processed', status_details=None),\n",
       "  'batch_job': Batch(id='batch_67a1085e067c8190ab5884548578b88b', completion_window='24h', created_at=1738606686, endpoint='/v1/chat/completions', input_file_id='file-XyoaePVkZWhrf6QeDDetBQ', object='batch', status='validating', cancelled_at=None, cancelling_at=None, completed_at=None, error_file_id=None, errors=None, expired_at=None, expires_at=1738693086, failed_at=None, finalizing_at=None, in_progress_at=None, metadata=None, output_file_id=None, request_counts=BatchRequestCounts(completed=0, failed=0, total=0)),\n",
       "  'batch_job_id': 'batch_67a1085e067c8190ab5884548578b88b'},\n",
       " 'M_o3-mini-2025-01-31_T_1_P_zeroshot_10': {'raw_file_name': 'M_o3-mini-2025-01-31_T_1_P_zeroshot_10',\n",
       "  'batch_file': FileObject(id='file-EkVwNBYXXiKXaKMjw9xNRi', bytes=475478, created_at=1738606690, filename='M_o3-mini-2025-01-31_T_1_P_zeroshot_10.jsonl', object='file', purpose='batch', status='processed', status_details=None),\n",
       "  'batch_job': Batch(id='batch_67a10863336081909f65eeb43dc4117c', completion_window='24h', created_at=1738606691, endpoint='/v1/chat/completions', input_file_id='file-EkVwNBYXXiKXaKMjw9xNRi', object='batch', status='validating', cancelled_at=None, cancelling_at=None, completed_at=None, error_file_id=None, errors=None, expired_at=None, expires_at=1738693091, failed_at=None, finalizing_at=None, in_progress_at=None, metadata=None, output_file_id=None, request_counts=BatchRequestCounts(completed=0, failed=0, total=0)),\n",
       "  'batch_job_id': 'batch_67a10863336081909f65eeb43dc4117c'},\n",
       " 'M_o3-mini-2025-01-31_T_1_P_emotional_10': {'raw_file_name': 'M_o3-mini-2025-01-31_T_1_P_emotional_10',\n",
       "  'batch_file': FileObject(id='file-GTV6hsGsPZzWoGwTRnQ79y', bytes=732278, created_at=1738606697, filename='M_o3-mini-2025-01-31_T_1_P_emotional_10.jsonl', object='file', purpose='batch', status='processed', status_details=None),\n",
       "  'batch_job': Batch(id='batch_67a1086acdec81909e898beb3180b08e', completion_window='24h', created_at=1738606698, endpoint='/v1/chat/completions', input_file_id='file-GTV6hsGsPZzWoGwTRnQ79y', object='batch', status='validating', cancelled_at=None, cancelling_at=None, completed_at=None, error_file_id=None, errors=None, expired_at=None, expires_at=1738693098, failed_at=None, finalizing_at=None, in_progress_at=None, metadata=None, output_file_id=None, request_counts=BatchRequestCounts(completed=0, failed=0, total=0)),\n",
       "  'batch_job_id': 'batch_67a1086acdec81909e898beb3180b08e'},\n",
       " 'M_o3-mini-2025-01-31_T_1_P_cot_100': {'raw_file_name': 'M_o3-mini-2025-01-31_T_1_P_cot_100',\n",
       "  'batch_file': FileObject(id='file-Lfn9daHaKvnPg2R5AFJPX1', bytes=779978, created_at=1738606705, filename='M_o3-mini-2025-01-31_T_1_P_cot_100.jsonl', object='file', purpose='batch', status='processed', status_details=None),\n",
       "  'batch_job': Batch(id='batch_67a1087289188190b119abc64895b19c', completion_window='24h', created_at=1738606706, endpoint='/v1/chat/completions', input_file_id='file-Lfn9daHaKvnPg2R5AFJPX1', object='batch', status='validating', cancelled_at=None, cancelling_at=None, completed_at=None, error_file_id=None, errors=None, expired_at=None, expires_at=1738693106, failed_at=None, finalizing_at=None, in_progress_at=None, metadata=None, output_file_id=None, request_counts=BatchRequestCounts(completed=0, failed=0, total=0)),\n",
       "  'batch_job_id': 'batch_67a1087289188190b119abc64895b19c'},\n",
       " 'M_o3-mini-2025-01-31_T_1_P_few_shot_100': {'raw_file_name': 'M_o3-mini-2025-01-31_T_1_P_few_shot_100',\n",
       "  'batch_file': FileObject(id='file-Q4eHstexwNL7kPLVAEvsGV', bytes=946178, created_at=1738606715, filename='M_o3-mini-2025-01-31_T_1_P_few_shot_100.jsonl', object='file', purpose='batch', status='processed', status_details=None),\n",
       "  'batch_job': Batch(id='batch_67a1087bddc08190a82eec72ab7c139b', completion_window='24h', created_at=1738606715, endpoint='/v1/chat/completions', input_file_id='file-Q4eHstexwNL7kPLVAEvsGV', object='batch', status='validating', cancelled_at=None, cancelling_at=None, completed_at=None, error_file_id=None, errors=None, expired_at=None, expires_at=1738693115, failed_at=None, finalizing_at=None, in_progress_at=None, metadata=None, output_file_id=None, request_counts=BatchRequestCounts(completed=0, failed=0, total=0)),\n",
       "  'batch_job_id': 'batch_67a1087bddc08190a82eec72ab7c139b'},\n",
       " 'M_o3-mini-2025-01-31_T_1_P_cot_fewshot_100': {'raw_file_name': 'M_o3-mini-2025-01-31_T_1_P_cot_fewshot_100',\n",
       "  'batch_file': FileObject(id='file-TdDR6dHJYNZDR6VJYawGNh', bytes=1367378, created_at=1738606728, filename='M_o3-mini-2025-01-31_T_1_P_cot_fewshot_100.jsonl', object='file', purpose='batch', status='processed', status_details=None),\n",
       "  'batch_job': Batch(id='batch_67a10888cbd08190b5cec67f4e483818', completion_window='24h', created_at=1738606728, endpoint='/v1/chat/completions', input_file_id='file-TdDR6dHJYNZDR6VJYawGNh', object='batch', status='validating', cancelled_at=None, cancelling_at=None, completed_at=None, error_file_id=None, errors=None, expired_at=None, expires_at=1738693128, failed_at=None, finalizing_at=None, in_progress_at=None, metadata=None, output_file_id=None, request_counts=BatchRequestCounts(completed=0, failed=0, total=0)),\n",
       "  'batch_job_id': 'batch_67a10888cbd08190b5cec67f4e483818'},\n",
       " 'M_o3-mini-2025-01-31_T_1_P_roleplay_100': {'raw_file_name': 'M_o3-mini-2025-01-31_T_1_P_roleplay_100',\n",
       "  'batch_file': FileObject(id='file-7ZpjstTMu4iwE3za7EAd2E', bytes=659678, created_at=1738606734, filename='M_o3-mini-2025-01-31_T_1_P_roleplay_100.jsonl', object='file', purpose='batch', status='processed', status_details=None),\n",
       "  'batch_job': Batch(id='batch_67a1088fbf988190bc1955aadd952430', completion_window='24h', created_at=1738606735, endpoint='/v1/chat/completions', input_file_id='file-7ZpjstTMu4iwE3za7EAd2E', object='batch', status='validating', cancelled_at=None, cancelling_at=None, completed_at=None, error_file_id=None, errors=None, expired_at=None, expires_at=1738693135, failed_at=None, finalizing_at=None, in_progress_at=None, metadata=None, output_file_id=None, request_counts=BatchRequestCounts(completed=0, failed=0, total=0)),\n",
       "  'batch_job_id': 'batch_67a1088fbf988190bc1955aadd952430'},\n",
       " 'M_o3-mini-2025-01-31_T_1_P_zeroshot_100': {'raw_file_name': 'M_o3-mini-2025-01-31_T_1_P_zeroshot_100',\n",
       "  'batch_file': FileObject(id='file-92oJsqvfgcVknV3sq6tMVT', bytes=475778, created_at=1738606740, filename='M_o3-mini-2025-01-31_T_1_P_zeroshot_100.jsonl', object='file', purpose='batch', status='processed', status_details=None),\n",
       "  'batch_job': Batch(id='batch_67a108955618819085044e26ec62c6a2', completion_window='24h', created_at=1738606741, endpoint='/v1/chat/completions', input_file_id='file-92oJsqvfgcVknV3sq6tMVT', object='batch', status='validating', cancelled_at=None, cancelling_at=None, completed_at=None, error_file_id=None, errors=None, expired_at=None, expires_at=1738693141, failed_at=None, finalizing_at=None, in_progress_at=None, metadata=None, output_file_id=None, request_counts=BatchRequestCounts(completed=0, failed=0, total=0)),\n",
       "  'batch_job_id': 'batch_67a108955618819085044e26ec62c6a2'},\n",
       " 'M_o3-mini-2025-01-31_T_1_P_emotional_100': {'raw_file_name': 'M_o3-mini-2025-01-31_T_1_P_emotional_100',\n",
       "  'batch_file': FileObject(id='file-1GcUGdyDmGGqgDf9oL7BPp', bytes=732578, created_at=1738606748, filename='M_o3-mini-2025-01-31_T_1_P_emotional_100.jsonl', object='file', purpose='batch', status='processed', status_details=None),\n",
       "  'batch_job': Batch(id='batch_67a1089d3ff48190a04adb18d989f8b1', completion_window='24h', created_at=1738606749, endpoint='/v1/chat/completions', input_file_id='file-1GcUGdyDmGGqgDf9oL7BPp', object='batch', status='validating', cancelled_at=None, cancelling_at=None, completed_at=None, error_file_id=None, errors=None, expired_at=None, expires_at=1738693149, failed_at=None, finalizing_at=None, in_progress_at=None, metadata=None, output_file_id=None, request_counts=BatchRequestCounts(completed=0, failed=0, total=0)),\n",
       "  'batch_job_id': 'batch_67a1089d3ff48190a04adb18d989f8b1'},\n",
       " 'M_o3-mini-2025-01-31_T_1_P_cot_qual': {'raw_file_name': 'M_o3-mini-2025-01-31_T_1_P_cot_qual',\n",
       "  'batch_file': FileObject(id='file-Ao9qDRKYqKxPmE4xZqQTtJ', bytes=852278, created_at=1738606756, filename='M_o3-mini-2025-01-31_T_1_P_cot_qual.jsonl', object='file', purpose='batch', status='processed', status_details=None),\n",
       "  'batch_job': Batch(id='batch_67a108a8fb888190b25f8403726605bb', completion_window='24h', created_at=1738606761, endpoint='/v1/chat/completions', input_file_id='file-Ao9qDRKYqKxPmE4xZqQTtJ', object='batch', status='validating', cancelled_at=None, cancelling_at=None, completed_at=None, error_file_id=None, errors=None, expired_at=None, expires_at=1738693161, failed_at=None, finalizing_at=None, in_progress_at=None, metadata=None, output_file_id=None, request_counts=BatchRequestCounts(completed=0, failed=0, total=0)),\n",
       "  'batch_job_id': 'batch_67a108a8fb888190b25f8403726605bb'},\n",
       " 'M_o3-mini-2025-01-31_T_1_P_few_shot_qual': {'raw_file_name': 'M_o3-mini-2025-01-31_T_1_P_few_shot_qual',\n",
       "  'batch_file': FileObject(id='file-TndAvssuyELwfUeUr9kC6X', bytes=954878, created_at=1738606770, filename='M_o3-mini-2025-01-31_T_1_P_few_shot_qual.jsonl', object='file', purpose='batch', status='processed', status_details=None),\n",
       "  'batch_job': Batch(id='batch_67a108b31b4481908eb850cc6b4d22d8', completion_window='24h', created_at=1738606771, endpoint='/v1/chat/completions', input_file_id='file-TndAvssuyELwfUeUr9kC6X', object='batch', status='validating', cancelled_at=None, cancelling_at=None, completed_at=None, error_file_id=None, errors=None, expired_at=None, expires_at=1738693171, failed_at=None, finalizing_at=None, in_progress_at=None, metadata=None, output_file_id=None, request_counts=BatchRequestCounts(completed=0, failed=0, total=0)),\n",
       "  'batch_job_id': 'batch_67a108b31b4481908eb850cc6b4d22d8'},\n",
       " 'M_o3-mini-2025-01-31_T_1_P_cot_fewshot_qual': {'raw_file_name': 'M_o3-mini-2025-01-31_T_1_P_cot_fewshot_qual',\n",
       "  'batch_file': FileObject(id='file-7S3W6vJwf6RqMXnUmoq3cN', bytes=1427378, created_at=1738607415, filename='M_o3-mini-2025-01-31_T_1_P_cot_fewshot_qual.jsonl', object='file', purpose='batch', status='processed', status_details=None),\n",
       "  'batch_job': Batch(id='batch_67a10b3902fc81908b5a86352ce8ff49', completion_window='24h', created_at=1738607417, endpoint='/v1/chat/completions', input_file_id='file-7S3W6vJwf6RqMXnUmoq3cN', object='batch', status='validating', cancelled_at=None, cancelling_at=None, completed_at=None, error_file_id=None, errors=None, expired_at=None, expires_at=1738693817, failed_at=None, finalizing_at=None, in_progress_at=None, metadata=None, output_file_id=None, request_counts=BatchRequestCounts(completed=0, failed=0, total=0)),\n",
       "  'batch_job_id': 'batch_67a10b3902fc81908b5a86352ce8ff49'},\n",
       " 'M_o3-mini-2025-01-31_T_1_P_roleplay_qual': {'raw_file_name': 'M_o3-mini-2025-01-31_T_1_P_roleplay_qual',\n",
       "  'batch_file': FileObject(id='file-STd1e3Gvo19nXK8MJGx6vN', bytes=668378, created_at=1738607423, filename='M_o3-mini-2025-01-31_T_1_P_roleplay_qual.jsonl', object='file', purpose='batch', status='processed', status_details=None),\n",
       "  'batch_job': Batch(id='batch_67a10b4082708190bd38fe9a95303ee7', completion_window='24h', created_at=1738607424, endpoint='/v1/chat/completions', input_file_id='file-STd1e3Gvo19nXK8MJGx6vN', object='batch', status='validating', cancelled_at=None, cancelling_at=None, completed_at=None, error_file_id=None, errors=None, expired_at=None, expires_at=1738693824, failed_at=None, finalizing_at=None, in_progress_at=None, metadata=None, output_file_id=None, request_counts=BatchRequestCounts(completed=0, failed=0, total=0)),\n",
       "  'batch_job_id': 'batch_67a10b4082708190bd38fe9a95303ee7'},\n",
       " 'M_o3-mini-2025-01-31_T_1_P_zeroshot_qual': {'raw_file_name': 'M_o3-mini-2025-01-31_T_1_P_zeroshot_qual',\n",
       "  'batch_file': FileObject(id='file-R8NFNqdCbmj6KjjmeVHses', bytes=484478, created_at=1738607429, filename='M_o3-mini-2025-01-31_T_1_P_zeroshot_qual.jsonl', object='file', purpose='batch', status='processed', status_details=None),\n",
       "  'batch_job': Batch(id='batch_67a10b4634988190aa3035c5da4a3708', completion_window='24h', created_at=1738607430, endpoint='/v1/chat/completions', input_file_id='file-R8NFNqdCbmj6KjjmeVHses', object='batch', status='validating', cancelled_at=None, cancelling_at=None, completed_at=None, error_file_id=None, errors=None, expired_at=None, expires_at=1738693830, failed_at=None, finalizing_at=None, in_progress_at=None, metadata=None, output_file_id=None, request_counts=BatchRequestCounts(completed=0, failed=0, total=0)),\n",
       "  'batch_job_id': 'batch_67a10b4634988190aa3035c5da4a3708'},\n",
       " 'M_o3-mini-2025-01-31_T_1_P_emotional_qual': {'raw_file_name': 'M_o3-mini-2025-01-31_T_1_P_emotional_qual',\n",
       "  'batch_file': FileObject(id='file-CGghXn977yLx3FjFeMKbeR', bytes=741278, created_at=1738607436, filename='M_o3-mini-2025-01-31_T_1_P_emotional_qual.jsonl', object='file', purpose='batch', status='processed', status_details=None),\n",
       "  'batch_job': Batch(id='batch_67a10b4e2e608190b6b54bfbb440d4ec', completion_window='24h', created_at=1738607438, endpoint='/v1/chat/completions', input_file_id='file-CGghXn977yLx3FjFeMKbeR', object='batch', status='validating', cancelled_at=None, cancelling_at=None, completed_at=None, error_file_id=None, errors=None, expired_at=None, expires_at=1738693838, failed_at=None, finalizing_at=None, in_progress_at=None, metadata=None, output_file_id=None, request_counts=BatchRequestCounts(completed=0, failed=0, total=0)),\n",
       "  'batch_job_id': 'batch_67a10b4e2e608190b6b54bfbb440d4ec'}}"
      ]
     },
     "execution_count": 101,
     "metadata": {},
     "output_type": "execute_result"
    }
   ],
   "source": [
    "batch_dict_o3_new_very"
   ]
  },
  {
   "cell_type": "code",
   "execution_count": 103,
   "metadata": {},
   "outputs": [
    {
     "name": "stdout",
     "output_type": "stream",
     "text": [
      "retrieving \n",
      "retrieving M_o3-mini-2025-01-31_T_1_P_cot_10\n",
      "completed\n",
      "Saved M_o3-mini-2025-01-31_T_1_P_cot_10 to saved_o3/M_o3-mini-2025-01-31_T_1_P_cot_10.jsonl\n",
      "_________________________________________________________\n",
      "retrieving \n",
      "retrieving M_o3-mini-2025-01-31_T_1_P_few_shot_10\n",
      "completed\n",
      "Saved M_o3-mini-2025-01-31_T_1_P_few_shot_10 to saved_o3/M_o3-mini-2025-01-31_T_1_P_few_shot_10.jsonl\n",
      "_________________________________________________________\n",
      "retrieving \n",
      "retrieving M_o3-mini-2025-01-31_T_1_P_cot_fewshot_10\n",
      "completed\n",
      "Saved M_o3-mini-2025-01-31_T_1_P_cot_fewshot_10 to saved_o3/M_o3-mini-2025-01-31_T_1_P_cot_fewshot_10.jsonl\n",
      "_________________________________________________________\n",
      "retrieving \n",
      "retrieving M_o3-mini-2025-01-31_T_1_P_roleplay_10\n",
      "completed\n",
      "Saved M_o3-mini-2025-01-31_T_1_P_roleplay_10 to saved_o3/M_o3-mini-2025-01-31_T_1_P_roleplay_10.jsonl\n",
      "_________________________________________________________\n",
      "retrieving \n",
      "retrieving M_o3-mini-2025-01-31_T_1_P_zeroshot_10\n",
      "completed\n",
      "Saved M_o3-mini-2025-01-31_T_1_P_zeroshot_10 to saved_o3/M_o3-mini-2025-01-31_T_1_P_zeroshot_10.jsonl\n",
      "_________________________________________________________\n",
      "retrieving \n",
      "retrieving M_o3-mini-2025-01-31_T_1_P_emotional_10\n",
      "completed\n",
      "Saved M_o3-mini-2025-01-31_T_1_P_emotional_10 to saved_o3/M_o3-mini-2025-01-31_T_1_P_emotional_10.jsonl\n",
      "_________________________________________________________\n",
      "retrieving \n",
      "retrieving M_o3-mini-2025-01-31_T_1_P_cot_100\n",
      "completed\n",
      "Saved M_o3-mini-2025-01-31_T_1_P_cot_100 to saved_o3/M_o3-mini-2025-01-31_T_1_P_cot_100.jsonl\n",
      "_________________________________________________________\n",
      "retrieving \n",
      "retrieving M_o3-mini-2025-01-31_T_1_P_few_shot_100\n",
      "completed\n",
      "Saved M_o3-mini-2025-01-31_T_1_P_few_shot_100 to saved_o3/M_o3-mini-2025-01-31_T_1_P_few_shot_100.jsonl\n",
      "_________________________________________________________\n",
      "retrieving \n",
      "retrieving M_o3-mini-2025-01-31_T_1_P_cot_fewshot_100\n",
      "completed\n",
      "Saved M_o3-mini-2025-01-31_T_1_P_cot_fewshot_100 to saved_o3/M_o3-mini-2025-01-31_T_1_P_cot_fewshot_100.jsonl\n",
      "_________________________________________________________\n",
      "retrieving \n",
      "retrieving M_o3-mini-2025-01-31_T_1_P_roleplay_100\n",
      "completed\n",
      "Saved M_o3-mini-2025-01-31_T_1_P_roleplay_100 to saved_o3/M_o3-mini-2025-01-31_T_1_P_roleplay_100.jsonl\n",
      "_________________________________________________________\n",
      "retrieving \n",
      "retrieving M_o3-mini-2025-01-31_T_1_P_zeroshot_100\n",
      "completed\n",
      "Saved M_o3-mini-2025-01-31_T_1_P_zeroshot_100 to saved_o3/M_o3-mini-2025-01-31_T_1_P_zeroshot_100.jsonl\n",
      "_________________________________________________________\n",
      "retrieving \n",
      "retrieving M_o3-mini-2025-01-31_T_1_P_emotional_100\n",
      "completed\n",
      "Saved M_o3-mini-2025-01-31_T_1_P_emotional_100 to saved_o3/M_o3-mini-2025-01-31_T_1_P_emotional_100.jsonl\n",
      "_________________________________________________________\n",
      "retrieving \n",
      "retrieving M_o3-mini-2025-01-31_T_1_P_cot_qual\n",
      "completed\n",
      "Saved M_o3-mini-2025-01-31_T_1_P_cot_qual to saved_o3/M_o3-mini-2025-01-31_T_1_P_cot_qual.jsonl\n",
      "_________________________________________________________\n",
      "retrieving \n",
      "retrieving M_o3-mini-2025-01-31_T_1_P_few_shot_qual\n",
      "completed\n",
      "Saved M_o3-mini-2025-01-31_T_1_P_few_shot_qual to saved_o3/M_o3-mini-2025-01-31_T_1_P_few_shot_qual.jsonl\n",
      "_________________________________________________________\n",
      "retrieving \n",
      "retrieving M_o3-mini-2025-01-31_T_1_P_cot_fewshot_qual\n",
      "completed\n",
      "Saved M_o3-mini-2025-01-31_T_1_P_cot_fewshot_qual to saved_o3/M_o3-mini-2025-01-31_T_1_P_cot_fewshot_qual.jsonl\n",
      "_________________________________________________________\n",
      "retrieving \n",
      "retrieving M_o3-mini-2025-01-31_T_1_P_roleplay_qual\n",
      "completed\n",
      "Saved M_o3-mini-2025-01-31_T_1_P_roleplay_qual to saved_o3/M_o3-mini-2025-01-31_T_1_P_roleplay_qual.jsonl\n",
      "_________________________________________________________\n",
      "retrieving \n",
      "retrieving M_o3-mini-2025-01-31_T_1_P_zeroshot_qual\n",
      "completed\n",
      "Saved M_o3-mini-2025-01-31_T_1_P_zeroshot_qual to saved_o3/M_o3-mini-2025-01-31_T_1_P_zeroshot_qual.jsonl\n",
      "_________________________________________________________\n",
      "retrieving \n",
      "retrieving M_o3-mini-2025-01-31_T_1_P_emotional_qual\n",
      "completed\n",
      "Saved M_o3-mini-2025-01-31_T_1_P_emotional_qual to saved_o3/M_o3-mini-2025-01-31_T_1_P_emotional_qual.jsonl\n",
      "_________________________________________________________\n"
     ]
    }
   ],
   "source": [
    "retrieve_the_batches_o3(batch_dict_o3_new_very)"
   ]
  },
  {
   "cell_type": "code",
   "execution_count": null,
   "metadata": {},
   "outputs": [],
   "source": []
  },
  {
   "cell_type": "code",
   "execution_count": null,
   "metadata": {},
   "outputs": [],
   "source": []
  },
  {
   "cell_type": "code",
   "execution_count": null,
   "metadata": {},
   "outputs": [],
   "source": []
  },
  {
   "cell_type": "markdown",
   "metadata": {},
   "source": [
    "## tests"
   ]
  },
  {
   "cell_type": "code",
   "execution_count": 6,
   "metadata": {},
   "outputs": [
    {
     "data": {
      "text/plain": [
       "{'properties': {'justification': {'description': 'every steps that stated in prompt which isnt final answer or confidence score',\n",
       "   'title': 'Justification',\n",
       "   'type': 'string'},\n",
       "  'final_answer': {'description': 'The numerical final answer value. it should be 1 or 2 or 3 or 4',\n",
       "   'title': 'Final Answer',\n",
       "   'type': 'integer'},\n",
       "  'confidence_score': {'description': 'A score indicating the confidence level of the final answer. from 1 to 10',\n",
       "   'title': 'Confidence Score',\n",
       "   'type': 'integer'}},\n",
       " 'required': ['justification', 'final_answer', 'confidence_score'],\n",
       " 'title': 'FinalAnswer',\n",
       " 'type': 'object',\n",
       " 'additionalProperties': False}"
      ]
     },
     "execution_count": 6,
     "metadata": {},
     "output_type": "execute_result"
    }
   ],
   "source": [
    "from openai.lib._pydantic import to_strict_json_schema\n",
    "to_strict_json_schema(FinalAnswer)"
   ]
  },
  {
   "cell_type": "code",
   "execution_count": 56,
   "metadata": {},
   "outputs": [],
   "source": [
    "response_format= {\"type\": \"json_schema\", \"json_schema\": {\"name\": \"math_response\", \"schema\": {'properties': {'justification': {'description': 'every steps that stated in prompt which isnt final answer or confidence score',\n",
    "   'title': 'Justification',\n",
    "   'type': 'string'},\n",
    "  'final_answer': {'description': 'The numerical final answer value. it should be 1 or 2 or 3 or 4',\n",
    "   'title': 'Final Answer',\n",
    "   'type': 'integer'},\n",
    "  'confidence_score': {'description': 'A score indicating the confidence level of the final answer. from 1 to 10',\n",
    "   'title': 'Confidence Score',\n",
    "   'type': 'integer'}},\n",
    " 'required': ['justification', 'final_answer', 'confidence_score'],\n",
    " 'title': 'FinalAnswer',\n",
    " 'type': 'object',\n",
    " 'additionalProperties': False}, \"strict\": True}}"
   ]
  },
  {
   "cell_type": "code",
   "execution_count": 61,
   "metadata": {},
   "outputs": [],
   "source": [
    "def get_categories():\n",
    "    response = open_client.chat.completions.create(\n",
    "    model=\"o3-mini\",\n",
    "    # This is to enable JSON mode, making sure responses are valid json objects\n",
    "    response_format=response_format,\n",
    "    messages=[\n",
    "        {\n",
    "            \"role\": \"user\",\n",
    "            \"content\": prompts[\"cot_10\"].format(medical_mcq=question_1)\n",
    "        }\n",
    "    ],\n",
    "    )\n",
    "\n",
    "    return response.choices[0].message.content"
   ]
  },
  {
   "cell_type": "code",
   "execution_count": 62,
   "metadata": {},
   "outputs": [],
   "source": [
    "res = get_categories()"
   ]
  },
  {
   "cell_type": "code",
   "execution_count": 63,
   "metadata": {},
   "outputs": [
    {
     "data": {
      "text/plain": [
       "'{\\n  \"justification\": \"The patient’s presentation with chest pain that improves when sitting and worsens when lying down is characteristic of acute pericarditis. The typical electrocardiographic changes in acute pericarditis include diffuse ST segment elevation (often with a concave upward morphology) along with PR segment depressions, and reciprocal ST depressions in lead aVR (and sometimes V1). Option 1, which describes a downsloping ST segment in leads aVR and V1, best corresponds to these reciprocal changes. The other options describe findings that are more characteristic of myocardial infarction (such as Q waves) or do not reflect the typical ECG progression seen in acute pericarditis.\",\\n  \"final_answer\": 1,\\n  \"confidence_score\": 9\\n}'"
      ]
     },
     "execution_count": 63,
     "metadata": {},
     "output_type": "execute_result"
    }
   ],
   "source": [
    "res"
   ]
  },
  {
   "cell_type": "code",
   "execution_count": 32,
   "metadata": {},
   "outputs": [],
   "source": [
    "# Creating an array of json tasks\n",
    "\n",
    "tasks = []\n",
    "\n",
    "for index, row in sampled_df_300.iterrows():\n",
    "    \n",
    "    question = row['translated_text']\n",
    "    \n",
    "    task = {\n",
    "        \"custom_id\": f\"task-{index}\",\n",
    "        \"method\": \"POST\",\n",
    "        \"url\": \"/v1/chat/completions\",\n",
    "        \"body\": {\n",
    "            # This is what you would have in your Chat Completions API call\n",
    "            \"model\": \"gpt-4o-2024-08-06\",\n",
    "            \"temperature\": 0.3,\n",
    "            \"response_format\": {\"type\": \"json_schema\", \"json_schema\": {\"name\": \"math_response\", \"schema\": {'properties': {'justification': {'description': 'every steps that stated in prompt which isnt final answer or confidence score',\n",
    "   'title': 'Justification',\n",
    "   'type': 'string'},\n",
    "  'final_answer': {'description': 'The numerical final answer value. it should be 1 or 2 or 3 or 4',\n",
    "   'title': 'Final Answer',\n",
    "   'type': 'integer'},\n",
    "  'confidence_score': {'description': 'A score indicating the confidence level of the final answer. from 1 to 10',\n",
    "   'title': 'Confidence Score',\n",
    "   'type': 'integer'}},\n",
    " 'required': ['justification', 'final_answer', 'confidence_score'],\n",
    " 'title': 'FinalAnswer',\n",
    " 'type': 'object',\n",
    " 'additionalProperties': False}, \"strict\": True}},\n",
    "            \"messages\": [\n",
    "                {\n",
    "                    \"role\": \"user\",\n",
    "                    \"content\": prompts[\"few_shot_qual\"].format(medical_mcq=question_1)\n",
    "                }\n",
    "            ],\n",
    "            \"logprobs\":True,\n",
    "            \"top_logprobs\":1,\n",
    "        }\n",
    "    }\n",
    "    \n",
    "    tasks.append(task)"
   ]
  },
  {
   "cell_type": "code",
   "execution_count": 33,
   "metadata": {},
   "outputs": [],
   "source": [
    "# Creating the file\n",
    "\n",
    "file_name = f\"{final_name}.jsonl\"\n",
    "\n",
    "with open(file_name, 'w') as file:\n",
    "    for obj in tasks:\n",
    "        file.write(json.dumps(obj) + '\\n')"
   ]
  },
  {
   "cell_type": "code",
   "execution_count": 34,
   "metadata": {},
   "outputs": [],
   "source": [
    "batch_file = open_client.files.create(\n",
    "  file=open(file_name, \"rb\"),\n",
    "  purpose=\"batch\"\n",
    ")"
   ]
  },
  {
   "cell_type": "code",
   "execution_count": 35,
   "metadata": {},
   "outputs": [
    {
     "name": "stdout",
     "output_type": "stream",
     "text": [
      "FileObject(id='file-JYAHGstZ2dwVLYeoGGAPvH', bytes=955090, created_at=1738592715, filename='M_gpt-4o-2024-08-06_T_0.3_P_few_shot_qual.jsonl', object='file', purpose='batch', status='processed', status_details=None)\n"
     ]
    }
   ],
   "source": [
    "print(batch_file)"
   ]
  },
  {
   "cell_type": "code",
   "execution_count": 36,
   "metadata": {},
   "outputs": [],
   "source": [
    "batch_job = open_client.batches.create(\n",
    "  input_file_id=batch_file.id,\n",
    "  endpoint=\"/v1/chat/completions\",\n",
    "  completion_window=\"24h\"\n",
    ")"
   ]
  },
  {
   "cell_type": "code",
   "execution_count": 40,
   "metadata": {},
   "outputs": [
    {
     "name": "stdout",
     "output_type": "stream",
     "text": [
      "Batch(id='batch_67a0d1f1482081908f87250daaa82199', completion_window='24h', created_at=1738592753, endpoint='/v1/chat/completions', input_file_id='file-JYAHGstZ2dwVLYeoGGAPvH', object='batch', status='completed', cancelled_at=None, cancelling_at=None, completed_at=1738592959, error_file_id=None, errors=None, expired_at=None, expires_at=1738679153, failed_at=None, finalizing_at=1738592932, in_progress_at=1738592755, metadata=None, output_file_id='file-HfGXVAEqDhEu17p291SXFm', request_counts=BatchRequestCounts(completed=300, failed=0, total=300))\n"
     ]
    }
   ],
   "source": [
    "batch_job = open_client.batches.retrieve(batch_job.id)\n",
    "print(batch_job)"
   ]
  },
  {
   "cell_type": "code",
   "execution_count": 41,
   "metadata": {},
   "outputs": [],
   "source": [
    "result_file_id = batch_job.output_file_id\n",
    "result = open_client.files.content(result_file_id).content\n",
    "result_file_name = f\"saved/{final_name}.jsonl\"\n",
    "\n",
    "with open(result_file_name, 'wb') as file:\n",
    "    file.write(result)"
   ]
  },
  {
   "cell_type": "code",
   "execution_count": null,
   "metadata": {},
   "outputs": [],
   "source": [
    "\"response_format\"= {\"type\": \"json_schema\", \"json_schema\": {\"name\": \"math_response\", \"schema\": {\"type\": \"object\", \"properties\": {\"steps\": {\"type\": \"array\", \"items\": {\"type\": \"object\", \"properties\": {\"explanation\": {\"type\": \"string\"}, \"output\": {\"type\": \"string\"}}, \"required\": [\"explanation\", \"output\"], \"additionalProperties\": false}}, \"final_answer\": {\"type\": \"string\"}}, \"required\": [\"steps\", \"final_answer\"], \"additionalProperties\": false}, \"strict\": true}}"
   ]
  },
  {
   "cell_type": "code",
   "execution_count": null,
   "metadata": {},
   "outputs": [],
   "source": [
    "tasks = []\n",
    "\n",
    "for index, row in df.iterrows():\n",
    "    \n",
    "    description = row['Overview']\n",
    "    \n",
    "    task = {\n",
    "        \"custom_id\": f\"task-{index}\",\n",
    "        \"method\": \"POST\",\n",
    "        \"url\": \"/v1/chat/completions\",\n",
    "        \"body\": {\n",
    "            # This is what you would have in your Chat Completions API call\n",
    "            \"model\": \"gpt-4o-mini\",\n",
    "            \"temperature\": 0.1,\n",
    "            \"response_format\": { \n",
    "                \"type\": \"json_object\"\n",
    "            },\n",
    "            \"messages\": [\n",
    "                {\n",
    "                    \"role\": \"system\",\n",
    "                    \"content\": categorize_system_prompt\n",
    "                },\n",
    "                {\n",
    "                    \"role\": \"user\",\n",
    "                    \"content\": description\n",
    "                }\n",
    "            ],\n",
    "        }\n",
    "    }\n",
    "    \n",
    "    tasks.append(task)"
   ]
  }
 ],
 "metadata": {
  "kernelspec": {
   "display_name": "base",
   "language": "python",
   "name": "python3"
  },
  "language_info": {
   "codemirror_mode": {
    "name": "ipython",
    "version": 3
   },
   "file_extension": ".py",
   "mimetype": "text/x-python",
   "name": "python",
   "nbconvert_exporter": "python",
   "pygments_lexer": "ipython3",
   "version": "3.12.3"
  }
 },
 "nbformat": 4,
 "nbformat_minor": 2
}
